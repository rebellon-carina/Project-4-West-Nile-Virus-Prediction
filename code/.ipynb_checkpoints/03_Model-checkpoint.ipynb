{
 "cells": [
  {
   "cell_type": "markdown",
   "metadata": {
    "cell_id": "f8f76d06-57b2-4294-8b4a-019dcaecea07",
    "deepnote_cell_height": 197,
    "deepnote_cell_type": "markdown",
    "tags": []
   },
   "source": [
    "### Problem Statement \n",
    "\n",
    "Our team aims to build a classifier model to predict presence of West Nile Virus in Chicago supporting the Chicago Department of Public Health in its efforts to prevent West Nile Virus, enabling the Chicago Department of Public Health to redirect its resources to the appropriate infected areas and lower the number of human infections.\n",
    "\n",
    "- 1.0 Baseline model\n",
    "- 2.0 Logistic Regression using original dataset\n",
    "- 3.0 RidgeClassifier with oversampling (SMOTE)\n",
    "- 4.0 Coefficients from Ridge\n",
    "- 5.0 First Check-in > ROC in Kaggle's Dataset\n",
    "- 6.0 Deep Learning using tensorflow\n",
    "- 7.0 Building pipeline\n",
    "- 8.0 Summary"
   ]
  },
  {
   "cell_type": "code",
   "execution_count": 1,
   "metadata": {
    "cell_id": "00001-76c08e4f-0336-49b1-a633-a10020bb1d1f",
    "deepnote_cell_height": 477,
    "deepnote_cell_type": "code",
    "deepnote_to_be_reexecuted": false,
    "execution_millis": 8910,
    "execution_start": 1648801253313,
    "source_hash": "1a37ff39",
    "tags": []
   },
   "outputs": [],
   "source": [
    "#!pip install -U imbalanced-learn"
   ]
  },
  {
   "cell_type": "code",
   "execution_count": 2,
   "metadata": {
    "cell_id": "00002-931de3a5-8788-4ce1-98e7-827a38ff4b87",
    "deepnote_cell_height": 333,
    "deepnote_cell_type": "code",
    "deepnote_to_be_reexecuted": false,
    "execution_millis": 3893,
    "execution_start": 1648801262239,
    "source_hash": "9d56d6b7",
    "tags": []
   },
   "outputs": [],
   "source": [
    "#import the packages\n",
    "import pandas as pd\n",
    "import matplotlib.pyplot as plt\n",
    "\n",
    "#from sklearn.pipeline import Pipeline\n",
    "from imblearn.pipeline import Pipeline\n",
    "\n",
    "from sklearn.linear_model import LogisticRegression, RidgeClassifier\n",
    "from sklearn.model_selection import train_test_split, StratifiedKFold, GridSearchCV\n",
    "from sklearn.metrics import confusion_matrix, plot_confusion_matrix, roc_auc_score\n",
    "from sklearn.metrics import classification_report\n",
    "from sklearn.metrics import f1_score, precision_score, recall_score, accuracy_score\n",
    "    \n",
    "from imblearn.over_sampling import SMOTE\n",
    "from sklearn.preprocessing import StandardScaler\n",
    "from sklearn.linear_model import LogisticRegression, RidgeClassifier\n",
    "from sklearn.ensemble import RandomForestClassifier,GradientBoostingClassifier, ExtraTreesClassifier, AdaBoostClassifier\n",
    "\n",
    "import matplotlib.pyplot as plt\n",
    "import seaborn as sns\n",
    "\n",
    "from tensorflow.keras.optimizers import Adam, SGD\n",
    "from keras.models import Sequential\n",
    "from keras.layers import Dense, Dropout\n",
    "from keras.utils import np_utils\n",
    "from tensorflow.keras.utils import to_categorical\n",
    "from tensorflow.keras.callbacks import EarlyStopping\n"
   ]
  },
  {
   "cell_type": "code",
   "execution_count": 3,
   "metadata": {
    "cell_id": "00003-128edd18-dbf7-4e4b-9754-08dfcaf4f19d",
    "deepnote_cell_height": 117,
    "deepnote_cell_type": "code",
    "deepnote_to_be_reexecuted": false,
    "execution_millis": 2323,
    "execution_start": 1648801266132,
    "source_hash": "47752978",
    "tags": []
   },
   "outputs": [],
   "source": [
    "#load the data that has been preprocessed\n",
    "\n",
    "df_train = pd.read_csv(\"../datasets/train_modelready.csv\")\n",
    "df_predict = pd.read_csv(\"../datasets/test_modelready.csv\")\n"
   ]
  },
  {
   "cell_type": "code",
   "execution_count": 4,
   "metadata": {},
   "outputs": [
    {
     "name": "stdout",
     "output_type": "stream",
     "text": [
      "Train : (8610, 196)  Predict : (116293, 196)\n"
     ]
    }
   ],
   "source": [
    "print(\"Train :\", df_train.shape, \" Predict :\", df_predict.shape)"
   ]
  },
  {
   "cell_type": "code",
   "execution_count": 5,
   "metadata": {},
   "outputs": [
    {
     "data": {
      "text/plain": [
       "0"
      ]
     },
     "execution_count": 5,
     "metadata": {},
     "output_type": "execute_result"
    }
   ],
   "source": [
    "df_train.isnull().sum().sum()"
   ]
  },
  {
   "cell_type": "code",
   "execution_count": 6,
   "metadata": {
    "cell_id": "00004-1c5fbf80-b0f0-4d9c-8566-dd0601c8106b",
    "deepnote_cell_height": 598,
    "deepnote_cell_type": "code",
    "deepnote_to_be_reexecuted": false,
    "execution_millis": 1313,
    "execution_start": 1648801268464,
    "source_hash": "d9669536",
    "tags": []
   },
   "outputs": [
    {
     "data": {
      "text/html": [
       "<div>\n",
       "<style scoped>\n",
       "    .dataframe tbody tr th:only-of-type {\n",
       "        vertical-align: middle;\n",
       "    }\n",
       "\n",
       "    .dataframe tbody tr th {\n",
       "        vertical-align: top;\n",
       "    }\n",
       "\n",
       "    .dataframe thead th {\n",
       "        text-align: right;\n",
       "    }\n",
       "</style>\n",
       "<table border=\"1\" class=\"dataframe\">\n",
       "  <thead>\n",
       "    <tr style=\"text-align: right;\">\n",
       "      <th></th>\n",
       "      <th>Date</th>\n",
       "      <th>Block</th>\n",
       "      <th>Latitude</th>\n",
       "      <th>Longitude</th>\n",
       "      <th>WnvPresent</th>\n",
       "      <th>year</th>\n",
       "      <th>month</th>\n",
       "      <th>SeaLevel</th>\n",
       "      <th>Sunrise</th>\n",
       "      <th>Sunset</th>\n",
       "      <th>...</th>\n",
       "      <th>'BCFG'</th>\n",
       "      <th>'BR'</th>\n",
       "      <th>'DZ'</th>\n",
       "      <th>'FG'</th>\n",
       "      <th>'FG+'</th>\n",
       "      <th>'HZ'</th>\n",
       "      <th>'RA'</th>\n",
       "      <th>'TS'</th>\n",
       "      <th>'TSRA'</th>\n",
       "      <th>'VCTS'</th>\n",
       "    </tr>\n",
       "  </thead>\n",
       "  <tbody>\n",
       "    <tr>\n",
       "      <th>count</th>\n",
       "      <td>8610</td>\n",
       "      <td>8610.000000</td>\n",
       "      <td>8610.000000</td>\n",
       "      <td>8610.000000</td>\n",
       "      <td>8610.000000</td>\n",
       "      <td>8610.000000</td>\n",
       "      <td>8610.000000</td>\n",
       "      <td>8610.000000</td>\n",
       "      <td>8610.000000</td>\n",
       "      <td>8610.000000</td>\n",
       "      <td>...</td>\n",
       "      <td>8610.0</td>\n",
       "      <td>8610.000000</td>\n",
       "      <td>8610.000000</td>\n",
       "      <td>8610.000000</td>\n",
       "      <td>8610.0</td>\n",
       "      <td>8610.000000</td>\n",
       "      <td>8610.000000</td>\n",
       "      <td>8610.000000</td>\n",
       "      <td>8610.000000</td>\n",
       "      <td>8610.000000</td>\n",
       "    </tr>\n",
       "    <tr>\n",
       "      <th>unique</th>\n",
       "      <td>95</td>\n",
       "      <td>NaN</td>\n",
       "      <td>NaN</td>\n",
       "      <td>NaN</td>\n",
       "      <td>NaN</td>\n",
       "      <td>NaN</td>\n",
       "      <td>NaN</td>\n",
       "      <td>NaN</td>\n",
       "      <td>NaN</td>\n",
       "      <td>NaN</td>\n",
       "      <td>...</td>\n",
       "      <td>NaN</td>\n",
       "      <td>NaN</td>\n",
       "      <td>NaN</td>\n",
       "      <td>NaN</td>\n",
       "      <td>NaN</td>\n",
       "      <td>NaN</td>\n",
       "      <td>NaN</td>\n",
       "      <td>NaN</td>\n",
       "      <td>NaN</td>\n",
       "      <td>NaN</td>\n",
       "    </tr>\n",
       "    <tr>\n",
       "      <th>top</th>\n",
       "      <td>2007-08-01</td>\n",
       "      <td>NaN</td>\n",
       "      <td>NaN</td>\n",
       "      <td>NaN</td>\n",
       "      <td>NaN</td>\n",
       "      <td>NaN</td>\n",
       "      <td>NaN</td>\n",
       "      <td>NaN</td>\n",
       "      <td>NaN</td>\n",
       "      <td>NaN</td>\n",
       "      <td>...</td>\n",
       "      <td>NaN</td>\n",
       "      <td>NaN</td>\n",
       "      <td>NaN</td>\n",
       "      <td>NaN</td>\n",
       "      <td>NaN</td>\n",
       "      <td>NaN</td>\n",
       "      <td>NaN</td>\n",
       "      <td>NaN</td>\n",
       "      <td>NaN</td>\n",
       "      <td>NaN</td>\n",
       "    </tr>\n",
       "    <tr>\n",
       "      <th>freq</th>\n",
       "      <td>283</td>\n",
       "      <td>NaN</td>\n",
       "      <td>NaN</td>\n",
       "      <td>NaN</td>\n",
       "      <td>NaN</td>\n",
       "      <td>NaN</td>\n",
       "      <td>NaN</td>\n",
       "      <td>NaN</td>\n",
       "      <td>NaN</td>\n",
       "      <td>NaN</td>\n",
       "      <td>...</td>\n",
       "      <td>NaN</td>\n",
       "      <td>NaN</td>\n",
       "      <td>NaN</td>\n",
       "      <td>NaN</td>\n",
       "      <td>NaN</td>\n",
       "      <td>NaN</td>\n",
       "      <td>NaN</td>\n",
       "      <td>NaN</td>\n",
       "      <td>NaN</td>\n",
       "      <td>NaN</td>\n",
       "    </tr>\n",
       "    <tr>\n",
       "      <th>mean</th>\n",
       "      <td>NaN</td>\n",
       "      <td>38.793380</td>\n",
       "      <td>41.844422</td>\n",
       "      <td>-87.695237</td>\n",
       "      <td>0.053078</td>\n",
       "      <td>2009.713821</td>\n",
       "      <td>7.705459</td>\n",
       "      <td>29.961850</td>\n",
       "      <td>469.738328</td>\n",
       "      <td>1868.086992</td>\n",
       "      <td>...</td>\n",
       "      <td>0.0</td>\n",
       "      <td>0.341463</td>\n",
       "      <td>0.018931</td>\n",
       "      <td>0.025784</td>\n",
       "      <td>0.0</td>\n",
       "      <td>0.198142</td>\n",
       "      <td>0.358420</td>\n",
       "      <td>0.127062</td>\n",
       "      <td>0.195122</td>\n",
       "      <td>0.052962</td>\n",
       "    </tr>\n",
       "    <tr>\n",
       "      <th>std</th>\n",
       "      <td>NaN</td>\n",
       "      <td>24.129378</td>\n",
       "      <td>0.107076</td>\n",
       "      <td>0.084921</td>\n",
       "      <td>0.224202</td>\n",
       "      <td>2.338148</td>\n",
       "      <td>1.103277</td>\n",
       "      <td>0.119783</td>\n",
       "      <td>46.620449</td>\n",
       "      <td>65.110913</td>\n",
       "      <td>...</td>\n",
       "      <td>0.0</td>\n",
       "      <td>0.474228</td>\n",
       "      <td>0.136291</td>\n",
       "      <td>0.158499</td>\n",
       "      <td>0.0</td>\n",
       "      <td>0.398623</td>\n",
       "      <td>0.479564</td>\n",
       "      <td>0.333061</td>\n",
       "      <td>0.396318</td>\n",
       "      <td>0.223970</td>\n",
       "    </tr>\n",
       "    <tr>\n",
       "      <th>min</th>\n",
       "      <td>NaN</td>\n",
       "      <td>10.000000</td>\n",
       "      <td>41.644612</td>\n",
       "      <td>-87.930995</td>\n",
       "      <td>0.000000</td>\n",
       "      <td>2007.000000</td>\n",
       "      <td>5.000000</td>\n",
       "      <td>29.595000</td>\n",
       "      <td>416.000000</td>\n",
       "      <td>1720.000000</td>\n",
       "      <td>...</td>\n",
       "      <td>0.0</td>\n",
       "      <td>0.000000</td>\n",
       "      <td>0.000000</td>\n",
       "      <td>0.000000</td>\n",
       "      <td>0.0</td>\n",
       "      <td>0.000000</td>\n",
       "      <td>0.000000</td>\n",
       "      <td>0.000000</td>\n",
       "      <td>0.000000</td>\n",
       "      <td>0.000000</td>\n",
       "    </tr>\n",
       "    <tr>\n",
       "      <th>25%</th>\n",
       "      <td>NaN</td>\n",
       "      <td>14.000000</td>\n",
       "      <td>41.750498</td>\n",
       "      <td>-87.752411</td>\n",
       "      <td>0.000000</td>\n",
       "      <td>2007.000000</td>\n",
       "      <td>7.000000</td>\n",
       "      <td>29.880000</td>\n",
       "      <td>427.000000</td>\n",
       "      <td>1826.000000</td>\n",
       "      <td>...</td>\n",
       "      <td>0.0</td>\n",
       "      <td>0.000000</td>\n",
       "      <td>0.000000</td>\n",
       "      <td>0.000000</td>\n",
       "      <td>0.0</td>\n",
       "      <td>0.000000</td>\n",
       "      <td>0.000000</td>\n",
       "      <td>0.000000</td>\n",
       "      <td>0.000000</td>\n",
       "      <td>0.000000</td>\n",
       "    </tr>\n",
       "    <tr>\n",
       "      <th>50%</th>\n",
       "      <td>NaN</td>\n",
       "      <td>37.000000</td>\n",
       "      <td>41.857402</td>\n",
       "      <td>-87.694991</td>\n",
       "      <td>0.000000</td>\n",
       "      <td>2009.000000</td>\n",
       "      <td>8.000000</td>\n",
       "      <td>29.970000</td>\n",
       "      <td>451.000000</td>\n",
       "      <td>1904.000000</td>\n",
       "      <td>...</td>\n",
       "      <td>0.0</td>\n",
       "      <td>0.000000</td>\n",
       "      <td>0.000000</td>\n",
       "      <td>0.000000</td>\n",
       "      <td>0.0</td>\n",
       "      <td>0.000000</td>\n",
       "      <td>0.000000</td>\n",
       "      <td>0.000000</td>\n",
       "      <td>0.000000</td>\n",
       "      <td>0.000000</td>\n",
       "    </tr>\n",
       "    <tr>\n",
       "      <th>75%</th>\n",
       "      <td>NaN</td>\n",
       "      <td>58.000000</td>\n",
       "      <td>41.944869</td>\n",
       "      <td>-87.642984</td>\n",
       "      <td>0.000000</td>\n",
       "      <td>2011.000000</td>\n",
       "      <td>9.000000</td>\n",
       "      <td>30.050000</td>\n",
       "      <td>518.000000</td>\n",
       "      <td>1924.000000</td>\n",
       "      <td>...</td>\n",
       "      <td>0.0</td>\n",
       "      <td>1.000000</td>\n",
       "      <td>0.000000</td>\n",
       "      <td>0.000000</td>\n",
       "      <td>0.0</td>\n",
       "      <td>0.000000</td>\n",
       "      <td>1.000000</td>\n",
       "      <td>0.000000</td>\n",
       "      <td>0.000000</td>\n",
       "      <td>0.000000</td>\n",
       "    </tr>\n",
       "    <tr>\n",
       "      <th>max</th>\n",
       "      <td>NaN</td>\n",
       "      <td>98.000000</td>\n",
       "      <td>42.017430</td>\n",
       "      <td>-87.531635</td>\n",
       "      <td>1.000000</td>\n",
       "      <td>2013.000000</td>\n",
       "      <td>10.000000</td>\n",
       "      <td>30.330000</td>\n",
       "      <td>557.000000</td>\n",
       "      <td>1931.000000</td>\n",
       "      <td>...</td>\n",
       "      <td>0.0</td>\n",
       "      <td>1.000000</td>\n",
       "      <td>1.000000</td>\n",
       "      <td>1.000000</td>\n",
       "      <td>0.0</td>\n",
       "      <td>1.000000</td>\n",
       "      <td>1.000000</td>\n",
       "      <td>1.000000</td>\n",
       "      <td>1.000000</td>\n",
       "      <td>1.000000</td>\n",
       "    </tr>\n",
       "  </tbody>\n",
       "</table>\n",
       "<p>11 rows × 196 columns</p>\n",
       "</div>"
      ],
      "text/plain": [
       "              Date        Block     Latitude    Longitude   WnvPresent  \\\n",
       "count         8610  8610.000000  8610.000000  8610.000000  8610.000000   \n",
       "unique          95          NaN          NaN          NaN          NaN   \n",
       "top     2007-08-01          NaN          NaN          NaN          NaN   \n",
       "freq           283          NaN          NaN          NaN          NaN   \n",
       "mean           NaN    38.793380    41.844422   -87.695237     0.053078   \n",
       "std            NaN    24.129378     0.107076     0.084921     0.224202   \n",
       "min            NaN    10.000000    41.644612   -87.930995     0.000000   \n",
       "25%            NaN    14.000000    41.750498   -87.752411     0.000000   \n",
       "50%            NaN    37.000000    41.857402   -87.694991     0.000000   \n",
       "75%            NaN    58.000000    41.944869   -87.642984     0.000000   \n",
       "max            NaN    98.000000    42.017430   -87.531635     1.000000   \n",
       "\n",
       "               year        month     SeaLevel      Sunrise       Sunset  ...  \\\n",
       "count   8610.000000  8610.000000  8610.000000  8610.000000  8610.000000  ...   \n",
       "unique          NaN          NaN          NaN          NaN          NaN  ...   \n",
       "top             NaN          NaN          NaN          NaN          NaN  ...   \n",
       "freq            NaN          NaN          NaN          NaN          NaN  ...   \n",
       "mean    2009.713821     7.705459    29.961850   469.738328  1868.086992  ...   \n",
       "std        2.338148     1.103277     0.119783    46.620449    65.110913  ...   \n",
       "min     2007.000000     5.000000    29.595000   416.000000  1720.000000  ...   \n",
       "25%     2007.000000     7.000000    29.880000   427.000000  1826.000000  ...   \n",
       "50%     2009.000000     8.000000    29.970000   451.000000  1904.000000  ...   \n",
       "75%     2011.000000     9.000000    30.050000   518.000000  1924.000000  ...   \n",
       "max     2013.000000    10.000000    30.330000   557.000000  1931.000000  ...   \n",
       "\n",
       "        'BCFG'         'BR'         'DZ'         'FG'   'FG+'         'HZ'  \\\n",
       "count   8610.0  8610.000000  8610.000000  8610.000000  8610.0  8610.000000   \n",
       "unique     NaN          NaN          NaN          NaN     NaN          NaN   \n",
       "top        NaN          NaN          NaN          NaN     NaN          NaN   \n",
       "freq       NaN          NaN          NaN          NaN     NaN          NaN   \n",
       "mean       0.0     0.341463     0.018931     0.025784     0.0     0.198142   \n",
       "std        0.0     0.474228     0.136291     0.158499     0.0     0.398623   \n",
       "min        0.0     0.000000     0.000000     0.000000     0.0     0.000000   \n",
       "25%        0.0     0.000000     0.000000     0.000000     0.0     0.000000   \n",
       "50%        0.0     0.000000     0.000000     0.000000     0.0     0.000000   \n",
       "75%        0.0     1.000000     0.000000     0.000000     0.0     0.000000   \n",
       "max        0.0     1.000000     1.000000     1.000000     0.0     1.000000   \n",
       "\n",
       "               'RA'         'TS'       'TSRA'       'VCTS'  \n",
       "count   8610.000000  8610.000000  8610.000000  8610.000000  \n",
       "unique          NaN          NaN          NaN          NaN  \n",
       "top             NaN          NaN          NaN          NaN  \n",
       "freq            NaN          NaN          NaN          NaN  \n",
       "mean       0.358420     0.127062     0.195122     0.052962  \n",
       "std        0.479564     0.333061     0.396318     0.223970  \n",
       "min        0.000000     0.000000     0.000000     0.000000  \n",
       "25%        0.000000     0.000000     0.000000     0.000000  \n",
       "50%        0.000000     0.000000     0.000000     0.000000  \n",
       "75%        1.000000     0.000000     0.000000     0.000000  \n",
       "max        1.000000     1.000000     1.000000     1.000000  \n",
       "\n",
       "[11 rows x 196 columns]"
      ]
     },
     "execution_count": 6,
     "metadata": {},
     "output_type": "execute_result"
    }
   ],
   "source": [
    "df_train.describe(include='all')"
   ]
  },
  {
   "cell_type": "markdown",
   "metadata": {},
   "source": [
    "## 1.0 Baseline model - Preprocessing"
   ]
  },
  {
   "cell_type": "code",
   "execution_count": 7,
   "metadata": {},
   "outputs": [
    {
     "data": {
      "text/plain": [
       "0    0.946922\n",
       "1    0.053078\n",
       "Name: WnvPresent, dtype: float64"
      ]
     },
     "execution_count": 7,
     "metadata": {},
     "output_type": "execute_result"
    }
   ],
   "source": [
    "df_train['WnvPresent'].value_counts(normalize=True)"
   ]
  },
  {
   "cell_type": "markdown",
   "metadata": {},
   "source": [
    "***Our negative class is (WNV is not present) is 95%, we have imbalance dataset***"
   ]
  },
  {
   "cell_type": "code",
   "execution_count": 8,
   "metadata": {
    "cell_id": "00007-2f4aaffa-df90-48a3-99d6-c6335be5386c",
    "deepnote_cell_height": 117,
    "deepnote_cell_type": "code",
    "deepnote_to_be_reexecuted": false,
    "execution_millis": 4,
    "execution_start": 1648801269786,
    "source_hash": "95a1ee70",
    "tags": []
   },
   "outputs": [],
   "source": [
    "#Define X, and Y\n",
    "X=df_train.drop(columns=['Date','WnvPresent'])\n",
    "y=df_train['WnvPresent']"
   ]
  },
  {
   "cell_type": "code",
   "execution_count": 9,
   "metadata": {
    "cell_id": "00008-d474d550-05e0-4d4d-8eba-9448dc96ccd4",
    "deepnote_cell_height": 117,
    "deepnote_cell_type": "code",
    "deepnote_to_be_reexecuted": false,
    "execution_millis": 22,
    "execution_start": 1648801269794,
    "source_hash": "4c23f2fb",
    "tags": []
   },
   "outputs": [],
   "source": [
    "#Train, Test, Split\n",
    "\n",
    "X_train, X_test, y_train, y_test = train_test_split(X,y, stratify=y, shuffle=True)"
   ]
  },
  {
   "cell_type": "code",
   "execution_count": 10,
   "metadata": {
    "cell_id": "00009-a705bc79-5516-42d2-ac4f-22e7fe40c410",
    "deepnote_cell_height": 112,
    "deepnote_cell_type": "code",
    "deepnote_to_be_reexecuted": false,
    "execution_millis": 0,
    "execution_start": 1648801269822,
    "source_hash": "72d4fff8",
    "tags": []
   },
   "outputs": [
    {
     "name": "stdout",
     "output_type": "stream",
     "text": [
      "(6457, 194) (6457,)\n"
     ]
    }
   ],
   "source": [
    "print(X_train.shape, y_train.shape)"
   ]
  },
  {
   "cell_type": "code",
   "execution_count": 11,
   "metadata": {},
   "outputs": [
    {
     "name": "stdout",
     "output_type": "stream",
     "text": [
      "(2153, 194) (2153,)\n"
     ]
    }
   ],
   "source": [
    "print(X_test.shape, y_test.shape)"
   ]
  },
  {
   "cell_type": "code",
   "execution_count": 12,
   "metadata": {},
   "outputs": [],
   "source": [
    "#let's scale our X \n",
    "\n",
    "sc = StandardScaler()\n",
    "X_train_scaled = sc.fit_transform(X_train)\n",
    "X_test_scaled = sc.transform(X_test)"
   ]
  },
  {
   "cell_type": "markdown",
   "metadata": {
    "cell_id": "00010-212c9d9a-618f-4ddd-a6c8-06df184d0075",
    "deepnote_cell_height": 62,
    "deepnote_cell_type": "markdown",
    "tags": []
   },
   "source": [
    "### 2.0 Logistic Regression without SMOTE"
   ]
  },
  {
   "cell_type": "code",
   "execution_count": 13,
   "metadata": {
    "cell_id": "00011-d43b6ca0-f2a4-4fae-b398-6ba7854e5d75",
    "deepnote_cell_height": 136,
    "deepnote_cell_type": "code",
    "deepnote_output_heights": [
     21
    ],
    "deepnote_to_be_reexecuted": false,
    "execution_millis": 27673,
    "execution_start": 1648801269837,
    "source_hash": "c57824f8",
    "tags": []
   },
   "outputs": [
    {
     "data": {
      "text/plain": [
       "LogisticRegression(max_iter=10000, random_state=42)"
      ]
     },
     "execution_count": 13,
     "metadata": {},
     "output_type": "execute_result"
    }
   ],
   "source": [
    "lr = LogisticRegression(random_state = 42,max_iter=10000)\n",
    "lr.fit(X_train_scaled, y_train)"
   ]
  },
  {
   "cell_type": "code",
   "execution_count": 14,
   "metadata": {
    "cell_id": "00013-856d5232-d7fc-4c14-bb24-9bfd300ebb0b",
    "deepnote_cell_height": 148,
    "deepnote_cell_type": "code",
    "deepnote_to_be_reexecuted": false,
    "execution_millis": 47,
    "execution_start": 1648801297588,
    "source_hash": "503bc500",
    "tags": []
   },
   "outputs": [],
   "source": [
    "#predict test dataset\n",
    "y_preds = lr.predict(X_test_scaled)"
   ]
  },
  {
   "cell_type": "code",
   "execution_count": 15,
   "metadata": {
    "cell_id": "00014-86360f11-883c-4759-bb7e-0fece752dc0d",
    "deepnote_cell_height": 555,
    "deepnote_cell_type": "code",
    "deepnote_output_heights": [
     null,
     21,
     264
    ],
    "deepnote_to_be_reexecuted": false,
    "execution_millis": 670,
    "execution_start": 1648801297643,
    "source_hash": "a51242c8",
    "tags": []
   },
   "outputs": [
    {
     "name": "stderr",
     "output_type": "stream",
     "text": [
      "/opt/anaconda3/lib/python3.8/site-packages/sklearn/utils/deprecation.py:87: FutureWarning: Function plot_confusion_matrix is deprecated; Function `plot_confusion_matrix` is deprecated in 1.0 and will be removed in 1.2. Use one of the class methods: ConfusionMatrixDisplay.from_predictions or ConfusionMatrixDisplay.from_estimator.\n",
      "  warnings.warn(msg, category=FutureWarning)\n"
     ]
    },
    {
     "data": {
      "text/plain": [
       "<sklearn.metrics._plot.confusion_matrix.ConfusionMatrixDisplay at 0x7f8b738327c0>"
      ]
     },
     "execution_count": 15,
     "metadata": {},
     "output_type": "execute_result"
    },
    {
     "data": {
      "image/png": "[encoded data removed]",
      "text/plain": [
       "<Figure size 432x288 with 2 Axes>"
      ]
     },
     "metadata": {
      "needs_background": "light"
     },
     "output_type": "display_data"
    }
   ],
   "source": [
    "#confusion matrix \n",
    "plot_confusion_matrix(lr, X_test_scaled, y_test)"
   ]
  },
  {
   "cell_type": "code",
   "execution_count": 16,
   "metadata": {
    "cell_id": "f036ef471def458d89559b4e1d09d333",
    "deepnote_cell_height": 148,
    "deepnote_cell_type": "code",
    "deepnote_to_be_reexecuted": false,
    "execution_millis": 30,
    "execution_start": 1648801298319,
    "source_hash": "a0a5f613",
    "tags": []
   },
   "outputs": [
    {
     "name": "stdout",
     "output_type": "stream",
     "text": [
      "2039 0 114 0\n"
     ]
    }
   ],
   "source": [
    "#confusion matrix details\n",
    "tn, fp, fn, tp = confusion_matrix(y_test, y_preds).ravel()\n",
    "print(tn, fp, fn, tp )"
   ]
  },
  {
   "cell_type": "code",
   "execution_count": 17,
   "metadata": {},
   "outputs": [
    {
     "name": "stderr",
     "output_type": "stream",
     "text": [
      "/opt/anaconda3/lib/python3.8/site-packages/sklearn/metrics/_classification.py:1318: UndefinedMetricWarning: Precision and F-score are ill-defined and being set to 0.0 in labels with no predicted samples. Use `zero_division` parameter to control this behavior.\n",
      "  _warn_prf(average, modifier, msg_start, len(result))\n"
     ]
    },
    {
     "name": "stdout",
     "output_type": "stream",
     "text": [
      "              precision    recall  f1-score   support\n",
      "\n",
      "           0       0.95      1.00      0.97      2039\n",
      "           1       0.00      0.00      0.00       114\n",
      "\n",
      "    accuracy                           0.95      2153\n",
      "   macro avg       0.47      0.50      0.49      2153\n",
      "weighted avg       0.90      0.95      0.92      2153\n",
      "\n"
     ]
    },
    {
     "name": "stderr",
     "output_type": "stream",
     "text": [
      "/opt/anaconda3/lib/python3.8/site-packages/sklearn/metrics/_classification.py:1318: UndefinedMetricWarning: Precision and F-score are ill-defined and being set to 0.0 in labels with no predicted samples. Use `zero_division` parameter to control this behavior.\n",
      "  _warn_prf(average, modifier, msg_start, len(result))\n",
      "/opt/anaconda3/lib/python3.8/site-packages/sklearn/metrics/_classification.py:1318: UndefinedMetricWarning: Precision and F-score are ill-defined and being set to 0.0 in labels with no predicted samples. Use `zero_division` parameter to control this behavior.\n",
      "  _warn_prf(average, modifier, msg_start, len(result))\n"
     ]
    }
   ],
   "source": [
    "print(classification_report(y_test, y_preds))"
   ]
  },
  {
   "cell_type": "code",
   "execution_count": 18,
   "metadata": {},
   "outputs": [
    {
     "name": "stdout",
     "output_type": "stream",
     "text": [
      "Train Score:  0.9464147436890197 Test Score:  0.9470506270320483\n",
      "ROC_AUC Score:  0.5\n"
     ]
    }
   ],
   "source": [
    "print('Train Score: ', lr.score(X_train_scaled, y_train), 'Test Score: ', lr.score(X_test_scaled, y_test))\n",
    "print('ROC_AUC Score: ', roc_auc_score(y_test, y_preds.ravel()))"
   ]
  },
  {
   "cell_type": "markdown",
   "metadata": {},
   "source": [
    "*The test score is 94%, however, if you look at the confusion matrix, it was able to accurately predict only 1 positive case. I think this is because we have imbalance dataset.*"
   ]
  },
  {
   "cell_type": "markdown",
   "metadata": {
    "cell_id": "00017-379829ed-22c8-427f-9ef2-69dbeec719c6",
    "deepnote_cell_height": 62,
    "deepnote_cell_type": "markdown",
    "tags": []
   },
   "source": [
    "### 3.0  SMOTE ( Synthetic Minority Oversampling Technique)\n",
    "(for Imbalanced Classification)\n",
    "#### RidgeClassifier will also be used to regularized the features as we have over 300 features"
   ]
  },
  {
   "cell_type": "code",
   "execution_count": 19,
   "metadata": {
    "cell_id": "00018-eead2e57-05df-46d0-beef-7a3ee8ced743",
    "deepnote_cell_height": 112,
    "deepnote_cell_type": "code",
    "deepnote_to_be_reexecuted": false,
    "execution_millis": 17,
    "execution_start": 1648801298371,
    "source_hash": "47ae7bc7",
    "tags": []
   },
   "outputs": [
    {
     "name": "stdout",
     "output_type": "stream",
     "text": [
      "Positive Class before SMOTE 5.3120644262041194  %\n"
     ]
    }
   ],
   "source": [
    "print('Positive Class before SMOTE', sum(y_train)/len(y_train) * 100, ' %')"
   ]
  },
  {
   "cell_type": "code",
   "execution_count": 20,
   "metadata": {
    "cell_id": "00019-99b7be19-b746-488d-8f45-8d5141a4c3b7",
    "deepnote_cell_height": 222,
    "deepnote_cell_type": "code",
    "deepnote_to_be_reexecuted": false,
    "execution_millis": 292,
    "execution_start": 1648801298398,
    "source_hash": "42488118",
    "tags": []
   },
   "outputs": [
    {
     "name": "stdout",
     "output_type": "stream",
     "text": [
      "(12228, 194) (12228,)\n",
      "Positive Class with SMOTE 50.0  %\n"
     ]
    }
   ],
   "source": [
    "smote = SMOTE()\n",
    "X_smote, y_smote = smote.fit_resample(X_train_scaled, y_train)\n",
    "\n",
    "print(X_smote.shape, y_smote.shape)\n",
    "print('Positive Class with SMOTE', sum(y_smote)/len(y_smote) * 100, ' %')\n"
   ]
  },
  {
   "cell_type": "code",
   "execution_count": 21,
   "metadata": {
    "cell_id": "00020-b95a9c8f-a1f1-4648-8422-9e0701d2c51e",
    "deepnote_cell_height": 136,
    "deepnote_cell_type": "code",
    "deepnote_output_heights": [
     21
    ],
    "deepnote_to_be_reexecuted": false,
    "execution_millis": 125766,
    "execution_start": 1648801298696,
    "source_hash": "8ea03839",
    "tags": []
   },
   "outputs": [
    {
     "data": {
      "text/plain": [
       "RidgeClassifier(random_state=42)"
      ]
     },
     "execution_count": 21,
     "metadata": {},
     "output_type": "execute_result"
    }
   ],
   "source": [
    "\n",
    "ridge = RidgeClassifier(random_state = 42)\n",
    "ridge.fit(X_smote, y_smote)"
   ]
  },
  {
   "cell_type": "code",
   "execution_count": 22,
   "metadata": {
    "cell_id": "00022-5e2a0719-7ca9-42a0-a520-a164450e65bf",
    "deepnote_cell_height": 148,
    "deepnote_cell_type": "code",
    "deepnote_to_be_reexecuted": false,
    "execution_millis": 46,
    "execution_start": 1648801424521,
    "source_hash": "6752c3a3",
    "tags": []
   },
   "outputs": [],
   "source": [
    "#predict test dataset\n",
    "y_preds = ridge.predict(X_test_scaled)"
   ]
  },
  {
   "cell_type": "code",
   "execution_count": 23,
   "metadata": {
    "cell_id": "00023-14ec665f-7afe-423a-be57-56c44f4fed8e",
    "deepnote_cell_height": 485,
    "deepnote_cell_type": "code",
    "deepnote_output_heights": [
     null,
     264
    ],
    "deepnote_to_be_reexecuted": false,
    "execution_millis": 440,
    "execution_start": 1648801424573,
    "source_hash": "e17eac8d",
    "tags": []
   },
   "outputs": [
    {
     "name": "stderr",
     "output_type": "stream",
     "text": [
      "/opt/anaconda3/lib/python3.8/site-packages/sklearn/utils/deprecation.py:87: FutureWarning: Function plot_confusion_matrix is deprecated; Function `plot_confusion_matrix` is deprecated in 1.0 and will be removed in 1.2. Use one of the class methods: ConfusionMatrixDisplay.from_predictions or ConfusionMatrixDisplay.from_estimator.\n",
      "  warnings.warn(msg, category=FutureWarning)\n"
     ]
    },
    {
     "data": {
      "image/png": "[encoded data removed]",
      "text/plain": [
       "<Figure size 432x288 with 2 Axes>"
      ]
     },
     "metadata": {
      "needs_background": "light"
     },
     "output_type": "display_data"
    }
   ],
   "source": [
    "#confusion matrix\n",
    "plot_confusion_matrix(ridge, X_test_scaled, y_test);"
   ]
  },
  {
   "cell_type": "code",
   "execution_count": 24,
   "metadata": {
    "cell_id": "00024-a4d60f2c-44de-4eed-8873-a7a194823971",
    "deepnote_cell_height": 148,
    "deepnote_cell_type": "code",
    "deepnote_to_be_reexecuted": false,
    "execution_millis": 17,
    "execution_start": 1648801425020,
    "source_hash": "a0a5f613",
    "tags": []
   },
   "outputs": [
    {
     "name": "stdout",
     "output_type": "stream",
     "text": [
      "1550 489 30 84\n"
     ]
    }
   ],
   "source": [
    "tn, fp, fn, tp = confusion_matrix(y_test, y_preds).ravel()\n",
    "print(tn, fp, fn, tp )"
   ]
  },
  {
   "cell_type": "code",
   "execution_count": 25,
   "metadata": {},
   "outputs": [
    {
     "name": "stdout",
     "output_type": "stream",
     "text": [
      "              precision    recall  f1-score   support\n",
      "\n",
      "           0       0.98      0.76      0.86      2039\n",
      "           1       0.15      0.74      0.24       114\n",
      "\n",
      "    accuracy                           0.76      2153\n",
      "   macro avg       0.56      0.75      0.55      2153\n",
      "weighted avg       0.94      0.76      0.82      2153\n",
      "\n"
     ]
    }
   ],
   "source": [
    "print(classification_report(y_test, y_preds))"
   ]
  },
  {
   "cell_type": "code",
   "execution_count": 26,
   "metadata": {},
   "outputs": [
    {
     "name": "stdout",
     "output_type": "stream",
     "text": [
      "Train Score:  0.7632027257240205 Test Score:  0.758941012540641\n",
      "ROC_AUC Score:  0.7485093311995045\n"
     ]
    }
   ],
   "source": [
    "print('Train Score: ', ridge.score(X_train_scaled, y_train), 'Test Score: ', ridge.score(X_test_scaled, y_test))\n",
    "print('ROC_AUC Score: ', roc_auc_score(y_test, y_preds.ravel()))"
   ]
  },
  {
   "cell_type": "markdown",
   "metadata": {},
   "source": [
    "***This is much better version where we use SMOTE and Ridge for regularizing our features***"
   ]
  },
  {
   "cell_type": "markdown",
   "metadata": {},
   "source": [
    "## 4.0 Coefficients (RidgeClassifier model)"
   ]
  },
  {
   "cell_type": "code",
   "execution_count": 27,
   "metadata": {
    "cell_id": "92dcccbf67024ad994e642bd5b7df5c3",
    "deepnote_cell_height": 66,
    "deepnote_cell_type": "code",
    "tags": []
   },
   "outputs": [],
   "source": [
    "# calculating coefficients\n",
    "coeff = pd.DataFrame(X_train.columns)\n",
    "coeff['Coefficient Estimate'] = pd.Series(ridge.coef_.tolist()[0])"
   ]
  },
  {
   "cell_type": "code",
   "execution_count": 28,
   "metadata": {},
   "outputs": [
    {
     "name": "stdout",
     "output_type": "stream",
     "text": [
      "<class 'pandas.core.frame.DataFrame'>\n",
      "RangeIndex: 194 entries, 0 to 193\n",
      "Data columns (total 2 columns):\n",
      " #   Column                Non-Null Count  Dtype  \n",
      "---  ------                --------------  -----  \n",
      " 0   Feature               194 non-null    object \n",
      " 1   Coefficient Estimate  194 non-null    float64\n",
      "dtypes: float64(1), object(1)\n",
      "memory usage: 3.2+ KB\n"
     ]
    }
   ],
   "source": [
    "coeff.rename(columns={0:\"Feature\"}, inplace=True)\n",
    "coeff.info()"
   ]
  },
  {
   "cell_type": "code",
   "execution_count": 29,
   "metadata": {},
   "outputs": [],
   "source": [
    "#we will use this for sorting\n",
    "coeff['abs_val'] = abs(coeff['Coefficient Estimate'])\n",
    "\n",
    "#top 50 features\n",
    "coeff_50 = coeff.sort_values(by='abs_val',ascending=False)[:50]\n"
   ]
  },
  {
   "cell_type": "code",
   "execution_count": 30,
   "metadata": {},
   "outputs": [
    {
     "data": {
      "image/png": "[encoded data removed]",
      "text/plain": [
       "<Figure size 720x720 with 1 Axes>"
      ]
     },
     "metadata": {
      "needs_background": "light"
     },
     "output_type": "display_data"
    }
   ],
   "source": [
    "#our top 50 coefficient using RidgeClassifier\n",
    "coeff_50.sort_values(by='abs_val').plot(y='Coefficient Estimate',x='Feature',kind='barh', figsize=(10,10), color='b', \n",
    "                                  title='Top 50 - LR');"
   ]
  },
  {
   "cell_type": "markdown",
   "metadata": {},
   "source": [
    "Most of the featured engineer appeared in the top coefficient"
   ]
  },
  {
   "cell_type": "markdown",
   "metadata": {},
   "source": [
    "### 5.0 First Check-in (Kaggle's test dataset) using RIDGE"
   ]
  },
  {
   "cell_type": "code",
   "execution_count": 31,
   "metadata": {},
   "outputs": [],
   "source": [
    "X_pred_scaled = sc.transform(df_predict.drop(columns=[\"Date\",\"Id\"]))"
   ]
  },
  {
   "cell_type": "code",
   "execution_count": 32,
   "metadata": {
    "scrolled": true
   },
   "outputs": [],
   "source": [
    "pred_csv = ridge.predict(X_pred_scaled)"
   ]
  },
  {
   "cell_type": "code",
   "execution_count": 33,
   "metadata": {},
   "outputs": [],
   "source": [
    "pred_submit = pd.DataFrame(pred_csv, columns=['WnvPresent'])\n",
    "pred_submit['Id'] = df_predict[\"Id\"]\n",
    "\n",
    "pred_submit[[\"Id\", 'WnvPresent']].to_csv(\"ridge_predict_local.csv\", index=False)"
   ]
  },
  {
   "cell_type": "code",
   "execution_count": 34,
   "metadata": {},
   "outputs": [
    {
     "data": {
      "image/png": "[encoded data removed]",
      "text/plain": [
       "<Figure size 360x216 with 1 Axes>"
      ]
     },
     "metadata": {
      "needs_background": "light"
     },
     "output_type": "display_data"
    }
   ],
   "source": [
    "plt.figure(figsize=(5, 3))\n",
    "plt.text(x = 0.5, y = 0.9, s = 'Ridge Regression Kaggle ROC-AUC Score:', ha = 'center', va = 'center', size = 20, alpha = 0.6)\n",
    "plt.text(x = 0.5, y = 0.55, s = '0.69', ha = 'center', va = 'center', size = 50, alpha = 1)\n",
    "plt.axis('off');"
   ]
  },
  {
   "cell_type": "markdown",
   "metadata": {},
   "source": [
    "### 6.0 Tensorflow - Keras"
   ]
  },
  {
   "cell_type": "code",
   "execution_count": 35,
   "metadata": {},
   "outputs": [],
   "source": [
    "#Define X, and Y\n",
    "X=df_train.drop(columns=['Date','WnvPresent'])\n",
    "y=df_train['WnvPresent']\n",
    "\n",
    "#Train, Test, Split\n",
    "X_train, X_test, y_train, y_test = train_test_split(X,y, stratify=y, shuffle=True)\n",
    "\n",
    "sc = StandardScaler()\n",
    "X_train_scaled = sc.fit_transform(X_train)\n",
    "X_test_scaled = sc.transform(X_test)\n",
    "\n",
    "smote = SMOTE()\n",
    "X_smote, y_smote = smote.fit_resample(X_train_scaled, y_train)\n"
   ]
  },
  {
   "cell_type": "code",
   "execution_count": 36,
   "metadata": {},
   "outputs": [
    {
     "name": "stdout",
     "output_type": "stream",
     "text": [
      "Model: \"sequential\"\n",
      "_________________________________________________________________\n",
      " Layer (type)                Output Shape              Param #   \n",
      "=================================================================\n",
      " dense (Dense)               (None, 300)               58500     \n",
      "                                                                 \n",
      " dense_1 (Dense)             (None, 100)               30100     \n",
      "                                                                 \n",
      " dense_2 (Dense)             (None, 80)                8080      \n",
      "                                                                 \n",
      " dropout (Dropout)           (None, 80)                0         \n",
      "                                                                 \n",
      " dense_3 (Dense)             (None, 50)                4050      \n",
      "                                                                 \n",
      " dense_4 (Dense)             (None, 20)                1020      \n",
      "                                                                 \n",
      " dense_5 (Dense)             (None, 1)                 21        \n",
      "                                                                 \n",
      "=================================================================\n",
      "Total params: 101,771\n",
      "Trainable params: 101,771\n",
      "Non-trainable params: 0\n",
      "_________________________________________________________________\n",
      "Epoch 1/100\n",
      "24/24 [==============================] - 1s 12ms/step - loss: 2.3840 - accuracy: 0.6874 - val_loss: 1.7569 - val_accuracy: 0.7366\n",
      "Epoch 2/100\n",
      "24/24 [==============================] - 0s 5ms/step - loss: 1.3250 - accuracy: 0.8510 - val_loss: 1.0638 - val_accuracy: 0.8254\n",
      "Epoch 3/100\n",
      "24/24 [==============================] - 0s 5ms/step - loss: 0.7877 - accuracy: 0.9037 - val_loss: 0.7397 - val_accuracy: 0.8514\n",
      "Epoch 4/100\n",
      "24/24 [==============================] - 0s 5ms/step - loss: 0.5086 - accuracy: 0.9346 - val_loss: 0.6458 - val_accuracy: 0.8593\n",
      "Epoch 5/100\n",
      "24/24 [==============================] - 0s 5ms/step - loss: 0.3761 - accuracy: 0.9487 - val_loss: 0.5344 - val_accuracy: 0.8876\n",
      "Epoch 6/100\n",
      "24/24 [==============================] - 0s 4ms/step - loss: 0.3035 - accuracy: 0.9556 - val_loss: 0.5471 - val_accuracy: 0.8690\n",
      "Epoch 7/100\n",
      "24/24 [==============================] - 0s 5ms/step - loss: 0.2642 - accuracy: 0.9581 - val_loss: 0.5448 - val_accuracy: 0.8834\n",
      "Epoch 8/100\n",
      "24/24 [==============================] - 0s 4ms/step - loss: 0.2420 - accuracy: 0.9589 - val_loss: 0.5109 - val_accuracy: 0.8908\n",
      "Epoch 9/100\n",
      "24/24 [==============================] - 0s 5ms/step - loss: 0.2217 - accuracy: 0.9639 - val_loss: 0.5262 - val_accuracy: 0.8946\n",
      "Epoch 10/100\n",
      "24/24 [==============================] - 0s 5ms/step - loss: 0.2083 - accuracy: 0.9645 - val_loss: 0.5211 - val_accuracy: 0.8820\n",
      "Epoch 11/100\n",
      "24/24 [==============================] - 0s 5ms/step - loss: 0.1974 - accuracy: 0.9648 - val_loss: 0.5254 - val_accuracy: 0.8881\n",
      "Epoch 12/100\n",
      "24/24 [==============================] - 0s 5ms/step - loss: 0.1870 - accuracy: 0.9657 - val_loss: 0.4959 - val_accuracy: 0.9015\n",
      "Epoch 13/100\n",
      "24/24 [==============================] - 0s 5ms/step - loss: 0.1845 - accuracy: 0.9630 - val_loss: 0.5367 - val_accuracy: 0.8876\n",
      "Epoch 14/100\n",
      "24/24 [==============================] - 0s 5ms/step - loss: 0.1852 - accuracy: 0.9630 - val_loss: 0.4789 - val_accuracy: 0.8992\n",
      "Epoch 15/100\n",
      "24/24 [==============================] - 0s 5ms/step - loss: 0.1711 - accuracy: 0.9670 - val_loss: 0.5239 - val_accuracy: 0.8960\n",
      "Epoch 16/100\n",
      "24/24 [==============================] - 0s 5ms/step - loss: 0.1639 - accuracy: 0.9683 - val_loss: 0.5112 - val_accuracy: 0.8950\n",
      "Epoch 17/100\n",
      "24/24 [==============================] - 0s 5ms/step - loss: 0.1621 - accuracy: 0.9666 - val_loss: 0.5188 - val_accuracy: 0.9011\n",
      "Epoch 18/100\n",
      "24/24 [==============================] - 0s 5ms/step - loss: 0.1619 - accuracy: 0.9679 - val_loss: 0.5164 - val_accuracy: 0.9001\n",
      "Epoch 19/100\n",
      "24/24 [==============================] - 0s 5ms/step - loss: 0.1510 - accuracy: 0.9688 - val_loss: 0.5613 - val_accuracy: 0.8895\n",
      "Epoch 20/100\n",
      "24/24 [==============================] - 0s 5ms/step - loss: 0.1456 - accuracy: 0.9688 - val_loss: 0.5246 - val_accuracy: 0.8969\n",
      "Epoch 21/100\n",
      "24/24 [==============================] - 0s 5ms/step - loss: 0.1495 - accuracy: 0.9683 - val_loss: 0.4951 - val_accuracy: 0.8969\n",
      "Epoch 22/100\n",
      "24/24 [==============================] - 0s 5ms/step - loss: 0.1431 - accuracy: 0.9703 - val_loss: 0.4942 - val_accuracy: 0.8969\n",
      "Epoch 23/100\n",
      "24/24 [==============================] - 0s 5ms/step - loss: 0.1395 - accuracy: 0.9693 - val_loss: 0.5374 - val_accuracy: 0.9029\n",
      "Epoch 24/100\n",
      "24/24 [==============================] - 0s 5ms/step - loss: 0.1399 - accuracy: 0.9697 - val_loss: 0.5179 - val_accuracy: 0.8932\n",
      "Epoch 25/100\n",
      "24/24 [==============================] - 0s 5ms/step - loss: 0.1330 - accuracy: 0.9703 - val_loss: 0.5842 - val_accuracy: 0.8871\n",
      "Epoch 26/100\n",
      "24/24 [==============================] - 0s 4ms/step - loss: 0.1326 - accuracy: 0.9709 - val_loss: 0.5304 - val_accuracy: 0.9011\n",
      "Epoch 27/100\n",
      "24/24 [==============================] - 0s 4ms/step - loss: 0.1337 - accuracy: 0.9672 - val_loss: 0.5518 - val_accuracy: 0.8867\n",
      "Epoch 28/100\n",
      "24/24 [==============================] - 0s 4ms/step - loss: 0.1330 - accuracy: 0.9697 - val_loss: 0.5671 - val_accuracy: 0.8946\n",
      "Epoch 29/100\n",
      "24/24 [==============================] - 0s 5ms/step - loss: 0.1305 - accuracy: 0.9702 - val_loss: 0.5839 - val_accuracy: 0.8830\n",
      "Epoch 30/100\n",
      "24/24 [==============================] - 0s 4ms/step - loss: 0.1374 - accuracy: 0.9676 - val_loss: 0.5386 - val_accuracy: 0.9015\n",
      "Epoch 31/100\n",
      "24/24 [==============================] - 0s 4ms/step - loss: 0.1296 - accuracy: 0.9690 - val_loss: 0.5461 - val_accuracy: 0.8974\n",
      "Epoch 32/100\n",
      "24/24 [==============================] - 0s 4ms/step - loss: 0.1301 - accuracy: 0.9702 - val_loss: 0.5807 - val_accuracy: 0.8960\n",
      "Epoch 33/100\n",
      "24/24 [==============================] - 0s 4ms/step - loss: 0.1286 - accuracy: 0.9699 - val_loss: 0.5819 - val_accuracy: 0.8918\n",
      "Epoch 34/100\n",
      "24/24 [==============================] - 0s 5ms/step - loss: 0.1254 - accuracy: 0.9708 - val_loss: 0.5751 - val_accuracy: 0.8992\n",
      "Epoch 35/100\n",
      "24/24 [==============================] - 0s 4ms/step - loss: 0.1271 - accuracy: 0.9707 - val_loss: 0.5698 - val_accuracy: 0.8932\n",
      "Epoch 36/100\n",
      "24/24 [==============================] - 0s 4ms/step - loss: 0.1233 - accuracy: 0.9706 - val_loss: 0.5623 - val_accuracy: 0.9006\n",
      "Epoch 37/100\n",
      "24/24 [==============================] - 0s 4ms/step - loss: 0.1182 - accuracy: 0.9720 - val_loss: 0.5752 - val_accuracy: 0.9006\n",
      "Epoch 38/100\n",
      "24/24 [==============================] - 0s 4ms/step - loss: 0.1187 - accuracy: 0.9712 - val_loss: 0.5851 - val_accuracy: 0.9006\n",
      "Epoch 39/100\n",
      "24/24 [==============================] - 0s 4ms/step - loss: 0.1152 - accuracy: 0.9719 - val_loss: 0.5944 - val_accuracy: 0.9011\n",
      "Epoch 40/100\n",
      "24/24 [==============================] - 0s 4ms/step - loss: 0.1148 - accuracy: 0.9719 - val_loss: 0.5918 - val_accuracy: 0.8987\n",
      "Epoch 41/100\n",
      "24/24 [==============================] - 0s 5ms/step - loss: 0.1172 - accuracy: 0.9703 - val_loss: 0.5573 - val_accuracy: 0.8946\n",
      "Epoch 42/100\n",
      "24/24 [==============================] - 0s 5ms/step - loss: 0.1199 - accuracy: 0.9693 - val_loss: 0.6522 - val_accuracy: 0.8881\n",
      "Epoch 43/100\n",
      "24/24 [==============================] - 0s 5ms/step - loss: 0.1227 - accuracy: 0.9701 - val_loss: 0.5996 - val_accuracy: 0.8936\n",
      "Epoch 44/100\n",
      "24/24 [==============================] - 0s 5ms/step - loss: 0.1196 - accuracy: 0.9700 - val_loss: 0.6536 - val_accuracy: 0.8843\n"
     ]
    }
   ],
   "source": [
    "from tensorflow.keras.regularizers import l2\n",
    "\n",
    "model = Sequential()\n",
    "n_input = X_smote.shape[1]\n",
    "model.add(Dense(300, # How many nodes/neurons do you want in your first layer.\n",
    "                input_shape=(n_input,),\n",
    "                activation='relu',\n",
    "               kernel_regularizer=l2(0.01)))  #we proved that having regularizer improves our model\n",
    "model.add(Dense(100, activation='relu'))\n",
    "model.add(Dense(80, activation='relu'))\n",
    "model.add(Dropout(0.5))\n",
    "model.add(Dense(50, activation='relu'))\n",
    "model.add(Dense(20, activation='relu'))\n",
    "model.add(Dense(1, activation='sigmoid'))\n",
    "model.summary()\n",
    "\n",
    "# Compile\n",
    "opt = Adam(learning_rate=0.001)\n",
    "model.compile(loss='binary_crossentropy', optimizer=opt, metrics=['accuracy'])\n",
    "\n",
    "# Model Fit\n",
    "early_stop = EarlyStopping(monitor='val_loss', \n",
    "                           min_delta=0, \n",
    "                           patience=30, \n",
    "                           mode='auto')\n",
    "\n",
    "history = model.fit(\n",
    "    X_smote,\n",
    "    y_smote,\n",
    "    validation_data=(X_test_scaled, y_test),\n",
    "    epochs=100,\n",
    "    batch_size=512,\n",
    "    callbacks=[early_stop] # Add your callbacks here!\n",
    ")"
   ]
  },
  {
   "cell_type": "code",
   "execution_count": 37,
   "metadata": {},
   "outputs": [
    {
     "data": {
      "text/plain": [
       "(0.9699869155883789, 0.8843474388122559)"
      ]
     },
     "execution_count": 37,
     "metadata": {},
     "output_type": "execute_result"
    }
   ],
   "source": [
    "history.history['accuracy'][-1], history.history['val_accuracy'][-1]"
   ]
  },
  {
   "cell_type": "code",
   "execution_count": 38,
   "metadata": {},
   "outputs": [
    {
     "data": {
      "image/png": "[encoded data removed]",
      "text/plain": [
       "<Figure size 432x288 with 1 Axes>"
      ]
     },
     "metadata": {
      "needs_background": "light"
     },
     "output_type": "display_data"
    }
   ],
   "source": [
    "plt.plot(history.history['accuracy'], label='Train accuracy')\n",
    "plt.plot(history.history['val_accuracy'], label='Val accuracy')\n",
    "plt.legend();"
   ]
  },
  {
   "cell_type": "code",
   "execution_count": 39,
   "metadata": {},
   "outputs": [
    {
     "data": {
      "image/png": "[encoded data removed]",
      "text/plain": [
       "<Figure size 864x576 with 1 Axes>"
      ]
     },
     "metadata": {
      "needs_background": "light"
     },
     "output_type": "display_data"
    }
   ],
   "source": [
    "train_loss = history.history['loss']\n",
    "test_loss = history.history['val_loss']\n",
    "\n",
    "plt.figure(figsize=(12, 8))\n",
    "plt.plot(train_loss, label='Training loss')\n",
    "plt.plot(test_loss, label='Testing loss')\n",
    "plt.xlabel('Epoch')\n",
    "plt.ylabel('Loss')\n",
    "plt.legend();"
   ]
  },
  {
   "cell_type": "code",
   "execution_count": 40,
   "metadata": {},
   "outputs": [
    {
     "name": "stdout",
     "output_type": "stream",
     "text": [
      "Keras ROC_AUC score : 0.5869771904012115\n"
     ]
    }
   ],
   "source": [
    "pred = model.predict(X_test_scaled).round()\n",
    "print('Keras ROC_AUC score :', roc_auc_score(y_test, pred.ravel()))"
   ]
  },
  {
   "cell_type": "markdown",
   "metadata": {},
   "source": [
    "**ROC of Ridge is 73% compared to 63% from tensorflow using regularizer.**"
   ]
  },
  {
   "cell_type": "markdown",
   "metadata": {},
   "source": [
    "###  7.0 In this section, we will formally create a pipeline to evaluate several models using GridSearch"
   ]
  },
  {
   "cell_type": "code",
   "execution_count": 41,
   "metadata": {},
   "outputs": [],
   "source": [
    "#Define X, and Y\n",
    "X=df_train.drop(columns=['Date','WnvPresent'])\n",
    "y=df_train['WnvPresent']\n",
    "\n",
    "#Train, Test, Split\n",
    "X_train, X_test, y_train, y_test = train_test_split(X,y, stratify=y, shuffle=True)\n"
   ]
  },
  {
   "cell_type": "code",
   "execution_count": 42,
   "metadata": {},
   "outputs": [],
   "source": [
    "# Logistic Regression\n",
    "logreg = LogisticRegression(\n",
    "    solver='liblinear',\n",
    "    max_iter=1000, \n",
    "    random_state=42,\n",
    ")\n",
    "\n",
    "logreg_params = {\n",
    "    'clf__penalty': ['l1', 'l2'],\n",
    "    'clf__C': [0.1, 0.5, 1, 1.5, 2.5]\n",
    "}\n",
    "\n",
    "# Gradient Boost\n",
    "gb = GradientBoostingClassifier(random_state=42)\n",
    "\n",
    "gb_params = {\n",
    "    'clf__learning_rate': [0.05, 0.1, 0.15],\n",
    "    'clf__max_depth': [2, 3,4]\n",
    "}\n",
    "\n",
    "# Random Forest\n",
    "rf = RandomForestClassifier(random_state=42, n_jobs=-1)\n",
    "\n",
    "rf_params = {\n",
    "    'clf__n_estimators': [100, 150, 200],\n",
    "    'clf__max_depth': [4, 5, 6]\n",
    "}\n",
    "\n",
    "# Extra Trees\n",
    "et = ExtraTreesClassifier(random_state=42, n_jobs=-1)\n",
    "\n",
    "et_params = {\n",
    "    'clf__n_estimators': [50, 75, 100],\n",
    "    'clf__max_depth': [4, 5, 6]\n",
    "}\n",
    "\n",
    "#Ada Boost Classifier\n",
    "ada = AdaBoostClassifier()\n",
    "\n",
    "ada_params = {\n",
    "    'clf__n_estimators':[50,100,150], \n",
    "    'clf__learning_rate':[1,0.1,0.01]\n",
    "}\n",
    "\n",
    "ridge = RidgeClassifier()\n",
    "\n",
    "ridge_params = {'clf__random_state' : [42]}\n",
    "\n",
    "# List of classifiers & params\n",
    "classifiers = [\n",
    "    (ridge, ridge_params),\n",
    "    (logreg, logreg_params),\n",
    "    (gb, gb_params),\n",
    "    (rf, rf_params),\n",
    "    (et, et_params),\n",
    "    (ada, ada_params)\n",
    "]"
   ]
  },
  {
   "cell_type": "code",
   "execution_count": 43,
   "metadata": {},
   "outputs": [],
   "source": [
    "from imblearn.pipeline import Pipeline\n",
    "\n",
    "def model(clf, clf_params):\n",
    "    \n",
    "    ## play around here and change the sequence of ss and sm\n",
    "    pipe = Pipeline(steps = [\n",
    "                      ('ss', StandardScaler()),\n",
    "                      ('sm', SMOTE(random_state = 42)), \n",
    "                      ('clf', clf)])\n",
    "\n",
    "    \n",
    "    # Gridsearch for best estimator\n",
    "    grid = GridSearchCV(\n",
    "        pipe,\n",
    "        param_grid=clf_params,\n",
    "        scoring='roc_auc',\n",
    "        verbose=2,\n",
    "        n_jobs=-1\n",
    "    )\n",
    "    grid.fit(X_train,y_train)\n",
    "    \n",
    "    print(f'Classifier: {clf}')\n",
    "    print('Best Parameters:')\n",
    "    print(grid.best_params_)\n",
    "    \n",
    "    # Scoring metrics\n",
    "    scores = {'Classifier': clf}\n",
    "    y_train_preds = grid.predict(X_train)\n",
    "    y_test_preds = grid.predict(X_test)\n",
    "   \n",
    "    scores['Train ROC-AUC Score'] = roc_auc_score(y_train, y_train_preds.ravel())\n",
    "    \n",
    "    \n",
    "    scores['Test ROC-AUC Score'] = roc_auc_score(y_test, y_test_preds.ravel())\n",
    "    scores['F1'] = f1_score(y_test, y_test_preds)\n",
    "    scores['Precision'] = precision_score(y_test, y_test_preds)\n",
    "    scores['Recall'] = recall_score(y_test, y_test_preds)\n",
    "    scores['Accuracy'] = accuracy_score(y_test, y_test_preds)\n",
    "    \n",
    "    # Storing results\n",
    "    result.append(scores)\n",
    "    \n",
    "    pred_csv = grid.predict(df_predict.drop(columns=[\"Date\",\"Id\"]))\n",
    "    pred_submit = pd.DataFrame(pred_csv, columns=['WnvPresent'])\n",
    "    pred_submit['Id'] = df_predict[\"Id\"]\n",
    "\n",
    "    pred_submit[[\"Id\", 'WnvPresent']].to_csv(f\"{clf}.csv\", index=False)\n",
    "\n",
    "    return pipe"
   ]
  },
  {
   "cell_type": "code",
   "execution_count": 44,
   "metadata": {},
   "outputs": [
    {
     "name": "stdout",
     "output_type": "stream",
     "text": [
      "Fitting 5 folds for each of 1 candidates, totalling 5 fits\n",
      "Classifier: RidgeClassifier()\n",
      "Best Parameters:\n",
      "{'clf__random_state': 42}\n",
      "Fitting 5 folds for each of 10 candidates, totalling 50 fits\n",
      "Classifier: LogisticRegression(max_iter=1000, random_state=42, solver='liblinear')\n",
      "Best Parameters:\n",
      "{'clf__C': 0.1, 'clf__penalty': 'l1'}\n",
      "Fitting 5 folds for each of 9 candidates, totalling 45 fits\n",
      "Classifier: GradientBoostingClassifier(random_state=42)\n",
      "Best Parameters:\n",
      "{'clf__learning_rate': 0.15, 'clf__max_depth': 2}\n",
      "Fitting 5 folds for each of 9 candidates, totalling 45 fits\n",
      "Classifier: RandomForestClassifier(n_jobs=-1, random_state=42)\n",
      "Best Parameters:\n",
      "{'clf__max_depth': 6, 'clf__n_estimators': 200}\n",
      "Fitting 5 folds for each of 9 candidates, totalling 45 fits\n",
      "Classifier: ExtraTreesClassifier(n_jobs=-1, random_state=42)\n",
      "Best Parameters:\n",
      "{'clf__max_depth': 6, 'clf__n_estimators': 75}\n",
      "Fitting 5 folds for each of 9 candidates, totalling 45 fits\n",
      "Classifier: AdaBoostClassifier()\n",
      "Best Parameters:\n",
      "{'clf__learning_rate': 0.1, 'clf__n_estimators': 150}\n"
     ]
    }
   ],
   "source": [
    "# Run through gridsearch for every model\n",
    "result = []\n",
    "\n",
    "for (clf, clf_params) in classifiers:\n",
    "    model(clf, clf_params)"
   ]
  },
  {
   "cell_type": "code",
   "execution_count": 45,
   "metadata": {},
   "outputs": [
    {
     "data": {
      "text/html": [
       "<div>\n",
       "<style scoped>\n",
       "    .dataframe tbody tr th:only-of-type {\n",
       "        vertical-align: middle;\n",
       "    }\n",
       "\n",
       "    .dataframe tbody tr th {\n",
       "        vertical-align: top;\n",
       "    }\n",
       "\n",
       "    .dataframe thead th {\n",
       "        text-align: right;\n",
       "    }\n",
       "</style>\n",
       "<table border=\"1\" class=\"dataframe\">\n",
       "  <thead>\n",
       "    <tr style=\"text-align: right;\">\n",
       "      <th></th>\n",
       "      <th>Classifier</th>\n",
       "      <th>Train ROC-AUC Score</th>\n",
       "      <th>Test ROC-AUC Score</th>\n",
       "      <th>F1</th>\n",
       "      <th>Precision</th>\n",
       "      <th>Recall</th>\n",
       "      <th>Accuracy</th>\n",
       "    </tr>\n",
       "  </thead>\n",
       "  <tbody>\n",
       "    <tr>\n",
       "      <th>0</th>\n",
       "      <td>ExtraTreesClassifier(n_jobs=-1, random_state=42)</td>\n",
       "      <td>0.760694</td>\n",
       "      <td>0.784739</td>\n",
       "      <td>0.254351</td>\n",
       "      <td>0.150079</td>\n",
       "      <td>0.833333</td>\n",
       "      <td>0.741291</td>\n",
       "    </tr>\n",
       "    <tr>\n",
       "      <th>1</th>\n",
       "      <td>RandomForestClassifier(n_jobs=-1, random_state...</td>\n",
       "      <td>0.739092</td>\n",
       "      <td>0.754121</td>\n",
       "      <td>0.248902</td>\n",
       "      <td>0.149385</td>\n",
       "      <td>0.745614</td>\n",
       "      <td>0.761728</td>\n",
       "    </tr>\n",
       "    <tr>\n",
       "      <th>2</th>\n",
       "      <td>RidgeClassifier()</td>\n",
       "      <td>0.795197</td>\n",
       "      <td>0.751452</td>\n",
       "      <td>0.248889</td>\n",
       "      <td>0.149733</td>\n",
       "      <td>0.736842</td>\n",
       "      <td>0.764515</td>\n",
       "    </tr>\n",
       "    <tr>\n",
       "      <th>3</th>\n",
       "      <td>LogisticRegression(max_iter=1000, random_state...</td>\n",
       "      <td>0.798607</td>\n",
       "      <td>0.744698</td>\n",
       "      <td>0.255183</td>\n",
       "      <td>0.155945</td>\n",
       "      <td>0.701754</td>\n",
       "      <td>0.783093</td>\n",
       "    </tr>\n",
       "    <tr>\n",
       "      <th>4</th>\n",
       "      <td>AdaBoostClassifier()</td>\n",
       "      <td>0.749329</td>\n",
       "      <td>0.741510</td>\n",
       "      <td>0.250000</td>\n",
       "      <td>0.152091</td>\n",
       "      <td>0.701754</td>\n",
       "      <td>0.777055</td>\n",
       "    </tr>\n",
       "    <tr>\n",
       "      <th>5</th>\n",
       "      <td>GradientBoostingClassifier(random_state=42)</td>\n",
       "      <td>0.681670</td>\n",
       "      <td>0.654049</td>\n",
       "      <td>0.301075</td>\n",
       "      <td>0.254545</td>\n",
       "      <td>0.368421</td>\n",
       "      <td>0.909429</td>\n",
       "    </tr>\n",
       "  </tbody>\n",
       "</table>\n",
       "</div>"
      ],
      "text/plain": [
       "                                          Classifier  Train ROC-AUC Score  \\\n",
       "0   ExtraTreesClassifier(n_jobs=-1, random_state=42)             0.760694   \n",
       "1  RandomForestClassifier(n_jobs=-1, random_state...             0.739092   \n",
       "2                                  RidgeClassifier()             0.795197   \n",
       "3  LogisticRegression(max_iter=1000, random_state...             0.798607   \n",
       "4                               AdaBoostClassifier()             0.749329   \n",
       "5        GradientBoostingClassifier(random_state=42)             0.681670   \n",
       "\n",
       "   Test ROC-AUC Score        F1  Precision    Recall  Accuracy  \n",
       "0            0.784739  0.254351   0.150079  0.833333  0.741291  \n",
       "1            0.754121  0.248902   0.149385  0.745614  0.761728  \n",
       "2            0.751452  0.248889   0.149733  0.736842  0.764515  \n",
       "3            0.744698  0.255183   0.155945  0.701754  0.783093  \n",
       "4            0.741510  0.250000   0.152091  0.701754  0.777055  \n",
       "5            0.654049  0.301075   0.254545  0.368421  0.909429  "
      ]
     },
     "execution_count": 45,
     "metadata": {},
     "output_type": "execute_result"
    }
   ],
   "source": [
    "# Results sorted by Test ROC-AUC\n",
    "pd.DataFrame(result).sort_values(by='Test ROC-AUC Score', ascending=False).reset_index(drop=True)"
   ]
  },
  {
   "cell_type": "markdown",
   "metadata": {},
   "source": [
    "## Model Evaluation/Metrics\n",
    "\n",
    "We have imbalance dataset where the minority is our positive class (WNV is present), and model built with the original dataset is predicting almost everything as negative class (WNV is not present). We addressed the issue by using oversampling through the SMOTE technique.\n",
    "\n",
    "We look at the coefficient and the top 10 features using RidgeClassifier,  some weather feature like WetBulb, Sunrise, TAvg, and featured engineered like days_from_max_wnv - where we calculate the date difference from the peak day of the year, and also the rolling window where we take the average for the last 7, 15 and 30 days for some weather features appeared as well in the top 10.\n",
    "\n",
    "We built several models including deep learning with l1 regularizer, dropout and early stop, however this is still around 55% ROC.\n",
    "\n",
    "From the pipeline, using GridSearchCSV, RandomClassifier was chosen as best model in terms of ROC-AUC with 74%. However, if we want to check the Precision, or how well it performs in terms of True Positive , the GradientBoost and ADABoost have the highest precision.  We decided to send the prediction of all models to Kaggle to see how is the ROC-AUC score for each model.\n",
    "\n",
    "| Model       | Public Score in ROC-AUC (Kaggle) |\n",
    "| ----------- | -----------      |\n",
    "| Ridge   | 0.68851             |\n",
    "| LR   | 0.68589             |\n",
    "| ET      | 0.64059            |\n",
    "| ADA   |  0.64059             |\n",
    "| RF   | 0.62510             |\n",
    "| Gradient   | 0.61897             |"
   ]
  },
  {
   "cell_type": "code",
   "execution_count": null,
   "metadata": {},
   "outputs": [],
   "source": []
  }
 ],
 "metadata": {
  "deepnote": {
   "is_reactive": false
  },
  "deepnote_execution_queue": [
   {
    "cellId": "00027-8dd5d922-03a7-4839-bddc-c52f7009cc0b",
    "msgId": "763a99b3-9f5b-497f-8b40-bd5439ec29cf",
    "sessionId": "bf0fa195-c065-44ca-9c60-e33055b60783"
   },
   {
    "cellId": "00028-c7c2897e-fca9-45be-80c6-5b6755ea764d",
    "msgId": "5513ef6d-9eb9-484e-badf-c009ef90f923",
    "sessionId": "bf0fa195-c065-44ca-9c60-e33055b60783"
   },
   {
    "cellId": "00029-ada72f4c-e372-4b6b-9520-d0fae377d233",
    "msgId": "b98c8a10-edc2-498c-a6eb-4cc7d62fbd34",
    "sessionId": "bf0fa195-c065-44ca-9c60-e33055b60783"
   },
   {
    "cellId": "00030-9a27b72f-82e4-4ef8-8a19-0dd5e7640928",
    "msgId": "e3a0dc52-c9a8-4e72-9a1f-aa69b62b922a",
    "sessionId": "bf0fa195-c065-44ca-9c60-e33055b60783"
   },
   {
    "cellId": "00031-ddde356c-ca8e-458c-ba18-e946123b43c4",
    "msgId": "b2556f1c-cde6-4ff4-91b3-5b009cc212b8",
    "sessionId": "bf0fa195-c065-44ca-9c60-e33055b60783"
   },
   {
    "cellId": "00032-9d585a50-a6d4-4b4c-8f90-d88eb790003e",
    "msgId": "c7acdd47-981d-4c79-a10f-fb2132504796",
    "sessionId": "bf0fa195-c065-44ca-9c60-e33055b60783"
   },
   {
    "cellId": "00033-35e9880d-9144-4d79-947f-b49709e05847",
    "msgId": "5b4b3d1b-5030-4c7e-ac96-b92b596fb1e4",
    "sessionId": "bf0fa195-c065-44ca-9c60-e33055b60783"
   },
   {
    "cellId": "b05a109bf85e4c259fdeb3ed6c149d84",
    "msgId": "96ce7925-7bca-44b4-a69d-02282101e0c8",
    "sessionId": "d2a51738-a8b1-4e31-b08d-576456651e0e"
   }
  ],
  "deepnote_notebook_id": "7b4728e3-e744-42bd-897f-939a8f5b6c31",
  "kernelspec": {
   "display_name": "Python 3",
   "language": "python",
   "name": "python3"
  },
  "language_info": {
   "codemirror_mode": {
    "name": "ipython",
    "version": 3
   },
   "file_extension": ".py",
   "mimetype": "text/x-python",
   "name": "python",
   "nbconvert_exporter": "python",
   "pygments_lexer": "ipython3",
   "version": "3.8.8"
  }
 },
 "nbformat": 4,
 "nbformat_minor": 2
}
