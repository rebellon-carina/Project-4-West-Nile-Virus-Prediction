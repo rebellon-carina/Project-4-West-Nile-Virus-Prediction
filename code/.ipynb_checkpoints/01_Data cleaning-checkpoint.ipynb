{
 "cells": [
  {
   "cell_type": "markdown",
   "metadata": {
    "cell_id": "a723ab21-5973-402a-a4b8-ba03c4d5913b",
    "deepnote_cell_height": 111.1875,
    "deepnote_cell_type": "markdown",
    "tags": []
   },
   "source": [
    "\n",
    "Kaggle link: https://www.kaggle.com/c/predict-west-nile-virus/\n"
   ]
  },
  {
   "cell_type": "markdown",
   "metadata": {
    "cell_id": "e9a6f5c0ca4345b1a14e84543a1ec9ba",
    "deepnote_cell_height": 198.390625,
    "deepnote_cell_type": "markdown",
    "tags": []
   },
   "source": [
    "Our 4th project is a group project, we were given the West Nile Virus Predicition Challenge from Kaggle https://www.kaggle.com/c/predict-west-nile-virus/ \n",
    "\n",
    "- Given weather, location, testing, and spraying data, predict when and where different species of mosquitos will test positive for West Nile virus.\n",
    "\n",
    "- Analyse effectiveness of spraying\n",
    "\n",
    "- Present in class with our findings."
   ]
  },
  {
   "cell_type": "code",
   "execution_count": null,
   "metadata": {
    "cell_id": "cb554231-17fa-46f7-bd13-449d32c3f750",
    "deepnote_cell_height": 243,
    "deepnote_cell_type": "code",
    "deepnote_to_be_reexecuted": false,
    "execution_millis": 4925,
    "execution_start": 1648883917615,
    "source_hash": "d83b84fa",
    "tags": []
   },
   "outputs": [],
   "source": [
    "import numpy as np\n",
    "import pandas as pd\n",
    "import seaborn as sns\n",
    "import matplotlib.pyplot as plt\n",
    "import matplotlib.dates as mdates\n",
    "from matplotlib.dates import DateFormatter\n",
    "import datetime\n",
    "\n",
    "from sklearn.cluster import DBSCAN\n"
   ]
  },
  {
   "cell_type": "code",
   "execution_count": null,
   "metadata": {
    "cell_id": "cdcffddf-e2df-4cb3-b5ad-36fe83b82a5b",
    "deepnote_cell_height": 153,
    "deepnote_cell_type": "code",
    "deepnote_to_be_reexecuted": false,
    "execution_millis": 1204,
    "execution_start": 1648883922557,
    "source_hash": "6fbabfba",
    "tags": []
   },
   "outputs": [],
   "source": [
    "df_weather = pd.read_csv('../datasets/weather.csv')\n",
    "df_spray = pd.read_csv('../datasets/spray.csv')\n",
    "df_train = pd.read_csv('../datasets/train.csv')\n",
    "\n",
    "df_test = pd.read_csv('../datasets/test.csv')"
   ]
  },
  {
   "cell_type": "markdown",
   "metadata": {
    "cell_id": "f5d03b24-a56f-4459-ba83-737266259e8c",
    "deepnote_cell_height": 70,
    "deepnote_cell_type": "markdown",
    "tags": []
   },
   "source": [
    "## Weather Dataset\n"
   ]
  },
  {
   "cell_type": "code",
   "execution_count": null,
   "metadata": {
    "cell_id": "6dfe16bf-fe29-46c7-9f09-8ea67af3ac35",
    "deepnote_cell_height": 136,
    "deepnote_cell_type": "code",
    "deepnote_output_heights": [
     21
    ],
    "deepnote_to_be_reexecuted": false,
    "execution_millis": 16,
    "execution_start": 1648883923762,
    "source_hash": "b553a5f9",
    "tags": []
   },
   "outputs": [],
   "source": [
    "#checking the size of the data for weather\n",
    "df_weather.shape "
   ]
  },
  {
   "cell_type": "code",
   "execution_count": null,
   "metadata": {
    "cell_id": "62b29847-202d-4f62-b249-c58d7916c2e9",
    "deepnote_cell_height": 558,
    "deepnote_cell_type": "code",
    "deepnote_output_heights": [
     443
    ],
    "deepnote_to_be_reexecuted": false,
    "execution_millis": 29,
    "execution_start": 1648883923788,
    "source_hash": "c14fe63f",
    "tags": []
   },
   "outputs": [],
   "source": [
    "#check whether there is null values\n",
    "df_weather.isnull().sum() "
   ]
  },
  {
   "cell_type": "code",
   "execution_count": null,
   "metadata": {
    "cell_id": "2fbe50f9-3dd7-4660-b2d5-d0b9ecfe01b4",
    "deepnote_cell_height": 664.796875,
    "deepnote_cell_type": "code",
    "deepnote_table_loading": false,
    "deepnote_table_state": {
     "filters": [
      {
       "id": "Tmax",
       "type": "contains",
       "value": ""
      },
      {
       "id": "Tmin",
       "type": "contains",
       "value": ""
      },
      {
       "id": "Date",
       "type": "contains",
       "value": ""
      },
      {
       "id": "Tavg",
       "type": "contains",
       "value": ""
      },
      {
       "id": "DewPoint",
       "type": "contains",
       "value": ""
      },
      {
       "id": "WetBulb",
       "type": "contains",
       "value": ""
      },
      {
       "id": "Depart",
       "type": "contains",
       "value": ""
      },
      {
       "id": "Station",
       "type": "contains",
       "value": ""
      }
     ],
     "pageIndex": 0,
     "pageSize": 10,
     "sortBy": []
    },
    "deepnote_to_be_reexecuted": false,
    "execution_millis": 316,
    "execution_start": 1648883923842,
    "source_hash": "96900c9d",
    "tags": []
   },
   "outputs": [],
   "source": [
    "df_weather\n",
    "#duplicate dates(2 rows), 1472 rows missing data (50% of the data)"
   ]
  },
  {
   "cell_type": "markdown",
   "metadata": {
    "cell_id": "1cf9606ed83b461cb825b9ef6ec995a7",
    "deepnote_cell_height": 122.390625,
    "deepnote_cell_type": "markdown",
    "tags": []
   },
   "source": [
    "Identified that two stations took the reading on the same date, we will be grouping both station data into one and aggregate it accordingly"
   ]
  },
  {
   "cell_type": "code",
   "execution_count": null,
   "metadata": {
    "cell_id": "30215c64-4bd9-46c5-af91-2d996eaa9375",
    "deepnote_cell_height": 686.796875,
    "deepnote_cell_type": "code",
    "deepnote_table_loading": false,
    "deepnote_table_state": {
     "filters": [],
     "pageIndex": 0,
     "pageSize": 10,
     "sortBy": []
    },
    "deepnote_to_be_reexecuted": false,
    "execution_millis": 271,
    "execution_start": 1648883924222,
    "source_hash": "219933ac",
    "tags": []
   },
   "outputs": [],
   "source": [
    "#Replace \"M\" & \"-\" as null value (because they are missing data) and \"  T\" as 0 (because T is insignificant value i.e 0.00001)\n",
    "df_weather = df_weather.replace(\"M\", np.nan).replace(\"-\", np.nan).replace(\"  T\",0) \n",
    "#filling up null value with above value in other to get the mean value for grouping purpose in the later part\n",
    "df_weather.fillna(method='ffill', inplace=True) #fill nan with above values as they belongs to the same date\n",
    "df_weather"
   ]
  },
  {
   "cell_type": "code",
   "execution_count": null,
   "metadata": {
    "cell_id": "efb8686c-b773-40ae-9990-f65eef9d7638",
    "deepnote_cell_height": 704.796875,
    "deepnote_cell_type": "code",
    "deepnote_to_be_reexecuted": false,
    "execution_millis": 295,
    "execution_start": 1648883924496,
    "source_hash": "cb19d01f",
    "tags": []
   },
   "outputs": [],
   "source": [
    "#changing columns type to the intented data type for better analysis\n",
    "df_weather = df_weather.astype({'Tavg':'float64','Depart':'float64','WetBulb':'float64','Heat':'float64','Cool':'float64','SnowFall':'float64','PrecipTotal':'float64','StnPressure':'float64','SeaLevel':'float64','AvgSpeed':'float64'})\n",
    "#changing \"Date\" as datetime type\n",
    "df_weather['Date'] = df_weather[['Date']].astype('datetime64[ns]')\n",
    "df_weather\n"
   ]
  },
  {
   "cell_type": "code",
   "execution_count": null,
   "metadata": {
    "cell_id": "03ee63a7-c2aa-4241-a229-9d84e06c742e",
    "deepnote_cell_height": 704.796875,
    "deepnote_cell_type": "code",
    "deepnote_table_loading": false,
    "deepnote_table_state": {
     "filters": [],
     "pageIndex": 20,
     "pageSize": 10,
     "sortBy": []
    },
    "deepnote_to_be_reexecuted": false,
    "execution_millis": 310,
    "execution_start": 1648883924848,
    "source_hash": "d495bb3c",
    "tags": []
   },
   "outputs": [],
   "source": [
    "#Grouping with intented aggregation for individual columns\n",
    "df_weather = df_weather.groupby(by=\"Date\",as_index=False).agg({'Tmax':'mean','Tmin':'mean','Tavg':'mean','Depart':'mean','DewPoint':'mean','WetBulb':'mean','Heat':'mean','Cool':'mean',\n",
    "    'SnowFall':'mean','PrecipTotal':'mean','StnPressure':'mean','SeaLevel':'mean','ResultSpeed':'mean','ResultDir':'mean','AvgSpeed':'mean',\n",
    "    'Sunrise': 'first','Sunset': 'first','CodeSum':list\n",
    "})\n",
    "df_weather"
   ]
  },
  {
   "cell_type": "code",
   "execution_count": null,
   "metadata": {
    "cell_id": "c70893426e4d4714b74084d7f8ddd63c",
    "deepnote_cell_height": 207,
    "deepnote_cell_type": "code",
    "deepnote_output_heights": [
     78.796875
    ],
    "deepnote_to_be_reexecuted": false,
    "execution_millis": 0,
    "execution_start": 1648883925208,
    "source_hash": "f735f2b2",
    "tags": []
   },
   "outputs": [],
   "source": [
    "#creating function to split list into words\n",
    "def apply_set(segment): \n",
    "    a = []\n",
    "    for words in segment:\n",
    "        a.extend(words.split())\n",
    "    x = str(list(set(a)))\n",
    "    \n",
    "    return x.replace('[','').replace(']','').replace(' ','')"
   ]
  },
  {
   "cell_type": "code",
   "execution_count": null,
   "metadata": {
    "cell_id": "a0664f10-2108-4985-bc4a-10231d0c1208",
    "deepnote_cell_height": 634,
    "deepnote_cell_type": "code",
    "deepnote_table_loading": false,
    "deepnote_table_state": {
     "filters": [],
     "pageIndex": 5,
     "pageSize": 10,
     "sortBy": []
    },
    "deepnote_to_be_reexecuted": false,
    "execution_millis": 49,
    "execution_start": 1648883925208,
    "source_hash": "1d9fdce6",
    "tags": []
   },
   "outputs": [],
   "source": [
    "#apply function to split tuple into list\n",
    "df_weather[\"CodeSum_set\"] = df_weather[\"CodeSum\"].apply(apply_set)\n",
    "df_weather[[\"CodeSum\", \"CodeSum_set\"]]"
   ]
  },
  {
   "cell_type": "code",
   "execution_count": null,
   "metadata": {
    "cell_id": "75d5584e0ed14e35bde7c1a6b1b455d9",
    "deepnote_cell_height": 668.796875,
    "deepnote_cell_type": "code",
    "deepnote_table_loading": false,
    "deepnote_table_state": {
     "filters": [],
     "pageIndex": 0,
     "pageSize": 10,
     "sortBy": []
    },
    "deepnote_to_be_reexecuted": false,
    "execution_millis": 121,
    "execution_start": 1648883925296,
    "source_hash": "f004446a",
    "tags": []
   },
   "outputs": [],
   "source": [
    "#drop unnecessary columns\n",
    "df_weather.drop(columns=\"CodeSum\",inplace=True)\n",
    "\n",
    "df_weather"
   ]
  },
  {
   "cell_type": "code",
   "execution_count": null,
   "metadata": {
    "cell_id": "57e61367234243ba8c96f1f82bdb390d",
    "deepnote_cell_height": 650.796875,
    "deepnote_cell_type": "code",
    "deepnote_to_be_reexecuted": false,
    "execution_millis": 749,
    "execution_start": 1648883925424,
    "source_hash": "9477bf06",
    "tags": []
   },
   "outputs": [],
   "source": [
    "#convert datetime to Month name\n",
    "df_weather['Month'] = df_weather['Date'].dt.month_name()\n",
    "df_weather"
   ]
  },
  {
   "cell_type": "code",
   "execution_count": null,
   "metadata": {
    "cell_id": "f138446f0a2d4b9d82c8e7e8f2014c5e",
    "deepnote_cell_height": 1131,
    "deepnote_cell_type": "code",
    "deepnote_output_heights": [
     548
    ],
    "deepnote_to_be_reexecuted": false,
    "execution_millis": 3250,
    "execution_start": 1648883925643,
    "source_hash": "6e96a5c3",
    "tags": []
   },
   "outputs": [],
   "source": [
    "#Create combo chart in subplot\n",
    "fig = plt.figure(figsize=(16,10))\n",
    "coord1 = 211\n",
    "coord2 = 212\n",
    "plt.subplot(coord1)\n",
    "color = 'tab:red'\n",
    "#bar plot creation\n",
    "#ax1.set_title('Average Temp in Fahrenheit', fontsize=16)\n",
    "\n",
    "\n",
    "plt.ylabel('Avg Max Temp in Fahrenheit', fontsize=16, color=color)\n",
    "ax1 = sns.lineplot(x='Month', y='Tmax', data = df_weather, sort=False, color=color)\n",
    "ax1.tick_params(axis='y', color=color)\n",
    "ax1.set_xlabel('Month', fontsize=16)\n",
    "#specify we want to share the same x-axis\n",
    "ax2 = ax1.twinx()\n",
    "color2 = 'tab:blue'\n",
    "#line plot creation\n",
    "ax2.set_ylabel('Avg Min Temp in Fahrenheit', fontsize=16, color=color2)\n",
    "ax2 = sns.lineplot(x='Month', y='Tmin', data = df_weather, sort=False, color=color2)\n",
    "ax2.tick_params(axis='y', color=color);\n",
    "#show plot\n",
    "\n",
    "\n",
    "plt.subplot(coord2)\n",
    "sns.lineplot(data=df_weather,x='Month',y='PrecipTotal')\n",
    "plt.xlabel('Month')\n",
    "plt.ylabel('PrecipTotal',color='green', fontsize=16);"
   ]
  },
  {
   "cell_type": "markdown",
   "metadata": {
    "cell_id": "6b67efd8de1e4dd5995068be2a3c43ac",
    "deepnote_cell_height": 102,
    "deepnote_cell_type": "markdown",
    "tags": []
   },
   "source": [
    "##### It is believed that hot and dry conditions are more favorable for West Nile virus than cold and wet.Thus, from the line graph we are expecting higher infection rate between June and August since the temperature during this period is high and there is a drop in precipitation level (water vapor in the air)."
   ]
  },
  {
   "cell_type": "code",
   "execution_count": null,
   "metadata": {
    "cell_id": "eda1f82ac0604ce49fea05646c8c070e",
    "deepnote_cell_height": 81,
    "deepnote_cell_type": "code",
    "deepnote_to_be_reexecuted": false,
    "execution_millis": 5,
    "execution_start": 1648883928537,
    "source_hash": "4047e599",
    "tags": []
   },
   "outputs": [],
   "source": [
    "df_weather.drop(columns=['Tmax','Tmin','Heat','Cool','SnowFall'], inplace=True)"
   ]
  },
  {
   "cell_type": "code",
   "execution_count": null,
   "metadata": {},
   "outputs": [],
   "source": [
    "df_weather[\"Sunrise\"].isnull().sum().sum()"
   ]
  },
  {
   "cell_type": "code",
   "execution_count": null,
   "metadata": {
    "cell_id": "d87125d7edce48c695cb0cb3ff2980c1",
    "deepnote_cell_height": 81,
    "deepnote_cell_type": "code",
    "deepnote_to_be_reexecuted": false,
    "execution_millis": 1002,
    "execution_start": 1648883928548,
    "source_hash": "9a44e5f1",
    "tags": []
   },
   "outputs": [],
   "source": [
    "df_weather.to_csv(\"../datasets/cleaned_weather.csv\", index=False)"
   ]
  },
  {
   "cell_type": "markdown",
   "metadata": {
    "cell_id": "da2e90575b8f4549a53a30c3b8fcc040",
    "deepnote_cell_height": 119.59375,
    "deepnote_cell_type": "markdown",
    "tags": []
   },
   "source": [
    "Dropping unnecessary column to fine tune relevancy for analysis: <br>\n",
    "Tmax & Tmin --> will be using average temp instead for data engineering <br>\n",
    "Heat & Cool --> both factors are irrelevant as they are used to calculate energy used <br>\n",
    "SnowFall & Sunrise & Sunset --> irrelevant, not an indicator that will impact West Nile virus"
   ]
  },
  {
   "cell_type": "markdown",
   "metadata": {
    "cell_id": "56b3fbb3-d6c0-4e52-b4e9-32689b52c675",
    "deepnote_cell_height": 70,
    "deepnote_cell_type": "markdown",
    "tags": []
   },
   "source": [
    "## Spray Dataset"
   ]
  },
  {
   "cell_type": "code",
   "execution_count": null,
   "metadata": {
    "cell_id": "b39fecf8-44d6-49b0-8752-ccb7bd3eca1c",
    "deepnote_cell_height": 429,
    "deepnote_cell_type": "code",
    "deepnote_to_be_reexecuted": false,
    "execution_millis": 28,
    "execution_start": 1648883929557,
    "source_hash": "fea33a18",
    "tags": []
   },
   "outputs": [],
   "source": [
    "\n",
    "#show sample  spray data\n",
    "df_spray.head()"
   ]
  },
  {
   "cell_type": "code",
   "execution_count": null,
   "metadata": {
    "cell_id": "01c7e5c485224f019e0ad9663b5f93ea",
    "deepnote_cell_height": 156,
    "deepnote_cell_type": "code",
    "deepnote_output_heights": [
     59
    ],
    "deepnote_to_be_reexecuted": false,
    "execution_millis": 9,
    "execution_start": 1648883929591,
    "source_hash": "a496115a",
    "tags": []
   },
   "outputs": [],
   "source": [
    "pd.DatetimeIndex(df_spray['Date']).year.value_counts()"
   ]
  },
  {
   "cell_type": "code",
   "execution_count": null,
   "metadata": {
    "cell_id": "c89ba7c3-5307-4eab-ba89-4ef61a8e5b98",
    "deepnote_cell_height": 213,
    "deepnote_cell_type": "code",
    "deepnote_output_heights": [
     98
    ],
    "deepnote_to_be_reexecuted": false,
    "execution_millis": 8,
    "execution_start": 1648883929612,
    "source_hash": "66d974ab",
    "tags": []
   },
   "outputs": [],
   "source": [
    "#checking data types\n",
    "df_spray.dtypes"
   ]
  },
  {
   "cell_type": "code",
   "execution_count": null,
   "metadata": {
    "cell_id": "99833285-76cc-4d08-a68f-9c6673beefd3",
    "deepnote_cell_height": 136,
    "deepnote_cell_type": "code",
    "deepnote_output_heights": [
     21
    ],
    "deepnote_to_be_reexecuted": false,
    "execution_millis": 4,
    "execution_start": 1648883929626,
    "source_hash": "29768c83",
    "tags": []
   },
   "outputs": [],
   "source": [
    "#how many data poitns\n",
    "df_spray.shape"
   ]
  },
  {
   "cell_type": "code",
   "execution_count": null,
   "metadata": {
    "cell_id": "c12100e2-8f79-40ec-a613-b31aab96a8a0",
    "deepnote_cell_height": 213,
    "deepnote_cell_type": "code",
    "deepnote_output_heights": [
     98
    ],
    "deepnote_to_be_reexecuted": false,
    "execution_millis": 11,
    "execution_start": 1648883929635,
    "source_hash": "8fa53a6b",
    "tags": []
   },
   "outputs": [],
   "source": [
    "#chek how many are NULLs\n",
    "df_spray.isnull().sum()"
   ]
  },
  {
   "cell_type": "code",
   "execution_count": null,
   "metadata": {
    "cell_id": "e571fb229b864a83b2fae5f0a58cfda4",
    "deepnote_cell_height": 195,
    "deepnote_cell_type": "code",
    "deepnote_output_heights": [
     98
    ],
    "deepnote_to_be_reexecuted": false,
    "execution_millis": 8,
    "execution_start": 1648883929651,
    "source_hash": "41bfe5aa",
    "tags": []
   },
   "outputs": [],
   "source": [
    "df_spray.dtypes"
   ]
  },
  {
   "cell_type": "code",
   "execution_count": null,
   "metadata": {
    "cell_id": "4d61b1210de84c088e2e5eea1d0a5771",
    "deepnote_cell_height": 99,
    "deepnote_cell_type": "code",
    "deepnote_to_be_reexecuted": false,
    "execution_millis": 6,
    "execution_start": 1648883929662,
    "source_hash": "3433251b",
    "tags": []
   },
   "outputs": [],
   "source": [
    "# Change date to date time \n",
    "df_spray['Date'] = pd.to_datetime(df_spray['Date'])"
   ]
  },
  {
   "cell_type": "code",
   "execution_count": null,
   "metadata": {
    "cell_id": "3e01d1c5-48c9-4581-b735-17dc0f0b37aa",
    "deepnote_cell_height": 652,
    "deepnote_cell_type": "code",
    "deepnote_table_loading": false,
    "deepnote_table_state": {
     "filters": [],
     "pageIndex": 0,
     "pageSize": 10,
     "sortBy": []
    },
    "deepnote_to_be_reexecuted": false,
    "execution_millis": 42,
    "execution_start": 1648883929683,
    "source_hash": "1a888cc7",
    "tags": []
   },
   "outputs": [],
   "source": [
    "#Time has null values\n",
    "df_spray.loc[df_spray[\"Time\"].isnull()]\n",
    "\n",
    " #2011-09-07 has null time"
   ]
  },
  {
   "cell_type": "code",
   "execution_count": null,
   "metadata": {
    "cell_id": "96a685f9-3760-45e5-9e88-b65096e39306",
    "deepnote_cell_height": 136,
    "deepnote_cell_type": "code",
    "deepnote_output_heights": [
     21
    ],
    "deepnote_to_be_reexecuted": false,
    "execution_millis": 17,
    "execution_start": 1648883929736,
    "source_hash": "6dee86a4",
    "tags": []
   },
   "outputs": [],
   "source": [
    "#are there any duplicates?\n",
    "df_spray.duplicated().sum()"
   ]
  },
  {
   "cell_type": "code",
   "execution_count": null,
   "metadata": {
    "cell_id": "492b7036-1083-4d64-9cd4-874ad142954e",
    "deepnote_cell_height": 670,
    "deepnote_cell_type": "code",
    "deepnote_to_be_reexecuted": false,
    "execution_millis": 39,
    "execution_start": 1648883929782,
    "source_hash": "57b4e35b",
    "tags": []
   },
   "outputs": [],
   "source": [
    "# lets check for the details on the duplicates\n",
    "\n",
    "df_spray[df_spray.duplicated() == True]\n",
    "\n",
    "#looks like almost  all are  \"2011-09-07 @7:44:32 PM\""
   ]
  },
  {
   "cell_type": "code",
   "execution_count": null,
   "metadata": {
    "cell_id": "4a4c638c-2252-4408-97db-8b255f652f30",
    "deepnote_cell_height": 99,
    "deepnote_cell_type": "code",
    "deepnote_to_be_reexecuted": false,
    "execution_millis": 15,
    "execution_start": 1648883929829,
    "source_hash": "8cfae227",
    "tags": []
   },
   "outputs": [],
   "source": [
    "#lets drop the duplicates \n",
    "df_spray.drop_duplicates(inplace=True)"
   ]
  },
  {
   "cell_type": "code",
   "execution_count": null,
   "metadata": {
    "cell_id": "dee5116e-67fc-4372-b73c-f8f1bf500709",
    "deepnote_cell_height": 136,
    "deepnote_cell_type": "code",
    "deepnote_output_heights": [
     21
    ],
    "deepnote_to_be_reexecuted": false,
    "execution_millis": 11,
    "execution_start": 1648883929846,
    "source_hash": "31c2e69c",
    "tags": []
   },
   "outputs": [],
   "source": [
    "#final data count\n",
    "df_spray.shape"
   ]
  },
  {
   "cell_type": "code",
   "execution_count": null,
   "metadata": {
    "cell_id": "6f42e81f-394f-484e-bf20-dcd68deb288b",
    "deepnote_cell_height": 278,
    "deepnote_cell_type": "code",
    "deepnote_to_be_reexecuted": false,
    "execution_millis": 33,
    "execution_start": 1648883929858,
    "source_hash": "bb23283d",
    "tags": []
   },
   "outputs": [],
   "source": [
    "#after removing duplicates on the data\n",
    "#any duplicate Spray on the same Date and Location (multiple Times per Day)\n",
    "df_tmp = df_spray.groupby(by=[\"Date\",\"Latitude\", \"Longitude\"]).count()\n",
    "df_tmp[df_tmp['Time'] > 1]\n",
    "\n",
    "#none!"
   ]
  },
  {
   "cell_type": "code",
   "execution_count": null,
   "metadata": {
    "cell_id": "2249ff69-26ae-4928-920c-a30da29aeed1",
    "deepnote_cell_height": 117,
    "deepnote_cell_type": "code",
    "deepnote_to_be_reexecuted": false,
    "execution_millis": 5,
    "execution_start": 1648883929898,
    "source_hash": "7323266e",
    "tags": []
   },
   "outputs": [],
   "source": [
    "#just drop the time \n",
    "#looks like there is only one spray per Day per Location, we can drop the Time\n",
    "df_spray.drop(columns=\"Time\", inplace=True)"
   ]
  },
  {
   "cell_type": "code",
   "execution_count": null,
   "metadata": {
    "cell_id": "d01bd4cb-6b6c-49c5-a40a-6188ea6987c5",
    "deepnote_cell_height": 393,
    "deepnote_cell_type": "code",
    "deepnote_to_be_reexecuted": false,
    "execution_millis": 10,
    "execution_start": 1648883929931,
    "source_hash": "ba7508a",
    "tags": []
   },
   "outputs": [],
   "source": [
    "df_spray.head()"
   ]
  },
  {
   "cell_type": "code",
   "execution_count": null,
   "metadata": {
    "cell_id": "5572445a-f136-485a-a0d9-4853589791b1",
    "deepnote_cell_height": 449,
    "deepnote_cell_type": "code",
    "deepnote_output_heights": [
     262
    ],
    "deepnote_to_be_reexecuted": false,
    "execution_millis": 1665,
    "execution_start": 1648883930068,
    "source_hash": "42ce64da",
    "tags": []
   },
   "outputs": [],
   "source": [
    "plt.figure(figsize=(20,5))\n",
    "sns.histplot(df_spray[\"Date\"])\n",
    "plt.xlabel('Date')\n",
    "plt.ylabel('No of Spray')\n",
    "plt.title(\"Spray by Date\")\n",
    "plt.show();"
   ]
  },
  {
   "cell_type": "markdown",
   "metadata": {
    "cell_id": "1675609df7a544b6bcb693b57e2f3492",
    "deepnote_cell_height": 52.390625,
    "deepnote_cell_type": "markdown",
    "tags": []
   },
   "source": [
    "***only 2 days of Spray in 2011 and 8 days of spray in 2013***"
   ]
  },
  {
   "cell_type": "code",
   "execution_count": null,
   "metadata": {
    "cell_id": "2f037bbd4745419e9c04ef51cf517b6f",
    "deepnote_cell_height": 207,
    "deepnote_cell_type": "code",
    "deepnote_to_be_reexecuted": false,
    "execution_millis": 0,
    "execution_start": 1648883931709,
    "source_hash": "c9048233",
    "tags": []
   },
   "outputs": [],
   "source": [
    "def dbs_cluster(df): \n",
    "    '''\n",
    "    parameter: dataframe with latitude and longitude\n",
    "    return the label\n",
    "    '''\n",
    "    latlong = df[['Latitude', 'Longitude']] \n",
    "    dbs = DBSCAN(eps=.03, min_samples=5).fit(latlong) \n",
    "    return dbs.labels_ "
   ]
  },
  {
   "cell_type": "code",
   "execution_count": null,
   "metadata": {
    "cell_id": "a59c486f76f14d498d5642dfebc4d9f9",
    "deepnote_cell_height": 99,
    "deepnote_cell_type": "code",
    "deepnote_to_be_reexecuted": false,
    "execution_millis": 0,
    "execution_start": 1648883931709,
    "source_hash": "c3a758a3",
    "tags": []
   },
   "outputs": [],
   "source": [
    "df_spray_2011 = df_spray[pd.DatetimeIndex(df_spray['Date']).year == 2011]\n",
    "df_spray_2013 = df_spray[pd.DatetimeIndex(df_spray['Date']).year == 2013]"
   ]
  },
  {
   "cell_type": "code",
   "execution_count": null,
   "metadata": {
    "cell_id": "0dea761da1774104bcfe19f786c6e7db",
    "deepnote_cell_height": 368,
    "deepnote_cell_type": "code",
    "deepnote_to_be_reexecuted": false,
    "execution_millis": 24,
    "execution_start": 1648883931710,
    "source_hash": "a275a8a1",
    "tags": []
   },
   "outputs": [],
   "source": [
    "#create cluster per year\n",
    "df_spray_2011[\"label\"] = dbs_cluster(df_spray_2011).copy()\n",
    "df_spray_2013[\"label\"] = dbs_cluster(df_spray_2013).copy()"
   ]
  },
  {
   "cell_type": "code",
   "execution_count": null,
   "metadata": {
    "cell_id": "d94fd7bcbc9f4e49b9a5511ec7f301ef",
    "deepnote_cell_height": 1265,
    "deepnote_cell_type": "code",
    "deepnote_output_heights": [
     484
    ],
    "deepnote_to_be_reexecuted": false,
    "execution_millis": 3501,
    "execution_start": 1648883931711,
    "source_hash": "53e919f",
    "tags": []
   },
   "outputs": [],
   "source": [
    "#visualize spray data (and cluster using DBSCAN)\n",
    "\n",
    "#use map data provided by kaggle\n",
    "mapdata = np.loadtxt('../datasets/mapdata_copyright_openstreetmap_contributors.txt')  \n",
    "\n",
    "#set dimensions of the plot\n",
    "lon_lat_box = (df_spray['Longitude'].min()-.1, df_spray['Longitude'].max()+.1\n",
    "               , df_spray['Latitude'].min()-.1, df_spray['Latitude'].max()+.1)\n",
    "\n",
    "#create two chart, one for 2011 and one for 2013\n",
    "fig, ax = plt.subplots(nrows=1, ncols=2, figsize=(10,8))\n",
    "\n",
    "#map\n",
    "ax[0].imshow(mapdata, cmap=plt.get_cmap('gray'), aspect='auto', extent=lon_lat_box)\n",
    "ax[1].imshow(mapdata, cmap=plt.get_cmap('gray'), aspect='auto', extent=lon_lat_box)\n",
    "\n",
    "#data\n",
    "#ax[0].scatter(df_spray_2011['Longitude'], df_spray_2011['Latitude'], marker='x', label='Spray', color='b');\n",
    "#ax[1].scatter(df_spray_2013['Longitude'], df_spray_2013['Latitude'], marker='x', label='Spray', color='b');\n",
    "\n",
    "#plot 2011\n",
    "for i in df_spray_2011['label'].unique():  \n",
    "    ax[0].scatter(df_spray_2011[df_spray_2011['label'] == i]['Longitude'], \n",
    "               df_spray_2011[df_spray_2011['label'] == i]['Latitude'], \n",
    "               label=i, marker='x')\n",
    "\n",
    "#plot for 2013\n",
    "for i in df_spray_2013['label'].unique():  \n",
    "    ax[1].scatter(df_spray_2013[df_spray_2013['label'] == i]['Longitude'], \n",
    "               df_spray_2013[df_spray_2013['label'] == i]['Latitude'], \n",
    "               label=i, marker='x')\n",
    "    \n",
    "#titles\n",
    "ax[0].set_title('Spray - 2011');\n",
    "ax[1].set_title('Spray - 2013');\n",
    "\n",
    "#show legend\n",
    "ax[0].legend();\n",
    "ax[1].legend();"
   ]
  },
  {
   "cell_type": "code",
   "execution_count": null,
   "metadata": {
    "cell_id": "43769df139cb44b7ab9949410f4f7d03",
    "deepnote_cell_height": 99,
    "deepnote_cell_type": "code",
    "deepnote_to_be_reexecuted": false,
    "execution_millis": 850,
    "execution_start": 1648883935209,
    "source_hash": "4f6165f2",
    "tags": []
   },
   "outputs": [],
   "source": [
    "\n",
    "df_spray.to_csv(\"../datasets/cleaned_spray.csv\", index=False)"
   ]
  },
  {
   "cell_type": "code",
   "execution_count": null,
   "metadata": {
    "cell_id": "05250e0a-83db-4568-b079-9cc88036cf81",
    "deepnote_cell_height": 99,
    "deepnote_cell_type": "code",
    "deepnote_to_be_reexecuted": false,
    "execution_millis": 1,
    "execution_start": 1648883936069,
    "source_hash": "7ecf56a6",
    "tags": []
   },
   "outputs": [],
   "source": [
    "#train Data Cleaning/EDA\n",
    "#assigned to andrea"
   ]
  },
  {
   "cell_type": "markdown",
   "metadata": {
    "cell_id": "313eaf01e6fa4ad183ab0952083f45f5",
    "deepnote_cell_height": 70,
    "deepnote_cell_type": "markdown",
    "tags": []
   },
   "source": [
    "## Training Dataset"
   ]
  },
  {
   "cell_type": "code",
   "execution_count": null,
   "metadata": {
    "cell_id": "7a2cbbed-513e-4d40-9ea7-d5e56164d7b4",
    "deepnote_cell_height": 409.796875,
    "deepnote_cell_type": "code",
    "deepnote_to_be_reexecuted": false,
    "execution_millis": 54,
    "execution_start": 1648883936089,
    "source_hash": "5e2a9c26",
    "tags": []
   },
   "outputs": [],
   "source": [
    "df_train.head()"
   ]
  },
  {
   "cell_type": "code",
   "execution_count": null,
   "metadata": {
    "cell_id": "d5e0f167ab994c1688e5f9be8a5e2aca",
    "deepnote_cell_height": 118,
    "deepnote_cell_type": "code",
    "deepnote_output_heights": [
     21
    ],
    "deepnote_to_be_reexecuted": false,
    "execution_millis": 15,
    "execution_start": 1648883936157,
    "source_hash": "db981d08",
    "tags": []
   },
   "outputs": [],
   "source": [
    "df_train.shape"
   ]
  },
  {
   "cell_type": "code",
   "execution_count": null,
   "metadata": {
    "cell_id": "49611a4a-7fc7-490a-8b65-e4e20498721a",
    "deepnote_cell_height": 348,
    "deepnote_cell_type": "code",
    "deepnote_output_heights": [
     251
    ],
    "deepnote_to_be_reexecuted": false,
    "execution_millis": 29,
    "execution_start": 1648883936174,
    "source_hash": "455c7b4b",
    "tags": []
   },
   "outputs": [],
   "source": [
    "df_train.isnull().sum()"
   ]
  },
  {
   "cell_type": "code",
   "execution_count": null,
   "metadata": {
    "cell_id": "624a0193-76e1-4bac-ac45-2bdc10e6d682",
    "deepnote_cell_height": 614.796875,
    "deepnote_cell_type": "code",
    "deepnote_table_loading": false,
    "deepnote_table_state": {
     "filters": [],
     "pageIndex": 0,
     "pageSize": 10,
     "sortBy": []
    },
    "deepnote_to_be_reexecuted": false,
    "execution_millis": 729,
    "execution_start": 1648883936223,
    "source_hash": "e7a4a97c",
    "tags": []
   },
   "outputs": [],
   "source": [
    "df_train"
   ]
  },
  {
   "cell_type": "code",
   "execution_count": null,
   "metadata": {
    "cell_id": "180f7d3bf2874ae3aa047964572d62b3",
    "deepnote_cell_height": 348,
    "deepnote_cell_type": "code",
    "deepnote_output_heights": [
     251
    ],
    "deepnote_to_be_reexecuted": false,
    "execution_millis": 621,
    "execution_start": 1648883936336,
    "source_hash": "dc62752b",
    "tags": []
   },
   "outputs": [],
   "source": [
    "df_train.dtypes"
   ]
  },
  {
   "cell_type": "markdown",
   "metadata": {
    "cell_id": "7da48e92e03c4b9b8daebccfa6bb4bca",
    "deepnote_cell_height": 54,
    "deepnote_cell_type": "markdown",
    "tags": []
   },
   "source": [
    "#### Changing the data type for Date column"
   ]
  },
  {
   "cell_type": "code",
   "execution_count": null,
   "metadata": {
    "cell_id": "21941b540ba342658c38104f4a33a02c",
    "deepnote_cell_height": 81,
    "deepnote_cell_type": "code",
    "deepnote_to_be_reexecuted": false,
    "execution_millis": 1,
    "execution_start": 1648883936336,
    "source_hash": "ff3ac33d",
    "tags": []
   },
   "outputs": [],
   "source": [
    "df_train['Date'] = pd.to_datetime(df_train['Date'])"
   ]
  },
  {
   "cell_type": "code",
   "execution_count": null,
   "metadata": {
    "cell_id": "062ad4e68c0f426b84cf9ff2580703f1",
    "deepnote_cell_height": 348,
    "deepnote_cell_type": "code",
    "deepnote_output_heights": [
     251
    ],
    "deepnote_to_be_reexecuted": false,
    "execution_millis": 0,
    "execution_start": 1648883936337,
    "source_hash": "dc62752b",
    "tags": []
   },
   "outputs": [],
   "source": [
    "df_train.dtypes"
   ]
  },
  {
   "cell_type": "markdown",
   "metadata": {
    "cell_id": "1e4354c3fa3641579ddcce901cda85b3",
    "deepnote_cell_height": 54,
    "deepnote_cell_type": "markdown",
    "tags": []
   },
   "source": [
    "#### Removing unrequired columns"
   ]
  },
  {
   "cell_type": "code",
   "execution_count": null,
   "metadata": {
    "cell_id": "a98ff9316c56496b83738f9b95b435e2",
    "deepnote_cell_height": 190,
    "deepnote_cell_type": "code",
    "deepnote_output_heights": [
     21
    ],
    "deepnote_to_be_reexecuted": false,
    "execution_millis": 581,
    "execution_start": 1648883936384,
    "source_hash": "c0ba3db8",
    "tags": []
   },
   "outputs": [],
   "source": [
    "#unrequired columns will be dropped\n",
    "#add Black back to training data\n",
    "drop_col = ['Address', 'Street', 'AddressNumberAndStreet', 'AddressAccuracy']\n",
    "\n",
    "[df_train.drop(col, axis=1, inplace=True) for col in drop_col]"
   ]
  },
  {
   "cell_type": "markdown",
   "metadata": {
    "cell_id": "e0fa8b2a1d8a425ab0ec8a60638cabb4",
    "deepnote_cell_height": 54,
    "deepnote_cell_type": "markdown",
    "tags": []
   },
   "source": [
    "#### Check for duplicates in the data"
   ]
  },
  {
   "cell_type": "code",
   "execution_count": null,
   "metadata": {
    "cell_id": "0063009d448d4f8987aad2029808f23a",
    "deepnote_cell_height": 632.796875,
    "deepnote_cell_type": "code",
    "deepnote_table_loading": false,
    "deepnote_table_state": {
     "filters": [],
     "pageIndex": 0,
     "pageSize": 10,
     "sortBy": []
    },
    "deepnote_to_be_reexecuted": false,
    "execution_millis": 586,
    "execution_start": 1648883936385,
    "source_hash": "d2d15c45",
    "tags": []
   },
   "outputs": [],
   "source": [
    "df_train[df_train.duplicated(keep=False)]\n",
    "#df_train.duplicated()"
   ]
  },
  {
   "cell_type": "markdown",
   "metadata": {
    "cell_id": "a5f9b8f5c6054f7f852104282be2601c",
    "deepnote_cell_height": 97.1875,
    "deepnote_cell_type": "markdown",
    "tags": []
   },
   "source": [
    "There are quite a number of duplicates in the data. This is due to the limits in data collection, the number of mosquitoes captured for each row seems to be limited to 50. However, this happened because address were dropped previously. In other words, it happened to have 50 mosquitoes in different address. Thus, there is a need to sum it up at the later part. "
   ]
  },
  {
   "cell_type": "markdown",
   "metadata": {
    "cell_id": "0572da80817f4b1b8f69a4c74168a20f",
    "deepnote_cell_height": 54,
    "deepnote_cell_type": "markdown",
    "tags": []
   },
   "source": [
    "#### Presence of West Nile Virus"
   ]
  },
  {
   "cell_type": "code",
   "execution_count": null,
   "metadata": {
    "cell_id": "67ceb920755a4990ab51375b68c35ce8",
    "deepnote_cell_height": 156,
    "deepnote_cell_type": "code",
    "deepnote_output_heights": [
     59
    ],
    "deepnote_to_be_reexecuted": false,
    "execution_millis": 12493496,
    "execution_start": 1648883936489,
    "source_hash": "b9869939",
    "tags": []
   },
   "outputs": [],
   "source": [
    "df_train['WnvPresent'].value_counts(normalize=True)"
   ]
  },
  {
   "cell_type": "markdown",
   "metadata": {
    "cell_id": "7a917feb18454878b5eaf1b2d8e06d7b",
    "deepnote_cell_height": 74.796875,
    "deepnote_cell_type": "markdown",
    "tags": []
   },
   "source": [
    "The training data collected in 2007, 2009, 2011 and 2013 showed 94.75% of no West Nile Virus present in mosquitoes and and 5.24% with West Nile Virus present. "
   ]
  },
  {
   "cell_type": "markdown",
   "metadata": {
    "cell_id": "c50626b6012746ef9c431b6863086f18",
    "deepnote_cell_height": 62,
    "deepnote_cell_type": "markdown",
    "tags": []
   },
   "source": [
    "### Presence of West Nile Virus (2007 - 2013)"
   ]
  },
  {
   "cell_type": "code",
   "execution_count": null,
   "metadata": {
    "cell_id": "a7c8df32afa14b19b8634ff95a106ae6",
    "deepnote_cell_height": 771,
    "deepnote_cell_type": "code",
    "deepnote_output_heights": [
     368
    ],
    "deepnote_to_be_reexecuted": false,
    "execution_millis": 26918,
    "execution_start": 1648883936545,
    "source_hash": "88b42a65",
    "tags": []
   },
   "outputs": [],
   "source": [
    "import matplotlib.pyplot as plt\n",
    "from datetime import datetime, timedelta\n",
    "plt.style.use('seaborn')\n",
    "\n",
    "fig, ax = plt.subplots(figsize=(20, 8))\n",
    "\n",
    "ax.bar(df_train['Date'],\n",
    "       df_train['WnvPresent'],)\n",
    "\n",
    "ax.set(xlabel=\"Date\",\n",
    "       ylabel=\"Virus Present\",\n",
    "       title=\"Presence of West Nile Virus \")\n",
    "\n",
    "date_form = DateFormatter(\"%m-%y\")\n",
    "ax.set_yticks([0,1])\n",
    "ax.xaxis.set_major_locator(mdates.MonthLocator(interval = 4))\n",
    "plt.tight_layout()\n",
    "plt.show()"
   ]
  },
  {
   "cell_type": "markdown",
   "metadata": {
    "cell_id": "82f8d0e2a3b2479c9e47a564b21ffea9",
    "deepnote_cell_height": 97.1875,
    "deepnote_cell_type": "markdown",
    "tags": []
   },
   "source": [
    "The training data reflected the seasonality of the virus, with the virus being present between July and October. There were some exceptions with the virus not present in certain years - 2008, 2010, 2012. The training data set consists of data from 2007, 2009, 2011 and 2013. "
   ]
  },
  {
   "cell_type": "markdown",
   "metadata": {
    "cell_id": "0278497cd70e49fd96f0af8d02d1d173",
    "deepnote_cell_height": 62,
    "deepnote_cell_type": "markdown",
    "tags": []
   },
   "source": [
    "### Presence of West Nile Virus in traps - Month"
   ]
  },
  {
   "cell_type": "code",
   "execution_count": null,
   "metadata": {
    "cell_id": "bbaeb7f945334801ba4af550d909e7fa",
    "deepnote_cell_height": 99,
    "deepnote_cell_type": "code",
    "deepnote_to_be_reexecuted": false,
    "execution_millis": 7,
    "execution_start": 1648883963466,
    "source_hash": "14aacd25",
    "tags": []
   },
   "outputs": [],
   "source": [
    "df_train['year'] = df_train['Date'].dt.year\n",
    "df_train['month'] = df_train['Date'].dt.month"
   ]
  },
  {
   "cell_type": "code",
   "execution_count": null,
   "metadata": {
    "cell_id": "1019866d261b48a98a0996214d0f2f21",
    "deepnote_cell_height": 457,
    "deepnote_cell_type": "code",
    "deepnote_output_heights": [
     252
    ],
    "deepnote_to_be_reexecuted": false,
    "execution_millis": 372,
    "execution_start": 1648883963483,
    "source_hash": "9a8bed86",
    "tags": []
   },
   "outputs": [],
   "source": [
    "plt.figure(figsize=(20,5))\n",
    "\n",
    "splot = sns.countplot(data = df_train, x = 'month', hue='WnvPresent')\n",
    "\n",
    "\n",
    "for p in splot.patches:\n",
    "    splot.annotate(format(p.get_height(), '.0f'), (p.get_x() + p.get_width() / 2., p.get_height()), ha = 'center', va = 'center', xytext = (0, 10), textcoords = 'offset points')"
   ]
  },
  {
   "cell_type": "markdown",
   "metadata": {
    "cell_id": "60ad49d99cb54d07bfe5afd643cb17d3",
    "deepnote_cell_height": 133.59375,
    "deepnote_cell_type": "markdown",
    "tags": []
   },
   "source": [
    "Delving deeper within the specific months, it was noticed that West Nile Virus is present within mosquitoes during July, August and September. With a higher numbers of West Nile Virus present in mosquitoes in August as compared to July and September. \n",
    "\n",
    "The data within the training set also reaffirmed the collection process in which mosquito traps being scattered across the city from May to October. "
   ]
  },
  {
   "cell_type": "markdown",
   "metadata": {
    "cell_id": "925a3989f87043fd8de5417053e9ec02",
    "deepnote_cell_height": 62,
    "deepnote_cell_type": "markdown",
    "tags": []
   },
   "source": [
    "### Presence of West Nile Virus in traps - Year"
   ]
  },
  {
   "cell_type": "code",
   "execution_count": null,
   "metadata": {
    "cell_id": "e2a522b8c83848d7ba175fed460b7ee4",
    "deepnote_cell_height": 439,
    "deepnote_cell_type": "code",
    "deepnote_output_heights": [
     252
    ],
    "deepnote_to_be_reexecuted": false,
    "execution_millis": 348,
    "execution_start": 1648883963853,
    "source_hash": "391dc004",
    "tags": []
   },
   "outputs": [],
   "source": [
    "plt.figure(figsize=(20,5))\n",
    "\n",
    "splot = sns.countplot(data = df_train, x = 'year', hue = 'WnvPresent')\n",
    "\n",
    "for p in splot.patches:\n",
    "    splot.annotate(format(p.get_height(), '.0f'), (p.get_x() + p.get_width() / 2., p.get_height()), ha = 'center', va = 'center', xytext = (0, 10), textcoords = 'offset points')"
   ]
  },
  {
   "cell_type": "markdown",
   "metadata": {
    "cell_id": "70fcd1169b0c4b608122818112897449",
    "deepnote_cell_height": 133.59375,
    "deepnote_cell_type": "markdown",
    "tags": []
   },
   "source": [
    "Breaking down within the specific years, we were able to notice that 2007 and 2013 saw higher cases of mosquitoes with West Nile Virus present, with 200 more cases while 2009 and 2013 saw less than 60 cases. \n",
    "\n",
    "Comparing the training dataset with the spray data set, we were able to notice while frequency of sprays were much higher in 2013 as compared to 2011, the number of traps with mosquitoes carrying West Nile Virus is 4 times higher than 2011. "
   ]
  },
  {
   "cell_type": "markdown",
   "metadata": {
    "cell_id": "2b2bc112f342463db865a3a8edb9d635",
    "deepnote_cell_height": 62,
    "deepnote_cell_type": "markdown",
    "tags": []
   },
   "source": [
    "### Types of Mosquitoes captured in traps"
   ]
  },
  {
   "cell_type": "code",
   "execution_count": null,
   "metadata": {
    "cell_id": "2f2dc2da29bb40119544e1de46267d7c",
    "deepnote_cell_height": 252,
    "deepnote_cell_type": "code",
    "deepnote_output_heights": [
     155
    ],
    "deepnote_to_be_reexecuted": false,
    "execution_millis": 10,
    "execution_start": 1648883964212,
    "source_hash": "b5209d30",
    "tags": []
   },
   "outputs": [],
   "source": [
    "df_train['Species'].value_counts(normalize=True)"
   ]
  },
  {
   "cell_type": "code",
   "execution_count": null,
   "metadata": {
    "cell_id": "bff661150ffd45ed98e4bc1c1b632fb6",
    "deepnote_cell_height": 439,
    "deepnote_cell_type": "code",
    "deepnote_output_heights": [
     252
    ],
    "deepnote_to_be_reexecuted": false,
    "execution_millis": 333,
    "execution_start": 1648883964220,
    "source_hash": "e619d848",
    "tags": []
   },
   "outputs": [],
   "source": [
    "plt.figure(figsize=(20,5))\n",
    "\n",
    "splot = sns.countplot(data = df_train, x = 'Species')\n",
    "\n",
    "for p in splot.patches:\n",
    "    splot.annotate(format(p.get_height(), '.0f'), (p.get_x() + p.get_width() / 2., p.get_height()), ha = 'center', va = 'center', xytext = (0, 10), textcoords = 'offset points')"
   ]
  },
  {
   "cell_type": "markdown",
   "metadata": {
    "cell_id": "04742e7f08654f87968f4d3b6ddfb5dc",
    "deepnote_cell_height": 133.59375,
    "deepnote_cell_type": "markdown",
    "tags": []
   },
   "source": [
    "Out of the 6 different mosquito species caught within the traps in 2007, 2009, 2011 and 2013,  45.23% of cases included mosquitoes that were Culex Pipens/ Restuans (combination of both Culex Restuans & Culex Pipiens), followed by Culex Restuans (26.08%) and Culex Pipiens (25.69%). \n",
    "\n",
    "Next, we will be exploring whether certain species are more likely to carrying the West Nile Virus. "
   ]
  },
  {
   "cell_type": "markdown",
   "metadata": {
    "cell_id": "2aa9cfaffee04451915de1494ddc1a33",
    "deepnote_cell_height": 62,
    "deepnote_cell_type": "markdown",
    "tags": []
   },
   "source": [
    "### Counts of traps with mosquitoes carrying West Nile Virus"
   ]
  },
  {
   "cell_type": "code",
   "execution_count": null,
   "metadata": {
    "cell_id": "60233afe0c9b484cb45edecb95668087",
    "deepnote_cell_height": 632.796875,
    "deepnote_cell_type": "code",
    "deepnote_to_be_reexecuted": false,
    "execution_millis": 73,
    "execution_start": 1648883964558,
    "source_hash": "eac3d6d4",
    "tags": []
   },
   "outputs": [],
   "source": [
    "train_present = df_train.loc[df_train['WnvPresent']==1]\n",
    "train_present"
   ]
  },
  {
   "cell_type": "code",
   "execution_count": null,
   "metadata": {
    "cell_id": "199740546bd947198022bedb6ef859ae",
    "deepnote_cell_height": 441,
    "deepnote_cell_type": "code",
    "deepnote_output_heights": [
     254
    ],
    "deepnote_to_be_reexecuted": false,
    "execution_millis": 693,
    "execution_start": 1648883964673,
    "source_hash": "8b4a4bfc",
    "tags": []
   },
   "outputs": [],
   "source": [
    "plt.figure(figsize=(20,5))\n",
    "\n",
    "splot = sns.countplot(data = train_present, x = 'Species', hue='WnvPresent')\n",
    "\n",
    "for p in splot.patches:\n",
    "    splot.annotate(format(p.get_height(), '.0f'), (p.get_x() + p.get_width() / 2., p.get_height()), ha = 'center', va = 'center', xytext = (0, 10), textcoords = 'offset points')"
   ]
  },
  {
   "cell_type": "markdown",
   "metadata": {
    "cell_id": "196c4acc7d3e4d208df68f608fb7684b",
    "deepnote_cell_height": 52.390625,
    "deepnote_cell_type": "markdown",
    "tags": []
   },
   "source": [
    "Species tested carrying the West Nile Virus are primarily three main species - Culex Pipiens/Restuans, Culex Pipiens and Culex Restuans"
   ]
  },
  {
   "cell_type": "markdown",
   "metadata": {
    "cell_id": "9f595eaecc1e4d01bcfb1aab3009cd0c",
    "deepnote_cell_height": 62,
    "deepnote_cell_type": "markdown",
    "tags": []
   },
   "source": [
    "### Counts of species captured in traps over the years"
   ]
  },
  {
   "cell_type": "code",
   "execution_count": null,
   "metadata": {
    "cell_id": "d8b991be91294c9b9d4acb1426e9050c",
    "deepnote_cell_height": 439,
    "deepnote_cell_type": "code",
    "deepnote_output_heights": [
     252
    ],
    "deepnote_to_be_reexecuted": false,
    "execution_millis": 639,
    "execution_start": 1648883964940,
    "source_hash": "6c66b6ea",
    "tags": []
   },
   "outputs": [],
   "source": [
    "plt.figure(figsize=(20,5))\n",
    "\n",
    "splot = sns.countplot(data = df_train, x = 'year', hue = 'Species')\n",
    "\n",
    "for p in splot.patches:\n",
    "    splot.annotate(format(p.get_height(), '.0f'), (p.get_x() + p.get_width() / 2., p.get_height()), ha = 'center', va = 'center', xytext = (0, 10), textcoords = 'offset points')"
   ]
  },
  {
   "cell_type": "markdown",
   "metadata": {
    "cell_id": "878f0c62351d408da99b15c1ef29f2f0",
    "deepnote_cell_height": 156,
    "deepnote_cell_type": "markdown",
    "tags": []
   },
   "source": [
    "Culex Pipiens/ Resturans, Culex Restuans and Culex Pipiens were the three main species seen in the training dataset. This was seen with these three species taking up the bulk of the number of cases of mosquitoes captured in traps in 2007, 2009, 2011 and 2013. \n",
    "\n",
    "\n",
    "2007 saw Culex Pipiens taking up 42% of traps sampled with mosquitoes caught. However in 2009, 2011 and 2013, Culex Pipiens/Restuans represented the bulk of the traps sampled - (49.93% in 2009, 46.83% in 2011 and 46.59% in 2013). Furthermore, the number of traps has decreased, 2009, 2011 and 2013 reported less traps as compared to 2007. "
   ]
  },
  {
   "cell_type": "markdown",
   "metadata": {
    "cell_id": "1a3bc2cef11c49ae961acbaf8987c160",
    "deepnote_cell_height": 62,
    "deepnote_cell_type": "markdown",
    "tags": []
   },
   "source": [
    "### Sum of Mosquitoes (Year, Month)"
   ]
  },
  {
   "cell_type": "code",
   "execution_count": null,
   "metadata": {
    "cell_id": "1a32cee04e864b6183280eafc799a13b",
    "deepnote_cell_height": 648,
    "deepnote_cell_type": "code",
    "deepnote_table_loading": false,
    "deepnote_table_state": {
     "filters": [],
     "pageIndex": 0,
     "pageSize": 10,
     "sortBy": [
      {
       "id": "sum",
       "type": "desc"
      }
     ]
    },
    "deepnote_to_be_reexecuted": false,
    "execution_millis": 36,
    "execution_start": 1648883965588,
    "source_hash": "fabe6790",
    "tags": []
   },
   "outputs": [],
   "source": [
    "mos_yearmth = df_train.groupby(['year', 'month'])['NumMosquitos'].agg(['sum'])\n",
    "mos_yearmth"
   ]
  },
  {
   "cell_type": "code",
   "execution_count": null,
   "metadata": {
    "cell_id": "49233a8058894980bc0665bdd9d57dac",
    "deepnote_cell_height": 370,
    "deepnote_cell_type": "code",
    "deepnote_to_be_reexecuted": false,
    "execution_millis": 18,
    "execution_start": 1648883965626,
    "source_hash": "a3daf236",
    "tags": []
   },
   "outputs": [],
   "source": [
    "mos_year = df_train.groupby(['year'])['NumMosquitos'].agg(['sum'])\n",
    "mos_year"
   ]
  },
  {
   "cell_type": "code",
   "execution_count": null,
   "metadata": {
    "cell_id": "e296da9d22ff42d188b68396da15d2d9",
    "deepnote_cell_height": 624,
    "deepnote_cell_type": "code",
    "deepnote_output_heights": [
     21,
     421
    ],
    "deepnote_to_be_reexecuted": false,
    "execution_millis": 494,
    "execution_start": 1648883965647,
    "source_hash": "14160844",
    "tags": []
   },
   "outputs": [],
   "source": [
    "plt.figure(figsize=(18, 8))\n",
    "mos_yearmth['sum'].plot(kind=\"barh\")\n",
    "plt.xlabel('Total Mosquito count')\n",
    "plt.title('Total sum of mosquitoes by Year, Month')"
   ]
  },
  {
   "cell_type": "markdown",
   "metadata": {
    "cell_id": "278225f7476b44988402d29b3ee09bd3",
    "deepnote_cell_height": 74.796875,
    "deepnote_cell_type": "markdown",
    "tags": []
   },
   "source": [
    "August 2007 saw the highest number of mosquitoes caught with more than 40,000 mosquitoes followed by july and august 2013 with more than 12,000 mosquitoes caught. "
   ]
  },
  {
   "cell_type": "code",
   "execution_count": null,
   "metadata": {
    "cell_id": "0933c875242a44cea4240a8324ba0e65",
    "deepnote_cell_height": 616,
    "deepnote_cell_type": "code",
    "deepnote_table_loading": false,
    "deepnote_table_state": {
     "filters": [],
     "pageIndex": 1,
     "pageSize": 10,
     "sortBy": []
    },
    "deepnote_to_be_reexecuted": false,
    "execution_millis": 50,
    "execution_start": 1648883966150,
    "source_hash": "3bd69512",
    "tags": []
   },
   "outputs": [],
   "source": [
    "sss = df_train.groupby(['year', 'month', 'Species','WnvPresent'], as_index=False).agg({'NumMosquitos': 'sum'})\n",
    "sss"
   ]
  },
  {
   "cell_type": "code",
   "execution_count": null,
   "metadata": {
    "cell_id": "b5de5ac4269441c9abc24561b4cd4e18",
    "deepnote_cell_height": 429,
    "deepnote_cell_type": "code",
    "deepnote_to_be_reexecuted": false,
    "execution_millis": 29,
    "execution_start": 1648883966212,
    "source_hash": "e1872939",
    "tags": []
   },
   "outputs": [],
   "source": [
    "cols = ['year', 'month']\n",
    "sss['year_month'] = sss[cols].apply(lambda row: '_'.join(row.values.astype(str)), axis=1)\n",
    "sss.head()"
   ]
  },
  {
   "cell_type": "markdown",
   "metadata": {
    "cell_id": "85b7f3f9098e4613a1c76b7a74eac0b7",
    "deepnote_cell_height": 62,
    "deepnote_cell_type": "markdown",
    "tags": []
   },
   "source": [
    "### Sum of Mosquitoes (Year, Month) by Species"
   ]
  },
  {
   "cell_type": "code",
   "execution_count": null,
   "metadata": {
    "cell_id": "698066852af445029ca2a5757562991d",
    "deepnote_cell_height": 778,
    "deepnote_cell_type": "code",
    "deepnote_output_heights": [
     21,
     611
    ],
    "deepnote_to_be_reexecuted": false,
    "execution_millis": 2718,
    "execution_start": 1648883966244,
    "source_hash": "b1dd9206",
    "tags": []
   },
   "outputs": [],
   "source": [
    "plt.figure(figsize=(20, 20))\n",
    "sns.barplot(x=\"year_month\", y=\"NumMosquitos\", data=sss, hue = 'Species', estimator=sum)"
   ]
  },
  {
   "cell_type": "markdown",
   "metadata": {
    "cell_id": "885fdc47d8bd4e30a48bc82b14923ffd",
    "deepnote_cell_height": 156,
    "deepnote_cell_type": "markdown",
    "tags": []
   },
   "source": [
    "In August 2007, more than 25,000 Culex Pipens was caught, which was 10,000 more than the next highest number of mosquito species (Culex Pipiens/Restuans) caught in the same month. \n",
    "\n",
    "Taking a closer look at the specific years- it was noticed that in 2009, majority of species caught were Culux Pipiens and Culux Pipiens/Restuans. In 2009 and 2011 and 2013(june, july) , majority of species caught belonged to Culex Pipiens/Restuans and Culex Restuans while in August and September 2013, majority of species caught were Culex Pipiens and Culex Pipens/Restuans."
   ]
  },
  {
   "cell_type": "markdown",
   "metadata": {
    "cell_id": "ca64882882dd4854b7788d688267dc6e",
    "deepnote_cell_height": 62,
    "deepnote_cell_type": "markdown",
    "tags": []
   },
   "source": [
    "### Traps"
   ]
  },
  {
   "cell_type": "code",
   "execution_count": null,
   "metadata": {
    "cell_id": "a33f38c99a98413987f6014252e44336",
    "deepnote_cell_height": 148,
    "deepnote_cell_type": "code",
    "deepnote_to_be_reexecuted": false,
    "execution_millis": 50,
    "execution_start": 1648883968959,
    "source_hash": "abf900b6",
    "tags": []
   },
   "outputs": [],
   "source": [
    "trap_count = df_train['Trap'].nunique()\n",
    "\n",
    "print( f\"There are {trap_count} unique number of traps in the training dataset\")"
   ]
  },
  {
   "cell_type": "code",
   "execution_count": null,
   "metadata": {
    "cell_id": "e41d6d5531094625bc23fbe70d6671e2",
    "deepnote_cell_height": 99,
    "deepnote_cell_type": "code",
    "deepnote_to_be_reexecuted": false,
    "execution_millis": 0,
    "execution_start": 1648883969011,
    "source_hash": "14b72591",
    "tags": []
   },
   "outputs": [],
   "source": [
    "trap_present = train_present.groupby('Trap')['NumMosquitos'].agg(['sum','count'])\n",
    "trap_present.index.name = 'Trap'"
   ]
  },
  {
   "cell_type": "code",
   "execution_count": null,
   "metadata": {
    "cell_id": "5658972228d544e7afb11dcb872e20fd",
    "deepnote_cell_height": 117,
    "deepnote_cell_type": "code",
    "deepnote_table_loading": false,
    "deepnote_table_state": {
     "filters": [],
     "pageIndex": 0,
     "pageSize": 10,
     "sortBy": [
      {
       "id": "count",
       "type": "desc"
      }
     ]
    },
    "deepnote_to_be_reexecuted": false,
    "execution_millis": 0,
    "execution_start": 1648883969012,
    "source_hash": "8dee164e",
    "tags": []
   },
   "outputs": [],
   "source": [
    "\n",
    "top_10 = trap_present.sort_values(by=\"sum\", ascending=False).head(10)\n",
    "#top_10"
   ]
  },
  {
   "cell_type": "markdown",
   "metadata": {
    "cell_id": "ae1b69d0d8a845c8a6aff0f666247312",
    "deepnote_cell_height": 54,
    "deepnote_cell_type": "markdown",
    "tags": []
   },
   "source": [
    "#### Visualizing the count of traps with presence of West Nile Virus in mosquitoes"
   ]
  },
  {
   "cell_type": "code",
   "execution_count": null,
   "metadata": {
    "cell_id": "0739ec3e34bb486a82eb9f857230b540",
    "deepnote_cell_height": 481,
    "deepnote_cell_type": "code",
    "deepnote_output_heights": [
     21,
     332
    ],
    "deepnote_to_be_reexecuted": false,
    "execution_millis": 272,
    "execution_start": 1648883969013,
    "source_hash": "809ca5fb",
    "tags": []
   },
   "outputs": [],
   "source": [
    "top_10['sum'].plot(kind=\"barh\")"
   ]
  },
  {
   "cell_type": "markdown",
   "metadata": {
    "cell_id": "65bbdc7e05a14b7691a32edf07d91839",
    "deepnote_cell_height": 52.390625,
    "deepnote_cell_type": "markdown",
    "tags": []
   },
   "source": [
    "The top 2 Traps with the highest count of mosquitoes with west nile virus are T900 and T115, with more than 1750 counts."
   ]
  },
  {
   "cell_type": "markdown",
   "metadata": {
    "cell_id": "4ba302c731d34d08a4fc90c1b908ca91",
    "deepnote_cell_height": 100.390625,
    "deepnote_cell_type": "markdown",
    "tags": []
   },
   "source": [
    "### Addressing 50 mosquitoes per row limit\n",
    "\n",
    "Pulling up duplicate rows with the same date, species and location. \n"
   ]
  },
  {
   "cell_type": "code",
   "execution_count": null,
   "metadata": {
    "cell_id": "56e62329ea2a49148fb8a74da2eaaf11",
    "deepnote_cell_height": 632.796875,
    "deepnote_cell_type": "code",
    "deepnote_table_loading": false,
    "deepnote_table_state": {
     "filters": [],
     "pageIndex": 0,
     "pageSize": 10,
     "sortBy": []
    },
    "deepnote_to_be_reexecuted": false,
    "execution_millis": 74,
    "execution_start": 1648883969295,
    "source_hash": "cb5b86ec",
    "tags": []
   },
   "outputs": [],
   "source": [
    "#Filtering rows that are duplicated based on these columns - Date, Species, Latitude, Longitude and WnvPresent\n",
    "df_train.loc[df_train.duplicated(subset=['Date', 'Species', 'Latitude', 'Longitude','WnvPresent'], keep=False)]"
   ]
  },
  {
   "cell_type": "code",
   "execution_count": null,
   "metadata": {
    "cell_id": "7339d9206dbb401c9f5b28b70428ab51",
    "deepnote_cell_height": 135,
    "deepnote_cell_type": "code",
    "deepnote_to_be_reexecuted": false,
    "execution_millis": 23,
    "execution_start": 1648883969378,
    "source_hash": "3649d1f5",
    "tags": []
   },
   "outputs": [],
   "source": [
    "# grouping every col within the df to remove the duplicated rows\n",
    "\n",
    "df_train = df_train.groupby([col for col in df_train.columns if col not in ['NumMosquitos']], as_index=False).sum().reindex()\n"
   ]
  },
  {
   "cell_type": "code",
   "execution_count": null,
   "metadata": {
    "cell_id": "03c692310da9439d99c7a81d04dd5cab",
    "deepnote_cell_height": 118,
    "deepnote_cell_type": "code",
    "deepnote_output_heights": [
     21
    ],
    "deepnote_to_be_reexecuted": false,
    "execution_millis": 10,
    "execution_start": 1648883969413,
    "source_hash": "83b2d61b",
    "tags": []
   },
   "outputs": [],
   "source": [
    "df_train.duplicated().sum()"
   ]
  },
  {
   "cell_type": "code",
   "execution_count": null,
   "metadata": {
    "cell_id": "75eb07035e154f9b913132888b37c746",
    "deepnote_cell_height": 118,
    "deepnote_cell_type": "code",
    "deepnote_output_heights": [
     21
    ],
    "deepnote_to_be_reexecuted": false,
    "execution_millis": 1,
    "execution_start": 1648883969430,
    "source_hash": "db981d08",
    "tags": []
   },
   "outputs": [],
   "source": [
    "df_train.shape"
   ]
  },
  {
   "cell_type": "code",
   "execution_count": null,
   "metadata": {
    "cell_id": "c3b46f5af78d4d34a272fa01f057b79e",
    "deepnote_cell_height": 614.796875,
    "deepnote_cell_type": "code",
    "deepnote_table_invalid": false,
    "deepnote_table_loading": false,
    "deepnote_table_state": {
     "filters": [],
     "pageIndex": 0,
     "pageSize": 10,
     "sortBy": []
    },
    "deepnote_to_be_reexecuted": false,
    "execution_millis": 91,
    "execution_start": 1648883969473,
    "source_hash": "e7a4a97c",
    "tags": []
   },
   "outputs": [],
   "source": [
    "df_train"
   ]
  },
  {
   "cell_type": "code",
   "execution_count": null,
   "metadata": {
    "cell_id": "53143106-8c22-4a01-ab9d-27eb432513f2",
    "deepnote_cell_height": 1432,
    "deepnote_cell_type": "code",
    "deepnote_output_heights": [
     579
    ],
    "deepnote_to_be_reexecuted": false,
    "execution_millis": 3556,
    "execution_start": 1648883969567,
    "source_hash": "2760c548",
    "tags": []
   },
   "outputs": [],
   "source": [
    "#Visualize if Sprayed area has less WVN cases\n",
    "\n",
    "df_train_2011 = df_train[(pd.DatetimeIndex(df_train['Date']).year == 2011) & (df_train['WnvPresent'] > 0 )]\n",
    "df_train_2013 = df_train[(pd.DatetimeIndex(df_train['Date']).year == 2013) & (df_train['WnvPresent'] > 0 )]\n",
    "\n",
    "#use map data provided by kaggle\n",
    "mapdata = np.loadtxt('../datasets/mapdata_copyright_openstreetmap_contributors.txt')  \n",
    "\n",
    "#set dimensions of the plot\n",
    "lon_lat_box = (df_spray['Longitude'].min()-.1, df_spray['Longitude'].max()+.1\n",
    ", df_spray['Latitude'].min()-.1, df_spray['Latitude'].max()+.1)\n",
    "\n",
    "fig, ax = plt.subplots(nrows=1, ncols=2, figsize=(16,10))\n",
    "\n",
    "\n",
    "#map\n",
    "ax[0].imshow(mapdata, cmap=plt.get_cmap('gray'), aspect='auto', extent=lon_lat_box)\n",
    "ax[1].imshow(mapdata, cmap=plt.get_cmap('gray'), aspect='auto', extent=lon_lat_box)\n",
    "\n",
    "#data\n",
    "#plot spray 2011\n",
    "for i in df_spray_2011['label'].unique():  \n",
    "    ax[0].scatter(df_spray_2011[df_spray_2011['label'] == i]['Longitude'], \n",
    "               df_spray_2011[df_spray_2011['label'] == i]['Latitude'], \n",
    "               label=i, marker='x')\n",
    "\n",
    "#plot spray 2013\n",
    "for i in df_spray_2013['label'].unique():  \n",
    "    ax[1].scatter(df_spray_2013[df_spray_2013['label'] == i]['Longitude'], \n",
    "               df_spray_2013[df_spray_2013['label'] == i]['Latitude'], \n",
    "               label=i, marker='x')\n",
    "\n",
    "#WVN \n",
    "ax[0].scatter(df_train_2011['Longitude'], df_train_2011['Latitude'], marker='o', label='WVN', color='orange');\n",
    "ax[1].scatter(df_train_2013['Longitude'], df_train_2013['Latitude'], marker='o', label='WVN', color='orange');\n",
    "\n",
    "#titles\n",
    "ax[0].set_title('Spray/WVN - 2011');\n",
    "ax[1].set_title('Spray/WVN - 2013');\n",
    "\n",
    "#show legend\n",
    "ax[0].legend();\n",
    "ax[1].legend();"
   ]
  },
  {
   "cell_type": "markdown",
   "metadata": {
    "cell_id": "06afc5fa6f64480e9a781867124576c0",
    "deepnote_cell_height": 74.796875,
    "deepnote_cell_type": "markdown",
    "tags": []
   },
   "source": [
    "*Above is the spray location and the presence of WVN , further analysis needed to check if the area that were sprayed have any impact on the number of mosquitos or presence of WNV*"
   ]
  },
  {
   "cell_type": "code",
   "execution_count": null,
   "metadata": {
    "cell_id": "75047c1031544276a810b17f5bd5b74b",
    "deepnote_cell_height": 432,
    "deepnote_cell_type": "code",
    "deepnote_to_be_reexecuted": false,
    "execution_millis": 177,
    "execution_start": 1648883972947,
    "source_hash": "8bf01e0b",
    "tags": []
   },
   "outputs": [],
   "source": [
    "df_train.info()"
   ]
  },
  {
   "cell_type": "code",
   "execution_count": null,
   "metadata": {
    "cell_id": "b71e537160964385974954eb8814bd3c",
    "deepnote_cell_height": 136,
    "deepnote_cell_type": "code",
    "deepnote_output_heights": [
     21
    ],
    "deepnote_to_be_reexecuted": false,
    "execution_millis": 149,
    "execution_start": 1648883972976,
    "source_hash": "2652b46c",
    "tags": []
   },
   "outputs": [],
   "source": [
    "df_merge = pd.merge(left=df_train, right=df_weather, how=\"inner\", on=\"Date\")\n",
    "df_merge.shape"
   ]
  },
  {
   "cell_type": "code",
   "execution_count": null,
   "metadata": {
    "cell_id": "007cb9de67d24b569fc117b8a6cac169",
    "deepnote_cell_height": 672,
    "deepnote_cell_type": "code",
    "deepnote_to_be_reexecuted": false,
    "execution_millis": 87,
    "execution_start": 1648883973039,
    "source_hash": "a51a55e1",
    "tags": []
   },
   "outputs": [],
   "source": [
    "df_merge.info()"
   ]
  },
  {
   "cell_type": "code",
   "execution_count": null,
   "metadata": {
    "cell_id": "90007277e70c4d61bba0073be58bbdd8",
    "deepnote_cell_height": 585,
    "deepnote_cell_type": "code",
    "deepnote_output_heights": [
     21,
     400
    ],
    "deepnote_to_be_reexecuted": false,
    "execution_millis": 1990,
    "execution_start": 1648883973073,
    "source_hash": "319db9c3",
    "tags": []
   },
   "outputs": [],
   "source": [
    "# Looking for correlation against WmnPresent\n",
    "features = ['Species','Trap','NumMosquitos','Tavg','Depart','DewPoint','WetBulb','PrecipTotal','StnPressure','SeaLevel','ResultSpeed','ResultDir','CodeSum_set','WnvPresent']\n",
    "sns.heatmap(df_merge[features].corr(), annot=True, cmap='coolwarm')"
   ]
  },
  {
   "cell_type": "markdown",
   "metadata": {
    "cell_id": "77d7f7680b684d08863dc5cbbf3dcd25",
    "deepnote_cell_height": 178,
    "deepnote_cell_type": "markdown",
    "tags": []
   },
   "source": [
    "#### Decision of dropping columns which have weak correlation with WmnPresent.\n",
    "\n",
    "we are dropping features that has less than 0.05 or more than -0.05 against WmnPresent. <br>\n",
    "Afterwhich, we have indentified ['StnPressure','SeaLevel','Depart','WetBulb','ResultDir','PrecipTotal']  to be dropped. <br>\n",
    "However, we noticed 'PrecipTotal' has is an indicator to identify whether the day has heavy rain or no rain which is a critical influence of mosquitoes activity (Mosquitoes are weak flying insect and if there is heavy rain, it will damage their wings thus heavy rain affects mosquitoes to staying indoor).Therefore, we will keep 'PrecipTotal' as one of the features.\n"
   ]
  },
  {
   "cell_type": "code",
   "execution_count": null,
   "metadata": {
    "cell_id": "68cd6e1d358d4cbfbaa52de1ba693156",
    "deepnote_cell_height": 81,
    "deepnote_cell_type": "code",
    "deepnote_to_be_reexecuted": false,
    "execution_millis": 12466635,
    "execution_start": 1648883975090,
    "source_hash": "1ff7ac4e",
    "tags": []
   },
   "outputs": [],
   "source": [
    "df_merge.drop(columns=['StnPressure','Depart','WetBulb','ResultDir'], inplace=True)"
   ]
  },
  {
   "cell_type": "code",
   "execution_count": null,
   "metadata": {
    "cell_id": "683759db46134ddba0d73cd482b6e779",
    "deepnote_cell_height": 614.796875,
    "deepnote_cell_type": "code",
    "deepnote_to_be_reexecuted": false,
    "execution_millis": 555,
    "execution_start": 1648883975093,
    "source_hash": "126b65c0",
    "tags": []
   },
   "outputs": [],
   "source": [
    "df_merge"
   ]
  },
  {
   "cell_type": "code",
   "execution_count": null,
   "metadata": {
    "cell_id": "f0bf256ce86849a5be98a351424e8ad0",
    "deepnote_cell_height": 171,
    "deepnote_cell_type": "code",
    "deepnote_to_be_reexecuted": false,
    "execution_millis": 837,
    "execution_start": 1648883975278,
    "source_hash": "5f166bcd",
    "tags": []
   },
   "outputs": [],
   "source": [
    "\n",
    "#check to make sure there is no more missing data\n",
    "assert df_merge.isnull().sum().sum() == 0 \n",
    "\n",
    "#save our dataset for further processing (feature engineering)\n",
    "df_merge.to_csv(\"../datasets/cleaned_traindf.csv\", index=False)"
   ]
  },
  {
   "cell_type": "markdown",
   "metadata": {
    "cell_id": "43dd5c62da124c06a71f173d104b8251",
    "deepnote_cell_height": 209.390625,
    "deepnote_cell_type": "markdown",
    "tags": []
   },
   "source": [
    "We have decided to drop the spray dataset and merge the training dataset with the weather dataset. \n",
    "\n",
    "This decision was made due to various reasons. \n",
    "1) There is only data in the spray dataset for 2 years (2011 and 2013)\n",
    "2) While frequency of sprays are much higher in 2013 as compared to 2011, the number of traps with mosquitoes carrying West Nile Virus is 4 times higher than 2011. Also, the sum of mosquitoes caught in 2013 is higher than 2011 (1.94X higher than 2011) which shows that the sprays may not be effective in killing the mosquitoes and reducing West Nile Virus in the area."
   ]
  },
  {
   "cell_type": "code",
   "execution_count": null,
   "metadata": {
    "cell_id": "ed95acf940024dd48e0c7d541e5fbfed",
    "deepnote_cell_height": 81,
    "deepnote_cell_type": "code",
    "deepnote_to_be_reexecuted": false,
    "execution_millis": 3,
    "execution_start": 1648883976124,
    "source_hash": "b623e53d",
    "tags": []
   },
   "outputs": [],
   "source": []
  },
  {
   "cell_type": "code",
   "execution_count": null,
   "metadata": {
    "cell_id": "35da50e60ede4a20ac151b800ae9c8d1",
    "deepnote_cell_height": 226,
    "deepnote_cell_type": "code",
    "deepnote_output_heights": [
     21
    ],
    "deepnote_to_be_reexecuted": false,
    "execution_millis": 40,
    "execution_start": 1648883976132,
    "source_hash": "6ac3894f",
    "tags": []
   },
   "outputs": [],
   "source": [
    "# merge with Spray dataset\n",
    "df_spray[\"is_spray\"] = 1\n",
    "df_spray.rename(columns={'Date':'Spray_Date'},inplace=True)\n",
    "df_spray[\"Latitude\"] = df_spray[\"Latitude\"].round(6)\n",
    "df_spray[\"Longitude\"] = df_spray[\"Longitude\"].round(6)\n",
    "df_mwspray = pd.merge(left=df_merge, right=df_spray, how=\"left\", left_on=[\"Latitude\",\"Longitude\"], right_on=[\"Latitude\",\"Longitude\"])\n",
    "df_mwspray.shape"
   ]
  },
  {
   "cell_type": "code",
   "execution_count": null,
   "metadata": {
    "cell_id": "3c14d1e1785d4251a2c9126d1e5cf375",
    "deepnote_cell_height": 664.796875,
    "deepnote_cell_type": "code",
    "deepnote_table_invalid": false,
    "deepnote_table_loading": false,
    "deepnote_table_state": {
     "filters": [
      {
       "id": "Date",
       "type": "contains",
       "value": "2011-09"
      }
     ],
     "pageIndex": 0,
     "pageSize": 10,
     "sortBy": []
    },
    "deepnote_to_be_reexecuted": false,
    "execution_millis": 1054,
    "execution_start": 1648883976187,
    "source_hash": "9d3941bc",
    "tags": []
   },
   "outputs": [],
   "source": [
    "df_mwspray.to_csv(\"../datasets/cleaned_traindf w spray.csv\", index=False)\n",
    "df_mwspray"
   ]
  },
  {
   "cell_type": "code",
   "execution_count": null,
   "metadata": {
    "cell_id": "eb1aadf5ca18426a8bb57e07f3920c6a",
    "deepnote_cell_height": 598,
    "deepnote_cell_type": "code",
    "deepnote_table_loading": false,
    "deepnote_table_state": {
     "filters": [],
     "pageIndex": 5,
     "pageSize": 10,
     "sortBy": []
    },
    "deepnote_to_be_reexecuted": false,
    "execution_millis": 56,
    "execution_start": 1648883977281,
    "source_hash": "17918bfb",
    "tags": []
   },
   "outputs": [],
   "source": [
    "df_spray"
   ]
  },
  {
   "cell_type": "markdown",
   "metadata": {
    "cell_id": "4f468148e4d94cd2a57aaba154a98539",
    "deepnote_cell_height": 70,
    "deepnote_cell_type": "markdown",
    "tags": []
   },
   "source": [
    "## Test Dataset"
   ]
  },
  {
   "cell_type": "code",
   "execution_count": null,
   "metadata": {
    "cell_id": "14fd9575-38c4-461f-a6c2-87c2d0f9a213",
    "deepnote_cell_height": 81,
    "deepnote_cell_type": "code",
    "deepnote_to_be_reexecuted": false,
    "execution_millis": 14747292,
    "execution_start": 1648883977343,
    "source_hash": "85858ce",
    "tags": []
   },
   "outputs": [],
   "source": [
    "#do the same for test dataset"
   ]
  },
  {
   "cell_type": "code",
   "execution_count": null,
   "metadata": {
    "cell_id": "a1e0be1ecb4d432b90f6db5d284432e1",
    "deepnote_cell_height": 136,
    "deepnote_cell_type": "code",
    "deepnote_output_heights": [
     21
    ],
    "deepnote_to_be_reexecuted": false,
    "execution_millis": 41,
    "execution_start": 1648883977349,
    "source_hash": "74d39944",
    "tags": []
   },
   "outputs": [],
   "source": [
    "#remove the columns\n",
    "[df_test.drop(col, axis=1, inplace=True) for col in drop_col]"
   ]
  },
  {
   "cell_type": "code",
   "execution_count": null,
   "metadata": {
    "cell_id": "390bb771aade4e6e99da4a25f0b0586a",
    "deepnote_cell_height": 135,
    "deepnote_cell_type": "code",
    "deepnote_to_be_reexecuted": false,
    "execution_millis": 31,
    "execution_start": 1648883977401,
    "source_hash": "143a3792",
    "tags": []
   },
   "outputs": [],
   "source": [
    "#create date fields\n",
    "df_test['Date'] = pd.to_datetime(df_test['Date'])\n",
    "df_test['year'] = df_test['Date'].dt.year\n",
    "df_test['month'] = df_test['Date'].dt.month"
   ]
  },
  {
   "cell_type": "code",
   "execution_count": null,
   "metadata": {
    "cell_id": "06dbbd5e9c6345e1840268b606878080",
    "deepnote_cell_height": 412,
    "deepnote_cell_type": "code",
    "deepnote_to_be_reexecuted": false,
    "execution_millis": 2,
    "execution_start": 1648883977476,
    "source_hash": "15d09156",
    "tags": []
   },
   "outputs": [],
   "source": [
    "df_test.info()"
   ]
  },
  {
   "cell_type": "code",
   "execution_count": null,
   "metadata": {
    "cell_id": "1c8ce4fd1d2d428cb22083ad95adbaa3",
    "deepnote_cell_height": 136,
    "deepnote_cell_type": "code",
    "deepnote_output_heights": [
     21
    ],
    "deepnote_to_be_reexecuted": false,
    "execution_millis": 28,
    "execution_start": 1648883977477,
    "source_hash": "dd7ebe8d",
    "tags": []
   },
   "outputs": [],
   "source": [
    "df_merge_test = pd.merge(left=df_test, right=df_weather, how=\"left\", on=\"Date\")\n",
    "df_merge_test.shape"
   ]
  },
  {
   "cell_type": "code",
   "execution_count": null,
   "metadata": {
    "cell_id": "986849d7ed754d8c83062f2711a87db3",
    "deepnote_cell_height": 652,
    "deepnote_cell_type": "code",
    "deepnote_to_be_reexecuted": false,
    "execution_millis": 42,
    "execution_start": 1648883977508,
    "source_hash": "e1310e57",
    "tags": []
   },
   "outputs": [],
   "source": [
    "df_merge_test.info()"
   ]
  },
  {
   "cell_type": "code",
   "execution_count": null,
   "metadata": {
    "cell_id": "d3610fab9c3a45b5beec3cf52bb5ebca",
    "deepnote_cell_height": 99,
    "deepnote_cell_type": "code",
    "deepnote_to_be_reexecuted": false,
    "execution_millis": 0,
    "execution_start": 1648883977596,
    "source_hash": "997f732a",
    "tags": []
   },
   "outputs": [],
   "source": [
    "# following dropped columns from df_merge dataset\n",
    "df_merge_test.drop(columns=['StnPressure','Depart','WetBulb','ResultDir'], inplace=True)"
   ]
  },
  {
   "cell_type": "code",
   "execution_count": null,
   "metadata": {
    "cell_id": "bf00200c1f7b4af3bd72bc29f80da598",
    "deepnote_cell_height": 153,
    "deepnote_cell_type": "code",
    "deepnote_to_be_reexecuted": false,
    "execution_millis": 7428,
    "execution_start": 1648883977644,
    "source_hash": "fe149a27",
    "tags": []
   },
   "outputs": [],
   "source": [
    "#check to make sure there is no more missing data\n",
    "assert df_merge_test.isnull().sum().sum() == 0 \n",
    "\n",
    "#save our dataset for further processing (feature engineering)\n",
    "df_merge_test.to_csv(\"../datasets/cleaned_testdf.csv\", index=False)"
   ]
  },
  {
   "cell_type": "code",
   "execution_count": null,
   "metadata": {
    "cell_id": "babacac520ad44909f0c7521e13102bb",
    "deepnote_cell_height": 81,
    "deepnote_cell_type": "code",
    "deepnote_to_be_reexecuted": false,
    "execution_millis": 6,
    "execution_start": 1648883985075,
    "source_hash": "646f0dc5",
    "tags": []
   },
   "outputs": [],
   "source": [
    "### END OF DATA CLEANING ####"
   ]
  },
  {
   "cell_type": "code",
   "execution_count": null,
   "metadata": {
    "cell_id": "490048a3556c49678e0a0fe20c792150",
    "deepnote_cell_height": 1570,
    "deepnote_cell_type": "code",
    "deepnote_output_heights": [
     21,
     611
    ],
    "deepnote_to_be_reexecuted": false,
    "execution_millis": 1283,
    "execution_start": 1648883985084,
    "source_hash": "f23fcba5",
    "tags": []
   },
   "outputs": [],
   "source": [
    "#https://www.kaggle.com/code/khyh00/west-nile-heatmap/script\n",
    "\n",
    "from sklearn.neighbors import KernelDensity\n",
    "\n",
    "traps = df_train[['Date', 'Trap','Longitude', 'Latitude', 'WnvPresent']]\n",
    "\n",
    "# these are needed for plotting densities over map image,\n",
    "# it changes alpha channel?\n",
    "\n",
    "# see,\n",
    "# Meaning of the colormap._lut list in matplotlib.color\n",
    "# http://stackoverflow.com/questions/18035411/meaning-of-the-colormap-lut-list-in-matplotlib-color\n",
    "\n",
    "alpha_cm = plt.cm.Reds\n",
    "alpha_cm._init()\n",
    "alpha_cm._lut[:-3,-1] = abs(np.logspace(0, 1, alpha_cm.N) / 10 - 1)[::-1]\n",
    "\n",
    "\n",
    "aspect = mapdata.shape[0] * 1.0 / mapdata.shape[1]\n",
    "lon_lat_box = (-88, -87.5, 41.6, 42.1) # xmin, xmax, ymin, ymax\n",
    "\n",
    "sigthings = traps[traps['WnvPresent'] > 0]\n",
    "sigthings = sigthings.groupby(['Date', 'Trap','Longitude', 'Latitude']).max()['WnvPresent'].reset_index()\n",
    "X = sigthings[['Longitude', 'Latitude']].values\n",
    "kd = KernelDensity(bandwidth=0.02)\n",
    "kd.fit(X)\n",
    "\n",
    "xv,yv = np.meshgrid(np.linspace(-88, -87.5, 100), np.linspace(41.6, 42.1, 100))\n",
    "gridpoints = np.array([xv.ravel(),yv.ravel()]).T\n",
    "zv = np.exp(kd.score_samples(gridpoints).reshape(100,100))\n",
    "plt.figure(figsize=(10,14))\n",
    "plt.imshow(mapdata, \n",
    "           cmap=plt.get_cmap('gray'), \n",
    "           extent=lon_lat_box, \n",
    "           aspect=aspect)\n",
    "plt.imshow(zv, \n",
    "           origin='lower', \n",
    "           cmap=alpha_cm, \n",
    "           extent=lon_lat_box, \n",
    "           aspect=aspect)\n",
    "\n",
    "# -> how to use 'extent' in matplotlib.pyplot.imshow\n",
    "# http://stackoverflow.com/questions/6999621/how-to-use-extent-in-matplotlib-pyplot-imshow\n",
    "\n",
    "locations = traps[['Longitude', 'Latitude']].drop_duplicates().values\n",
    "plt.scatter(locations[:,0], locations[:,1], marker='x')"
   ]
  },
  {
   "cell_type": "markdown",
   "metadata": {
    "created_in_deepnote_cell": true,
    "deepnote_cell_type": "markdown",
    "tags": []
   },
   "source": [
    "<a style='text-decoration:none;line-height:16px;display:flex;color:#5B5B62;padding:10px;justify-content:end;' href='https://deepnote.com?utm_source=created-in-deepnote-cell&projectId=3abded61-2db4-446b-a02d-565b62921f1b' target=\"_blank\">\n",
    "<img alt='Created in deepnote.com' style='display:inline;max-height:16px;margin:0px;margin-right:7.5px;' src='data:image/svg+xml;base64,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' > </img>\n",
    "Created in <span style='font-weight:600;margin-left:4px;'>Deepnote</span></a>"
   ]
  }
 ],
 "metadata": {
  "deepnote": {
   "is_reactive": false
  },
  "deepnote_execution_queue": [],
  "deepnote_notebook_id": "daff7d76-8cae-4517-b55e-a62ce860b2c4",
  "kernelspec": {
   "display_name": "Python 3",
   "language": "python",
   "name": "python3"
  },
  "language_info": {
   "codemirror_mode": {
    "name": "ipython",
    "version": 3
   },
   "file_extension": ".py",
   "mimetype": "text/x-python",
   "name": "python",
   "nbconvert_exporter": "python",
   "pygments_lexer": "ipython3",
   "version": "3.8.8"
  }
 },
 "nbformat": 4,
 "nbformat_minor": 2
}
