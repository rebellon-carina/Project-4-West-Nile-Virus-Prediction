{
 "cells": [
  {
   "cell_type": "markdown",
   "source": "### Problem Statement \n\nOur team aims to build a classifier model to predict presence of West Nile Virus in Chicago supporting the Chicago Department of Public Health in its efforts to prevent West Nile Virus, enabling the Chicago Department of Public Health to redirect its resources to the appropriate infected areas and lower the number of human infections.\n\n\nWhile the AUC-ROC score will be important for the team while submitting through Kaggle, one of the main priorities of this project was to also focus on the false negatives. False negatives happens when the model gives a wrong prediction of the not having the west nile virus when in actual fact, the west nile virus is present. It will be vital to minimize the cases with false negatives as the resources will not be directed to those in need if the model is not predicting it correctly. As such, we will also have to prioritise the recall - how accurate the model is in identifying west nile virus.\n\nAs such, we will be evaluating our models by optimising these two areas:\n\nROC-AUC score\nRecall score\n\n- 1.0 Baseline model\n- 2.0 Logistic Regression (baseline model)\n- 3.0 RidgeClassifier with oversampling (SMOTE)\n- 4.0 Coefficients from RidgeClassifier\n- 5.0 Deep Learning using TensorFlow\n- 6.0 Pipeline and Gridsearch Execution\n- 7.0 Summary",
   "metadata": {
    "cell_id": "f8f76d06-57b2-4294-8b4a-019dcaecea07",
    "tags": [],
    "deepnote_cell_type": "markdown",
    "deepnote_cell_height": 546.640625
   }
  },
  {
   "cell_type": "code",
   "metadata": {
    "cell_id": "b02b5e8f0c134b8e9f86c7ca12c22962",
    "tags": [],
    "deepnote_to_be_reexecuted": false,
    "source_hash": "7c66430b",
    "execution_start": 1650127016707,
    "execution_millis": 45,
    "deepnote_cell_type": "code",
    "deepnote_cell_height": 117
   },
   "source": "#!pip install imblearn\n#!pip install xgboost \n#!pip install lightgbm",
   "execution_count": null,
   "outputs": []
  },
  {
   "cell_type": "code",
   "metadata": {
    "cell_id": "00002-931de3a5-8788-4ce1-98e7-827a38ff4b87",
    "deepnote_to_be_reexecuted": false,
    "execution_millis": 3804,
    "execution_start": 1650127016752,
    "source_hash": "bd9f4ddc",
    "tags": [],
    "deepnote_cell_type": "code",
    "deepnote_cell_height": 603
   },
   "source": "#import packages\nimport timeit\nimport pandas as pd\nimport matplotlib.pyplot as plt\nimport seaborn as sns\n\nfrom imblearn.pipeline import Pipeline\n\nfrom sklearn.model_selection import train_test_split, StratifiedKFold, GridSearchCV\nfrom sklearn.metrics import confusion_matrix, plot_confusion_matrix, roc_auc_score,plot_roc_curve\nfrom sklearn.metrics import classification_report\nfrom sklearn.metrics import f1_score, precision_score, recall_score, accuracy_score\n    \nfrom imblearn.over_sampling import SMOTE\nfrom sklearn.preprocessing import StandardScaler\nfrom sklearn.linear_model import LogisticRegression, RidgeClassifier, SGDClassifier\nfrom sklearn.ensemble import RandomForestClassifier,GradientBoostingClassifier, ExtraTreesClassifier, AdaBoostClassifier \nfrom sklearn.feature_selection import SelectKBest, f_classif\nfrom sklearn.decomposition import PCA\n\nfrom tensorflow.keras.optimizers import Adam, SGD\nfrom keras.models import Sequential\nfrom keras.layers import Dense, Dropout\nfrom keras.utils import np_utils\nfrom tensorflow.keras.utils import to_categorical\nfrom tensorflow.keras.callbacks import EarlyStopping\n\nfrom xgboost import XGBClassifier\nfrom lightgbm import LGBMClassifier\n",
   "execution_count": null,
   "outputs": []
  },
  {
   "cell_type": "code",
   "metadata": {
    "cell_id": "00003-128edd18-dbf7-4e4b-9754-08dfcaf4f19d",
    "deepnote_to_be_reexecuted": false,
    "execution_millis": 2626,
    "execution_start": 1650127020559,
    "source_hash": "bc9f1802",
    "tags": [],
    "deepnote_cell_type": "code",
    "deepnote_cell_height": 153
   },
   "source": "#load the data that has been preprocessed\n\ndf_train = pd.read_csv(\"/datasets/data/train_modelready.csv\")\ndf_predict = pd.read_csv(\"/datasets/data/test_modelready.csv\")\n",
   "execution_count": null,
   "outputs": []
  },
  {
   "cell_type": "code",
   "metadata": {
    "cell_id": "00004-894caa16-335d-4e9d-9e5b-789b6fcf4753",
    "deepnote_to_be_reexecuted": false,
    "source_hash": "364cebd5",
    "execution_start": 1650127023191,
    "execution_millis": 3,
    "deepnote_cell_type": "code",
    "deepnote_cell_height": 130.1875
   },
   "source": "#check the shape\nprint(\"Train :\", df_train.shape, \" Predict :\", df_predict.shape)",
   "execution_count": null,
   "outputs": [
    {
     "name": "stdout",
     "text": "Train : (8610, 364)  Predict : (116293, 364)\n",
     "output_type": "stream"
    }
   ]
  },
  {
   "cell_type": "code",
   "metadata": {
    "cell_id": "00005-500411ee-c909-4561-a75f-44f6c90ee410",
    "deepnote_to_be_reexecuted": false,
    "source_hash": "4b654acc",
    "execution_start": 1650127023199,
    "execution_millis": 9,
    "deepnote_cell_type": "code",
    "deepnote_cell_height": 136.1875,
    "deepnote_output_heights": [
     21.1875
    ]
   },
   "source": "#validate there is no null\ndf_train.isnull().sum().sum()",
   "execution_count": null,
   "outputs": [
    {
     "output_type": "execute_result",
     "execution_count": 5,
     "data": {
      "text/plain": "0"
     },
     "metadata": {}
    }
   ]
  },
  {
   "cell_type": "markdown",
   "source": "## 1.0 Baseline model",
   "metadata": {
    "cell_id": "00007-68d51cdf-6e28-4cd0-8241-b214c8394830",
    "deepnote_cell_type": "markdown",
    "deepnote_cell_height": 70
   }
  },
  {
   "cell_type": "code",
   "metadata": {
    "cell_id": "00008-a0abb99d-cfea-453a-bbc9-992087fe337e",
    "deepnote_to_be_reexecuted": false,
    "source_hash": "b9869939",
    "execution_start": 1650127023248,
    "execution_millis": 4,
    "deepnote_cell_type": "code",
    "deepnote_cell_height": 156.5625,
    "deepnote_output_heights": [
     59.5625
    ]
   },
   "source": "df_train['WnvPresent'].value_counts(normalize=True)",
   "execution_count": null,
   "outputs": [
    {
     "output_type": "execute_result",
     "execution_count": 6,
     "data": {
      "text/plain": "0.0    0.946922\n1.0    0.053078\nName: WnvPresent, dtype: float64"
     },
     "metadata": {}
    }
   ]
  },
  {
   "cell_type": "markdown",
   "source": "***Our negative class is (WNV is not present) is 95%, we have imbalance dataset***",
   "metadata": {
    "cell_id": "00009-38cccbc7-943a-4b3c-a847-d672987e79e2",
    "deepnote_cell_type": "markdown",
    "deepnote_cell_height": 52.390625
   }
  },
  {
   "cell_type": "code",
   "metadata": {
    "cell_id": "00007-2f4aaffa-df90-48a3-99d6-c6335be5386c",
    "deepnote_to_be_reexecuted": false,
    "execution_millis": 0,
    "execution_start": 1650127023249,
    "source_hash": "262e349d",
    "tags": [],
    "deepnote_cell_type": "code",
    "deepnote_cell_height": 117
   },
   "source": "#Define X, and Y\nX=df_train.drop(columns=['WnvPresent'])\ny=df_train['WnvPresent']",
   "execution_count": null,
   "outputs": []
  },
  {
   "cell_type": "code",
   "metadata": {
    "cell_id": "00008-d474d550-05e0-4d4d-8eba-9448dc96ccd4",
    "deepnote_to_be_reexecuted": false,
    "execution_millis": 48,
    "execution_start": 1650127023250,
    "source_hash": "5d0fcd4b",
    "tags": [],
    "deepnote_cell_type": "code",
    "deepnote_cell_height": 186.375
   },
   "source": "#Train, Test, Split\nX_train, X_test, y_train, y_test = train_test_split(X,y, stratify=y, shuffle=True, random_state=42)\nprint(\"Train split :\", X_train.shape, y_train.shape)\nprint(\"Test split :\", X_test.shape, y_test.shape)",
   "execution_count": null,
   "outputs": [
    {
     "name": "stdout",
     "text": "Train split : (6457, 363) (6457,)\nTest split : (2153, 363) (2153,)\n",
     "output_type": "stream"
    }
   ]
  },
  {
   "cell_type": "code",
   "metadata": {
    "cell_id": "00014-1bfd97df-a61a-4bd1-8778-a7b80cebffa2",
    "deepnote_to_be_reexecuted": false,
    "source_hash": "abb15ffc",
    "execution_start": 1650127023293,
    "execution_millis": 13,
    "deepnote_cell_type": "code",
    "deepnote_cell_height": 153
   },
   "source": "#let's scale our X \n\nsc = StandardScaler()\nX_train_scaled = sc.fit_transform(X_train)\nX_test_scaled = sc.transform(X_test)",
   "execution_count": null,
   "outputs": []
  },
  {
   "cell_type": "markdown",
   "source": "### 2.0 Logistic Regression (baseline model)",
   "metadata": {
    "cell_id": "00010-212c9d9a-618f-4ddd-a6c8-06df184d0075",
    "tags": [],
    "deepnote_cell_type": "markdown",
    "deepnote_cell_height": 62
   }
  },
  {
   "cell_type": "code",
   "metadata": {
    "cell_id": "00011-d43b6ca0-f2a4-4fae-b398-6ba7854e5d75",
    "deepnote_to_be_reexecuted": false,
    "execution_millis": 1395,
    "execution_start": 1650127023351,
    "source_hash": "d30f0a9b",
    "tags": [],
    "deepnote_cell_type": "code",
    "deepnote_cell_height": 136.1875,
    "deepnote_output_heights": [
     21.1875
    ]
   },
   "source": "lr = LogisticRegression(random_state = 42,max_iter=10000)\nlr.fit(X_train_scaled, y_train)",
   "execution_count": null,
   "outputs": [
    {
     "output_type": "execute_result",
     "execution_count": 10,
     "data": {
      "text/plain": "LogisticRegression(max_iter=10000, random_state=42)"
     },
     "metadata": {}
    }
   ]
  },
  {
   "cell_type": "code",
   "metadata": {
    "cell_id": "00013-856d5232-d7fc-4c14-bb24-9bfd300ebb0b",
    "deepnote_to_be_reexecuted": false,
    "execution_millis": 109911,
    "execution_start": 1650127024308,
    "source_hash": "5a867b86",
    "tags": [],
    "deepnote_cell_type": "code",
    "deepnote_cell_height": 99
   },
   "source": "#predict test dataset\ny_preds = lr.predict(X_test_scaled)",
   "execution_count": null,
   "outputs": []
  },
  {
   "cell_type": "code",
   "metadata": {
    "cell_id": "00014-86360f11-883c-4759-bb7e-0fece752dc0d",
    "deepnote_to_be_reexecuted": false,
    "execution_millis": 535,
    "execution_start": 1650127024314,
    "source_hash": "a6508d4",
    "tags": [],
    "deepnote_cell_type": "code",
    "deepnote_cell_height": 501.5625,
    "deepnote_output_heights": [
     null,
     21.1875,
     264
    ]
   },
   "source": "#confusion matrix \nplot_confusion_matrix(lr, X_test_scaled, y_test)",
   "execution_count": null,
   "outputs": [
    {
     "name": "stderr",
     "text": "/shared-libs/python3.7/py/lib/python3.7/site-packages/sklearn/utils/deprecation.py:87: FutureWarning: Function plot_confusion_matrix is deprecated; Function `plot_confusion_matrix` is deprecated in 1.0 and will be removed in 1.2. Use one of the class methods: ConfusionMatrixDisplay.from_predictions or ConfusionMatrixDisplay.from_estimator.\n  warnings.warn(msg, category=FutureWarning)\n",
     "output_type": "stream"
    },
    {
     "output_type": "execute_result",
     "execution_count": 12,
     "data": {
      "text/plain": "<sklearn.metrics._plot.confusion_matrix.ConfusionMatrixDisplay at 0x7f7311e8e9d0>"
     },
     "metadata": {}
    },
    {
     "data": {
      "text/plain": "<Figure size 432x288 with 2 Axes>",
      "image/png": "[encoded data removed]"
     },
     "metadata": {
      "needs_background": "light",
      "image/png": {
       "width": 328,
       "height": 262
      }
     },
     "output_type": "display_data"
    }
   ]
  },
  {
   "cell_type": "code",
   "metadata": {
    "cell_id": "f036ef471def458d89559b4e1d09d333",
    "deepnote_to_be_reexecuted": false,
    "execution_millis": 161,
    "execution_start": 1650127024689,
    "source_hash": "aa862d26",
    "tags": [],
    "deepnote_cell_type": "code",
    "deepnote_cell_height": 148.1875
   },
   "source": "#confusion matrix details\ntn, fp, fn, tp = confusion_matrix(y_test, y_preds).ravel()\nprint(tn, fp, fn, tp )",
   "execution_count": null,
   "outputs": [
    {
     "name": "stdout",
     "text": "2037 2 114 0\n",
     "output_type": "stream"
    }
   ]
  },
  {
   "cell_type": "code",
   "metadata": {
    "cell_id": "00020-e0d94a14-c671-42a8-820e-1459ed99548a",
    "deepnote_to_be_reexecuted": false,
    "source_hash": "3e9be938",
    "execution_start": 1650127024738,
    "execution_millis": 113,
    "deepnote_cell_type": "code",
    "deepnote_cell_height": 273.6875
   },
   "source": "print(classification_report(y_test, y_preds))",
   "execution_count": null,
   "outputs": [
    {
     "name": "stdout",
     "text": "              precision    recall  f1-score   support\n\n         0.0       0.95      1.00      0.97      2039\n         1.0       0.00      0.00      0.00       114\n\n    accuracy                           0.95      2153\n   macro avg       0.47      0.50      0.49      2153\nweighted avg       0.90      0.95      0.92      2153\n\n",
     "output_type": "stream"
    }
   ]
  },
  {
   "cell_type": "code",
   "metadata": {
    "cell_id": "00021-971c2e8f-057e-4f29-9355-4053d72ca32c",
    "deepnote_to_be_reexecuted": false,
    "source_hash": "e11b2328",
    "execution_start": 1650127024743,
    "execution_millis": 108,
    "deepnote_cell_type": "code",
    "deepnote_cell_height": 150.375
   },
   "source": "print('Train Score: ', lr.score(X_train_scaled, y_train), 'Test Score: ', lr.score(X_test_scaled, y_test))\nprint('ROC_AUC Score: ', roc_auc_score(y_test, y_preds.ravel()))",
   "execution_count": null,
   "outputs": [
    {
     "name": "stdout",
     "text": "Train Score:  0.9468793557379588 Test Score:  0.9461216906641895\nROC_AUC Score:  0.49950956351152526\n",
     "output_type": "stream"
    }
   ]
  },
  {
   "cell_type": "markdown",
   "source": "The logistic regression model will act as our baseline model of which which any results that falls below baseline model results will be rejected.We will be optimising for ROC-AUC and recall for this project and our baseline ROC-AUC score is 51.89% ROC-AUC.\n\nIf you look at the confusion matrix, the model was only able to accurately predict only 5 positive case. This is because we have imbalance dataset. Hence we will be using SMOTE for future models.",
   "metadata": {
    "cell_id": "00022-d806abd8-b1fb-46cf-a20e-de7a461cd09d",
    "deepnote_cell_type": "markdown",
    "deepnote_cell_height": 133.5625
   }
  },
  {
   "cell_type": "markdown",
   "source": "### 3.0  Oversampling using SMOTE ( Synthetic Minority Oversampling Technique)\nTo addressed imbalanced dataset we will use SMOTE, and build a RidgeClassifier model",
   "metadata": {
    "cell_id": "00017-379829ed-22c8-427f-9ef2-69dbeec719c6",
    "tags": [],
    "deepnote_cell_type": "markdown",
    "deepnote_cell_height": 132.390625
   }
  },
  {
   "cell_type": "code",
   "metadata": {
    "cell_id": "00018-eead2e57-05df-46d0-beef-7a3ee8ced743",
    "deepnote_to_be_reexecuted": false,
    "execution_millis": 70,
    "execution_start": 1650127024781,
    "source_hash": "47ae7bc7",
    "tags": [],
    "deepnote_cell_type": "code",
    "deepnote_cell_height": 112.1875
   },
   "source": "print('Positive Class before SMOTE', sum(y_train)/len(y_train) * 100, ' %')",
   "execution_count": null,
   "outputs": [
    {
     "name": "stdout",
     "text": "Positive Class before SMOTE 5.3120644262041194  %\n",
     "output_type": "stream"
    }
   ]
  },
  {
   "cell_type": "code",
   "metadata": {
    "cell_id": "00019-99b7be19-b746-488d-8f45-8d5141a4c3b7",
    "deepnote_to_be_reexecuted": false,
    "execution_millis": 124,
    "execution_start": 1650127024794,
    "source_hash": "105e38d4",
    "tags": [],
    "deepnote_cell_type": "code",
    "deepnote_cell_height": 258.375
   },
   "source": "#oversampling\n\nsmote = SMOTE()\nX_smote, y_smote = smote.fit_resample(X_train_scaled, y_train)\n\nprint(X_smote.shape, y_smote.shape)\nprint('Positive Class with SMOTE', sum(y_smote)/len(y_smote) * 100, ' %')\n",
   "execution_count": null,
   "outputs": [
    {
     "name": "stdout",
     "text": "(12228, 363) (12228,)\nPositive Class with SMOTE 50.0  %\n",
     "output_type": "stream"
    }
   ]
  },
  {
   "cell_type": "code",
   "metadata": {
    "cell_id": "00020-b95a9c8f-a1f1-4648-8422-9e0701d2c51e",
    "deepnote_to_be_reexecuted": false,
    "execution_millis": 129,
    "execution_start": 1650127024977,
    "source_hash": "d572c6a4",
    "tags": [],
    "deepnote_cell_type": "code",
    "deepnote_cell_height": 172.1875,
    "deepnote_output_heights": [
     21.1875
    ]
   },
   "source": "#use RidgeClassifier to take advnatage of regularization\n\nridge = RidgeClassifier(random_state = 42)\nridge.fit(X_smote, y_smote)",
   "execution_count": null,
   "outputs": [
    {
     "output_type": "execute_result",
     "execution_count": 18,
     "data": {
      "text/plain": "RidgeClassifier(random_state=42)"
     },
     "metadata": {}
    }
   ]
  },
  {
   "cell_type": "code",
   "metadata": {
    "cell_id": "00022-5e2a0719-7ca9-42a0-a520-a164450e65bf",
    "deepnote_to_be_reexecuted": false,
    "execution_millis": 3,
    "execution_start": 1650127025109,
    "source_hash": "1b3f997c",
    "tags": [],
    "deepnote_cell_type": "code",
    "deepnote_cell_height": 99
   },
   "source": "#predict test dataset\ny_preds = ridge.predict(X_test_scaled)",
   "execution_count": null,
   "outputs": []
  },
  {
   "cell_type": "code",
   "metadata": {
    "cell_id": "00023-14ec665f-7afe-423a-be57-56c44f4fed8e",
    "deepnote_to_be_reexecuted": false,
    "execution_millis": 278,
    "execution_start": 1650127025179,
    "source_hash": "9202d539",
    "tags": [],
    "deepnote_cell_type": "code",
    "deepnote_cell_height": 449.375,
    "deepnote_output_heights": [
     null,
     264
    ]
   },
   "source": "#confusion matrix\nplot_confusion_matrix(ridge, X_test_scaled, y_test);",
   "execution_count": null,
   "outputs": [
    {
     "name": "stderr",
     "text": "/shared-libs/python3.7/py/lib/python3.7/site-packages/sklearn/utils/deprecation.py:87: FutureWarning: Function plot_confusion_matrix is deprecated; Function `plot_confusion_matrix` is deprecated in 1.0 and will be removed in 1.2. Use one of the class methods: ConfusionMatrixDisplay.from_predictions or ConfusionMatrixDisplay.from_estimator.\n  warnings.warn(msg, category=FutureWarning)\n",
     "output_type": "stream"
    },
    {
     "data": {
      "text/plain": "<Figure size 432x288 with 2 Axes>",
      "image/png": "[encoded data removed]"
     },
     "metadata": {
      "needs_background": "light",
      "image/png": {
       "width": 328,
       "height": 262
      }
     },
     "output_type": "display_data"
    }
   ]
  },
  {
   "cell_type": "code",
   "metadata": {
    "cell_id": "00024-a4d60f2c-44de-4eed-8873-a7a194823971",
    "deepnote_to_be_reexecuted": false,
    "execution_millis": 5,
    "execution_start": 1650127025514,
    "source_hash": "c6358bdd",
    "tags": [],
    "deepnote_cell_type": "code",
    "deepnote_cell_height": 130.1875
   },
   "source": "tn, fp, fn, tp = confusion_matrix(y_test, y_preds).ravel()\nprint(tn, fp, fn, tp )",
   "execution_count": null,
   "outputs": [
    {
     "name": "stdout",
     "text": "1525 514 33 81\n",
     "output_type": "stream"
    }
   ]
  },
  {
   "cell_type": "code",
   "metadata": {
    "cell_id": "00030-555b471b-2259-403f-8ab6-c0d6a295f41c",
    "deepnote_to_be_reexecuted": false,
    "source_hash": "3e9be938",
    "execution_start": 1650127025515,
    "execution_millis": 4,
    "deepnote_cell_type": "code",
    "deepnote_cell_height": 273.6875
   },
   "source": "print(classification_report(y_test, y_preds))",
   "execution_count": null,
   "outputs": [
    {
     "name": "stdout",
     "text": "              precision    recall  f1-score   support\n\n         0.0       0.98      0.75      0.85      2039\n         1.0       0.14      0.71      0.23       114\n\n    accuracy                           0.75      2153\n   macro avg       0.56      0.73      0.54      2153\nweighted avg       0.93      0.75      0.82      2153\n\n",
     "output_type": "stream"
    }
   ]
  },
  {
   "cell_type": "code",
   "metadata": {
    "cell_id": "00031-8f2f9c27-7cb3-49d3-a1c2-d6d5d44ad1b7",
    "deepnote_to_be_reexecuted": false,
    "source_hash": "56533b05",
    "execution_start": 1650127025516,
    "execution_millis": 4,
    "deepnote_cell_type": "code",
    "deepnote_cell_height": 150.375
   },
   "source": "print('Train Score: ', ridge.score(X_train_scaled, y_train), 'Test Score: ', ridge.score(X_test_scaled, y_test))\nprint('ROC_AUC Score: ', roc_auc_score(y_test, y_preds.ravel()))",
   "execution_count": null,
   "outputs": [
    {
     "name": "stdout",
     "text": "Train Score:  0.7627381136750813 Test Score:  0.7459359033906178\nROC_AUC Score:  0.729220980356728\n",
     "output_type": "stream"
    }
   ]
  },
  {
   "cell_type": "markdown",
   "source": "***This is much better version where we use SMOTE and Ridge for regularizing our features***\n- Baseline model, ROC is 50%\n- Ridge w SMOTE, ROC is 73%",
   "metadata": {
    "cell_id": "00032-b0f05190-c057-49d7-a8fc-d5b034456cca",
    "deepnote_cell_type": "markdown",
    "deepnote_cell_height": 128.171875
   }
  },
  {
   "cell_type": "markdown",
   "source": "## 4.0 Coefficients (RidgeClassifier model)",
   "metadata": {
    "cell_id": "00033-839a7ffd-df1b-4f4f-a47f-609a762551ae",
    "deepnote_cell_type": "markdown",
    "deepnote_cell_height": 70
   }
  },
  {
   "cell_type": "code",
   "metadata": {
    "cell_id": "92dcccbf67024ad994e642bd5b7df5c3",
    "tags": [],
    "deepnote_to_be_reexecuted": false,
    "source_hash": "31efd950",
    "execution_start": 1650127025521,
    "execution_millis": 55,
    "deepnote_cell_type": "code",
    "deepnote_cell_height": 117
   },
   "source": "# calculating coefficients\ncoeff = pd.DataFrame(X_train.columns)\ncoeff['Coefficient Estimate'] = pd.Series(ridge.coef_.tolist()[0])",
   "execution_count": null,
   "outputs": []
  },
  {
   "cell_type": "code",
   "metadata": {
    "cell_id": "00035-377c0c14-970a-4dc1-8fee-f1195e3618bf",
    "deepnote_to_be_reexecuted": false,
    "source_hash": "68d9a62",
    "execution_start": 1650127025590,
    "execution_millis": 8,
    "deepnote_cell_type": "code",
    "deepnote_cell_height": 291.6875
   },
   "source": "coeff.rename(columns={0:\"Feature\"}, inplace=True)\ncoeff.info()",
   "execution_count": null,
   "outputs": [
    {
     "name": "stdout",
     "text": "<class 'pandas.core.frame.DataFrame'>\nRangeIndex: 363 entries, 0 to 362\nData columns (total 2 columns):\n #   Column                Non-Null Count  Dtype  \n---  ------                --------------  -----  \n 0   Feature               363 non-null    object \n 1   Coefficient Estimate  363 non-null    float64\ndtypes: float64(1), object(1)\nmemory usage: 5.8+ KB\n",
     "output_type": "stream"
    }
   ]
  },
  {
   "cell_type": "code",
   "metadata": {
    "cell_id": "00036-da717bba-8b50-42b7-b7c0-780e90d12b0f",
    "deepnote_to_be_reexecuted": false,
    "source_hash": "b1c9ae3b",
    "execution_start": 1650127025605,
    "execution_millis": 6,
    "deepnote_cell_type": "code",
    "deepnote_cell_height": 171
   },
   "source": "#we will use this for sorting\ncoeff['abs_val'] = abs(coeff['Coefficient Estimate'])\n\n#top 50 features\ncoeff_50 = coeff.sort_values(by='abs_val',ascending=False)[:50]\n",
   "execution_count": null,
   "outputs": []
  },
  {
   "cell_type": "code",
   "metadata": {
    "cell_id": "00037-e8c0ed00-c873-4f04-8637-e216a31ca2f2",
    "deepnote_to_be_reexecuted": false,
    "source_hash": "148e5745",
    "execution_start": 1650127025616,
    "execution_millis": 1852,
    "deepnote_cell_type": "code",
    "deepnote_cell_height": 725,
    "deepnote_output_heights": [
     592
    ]
   },
   "source": "#our top 50 coefficient using RidgeClassifier\ncoeff_50.sort_values(by='abs_val').plot(y='Coefficient Estimate',x='Feature',kind='barh', figsize=(10,10), color='b', \n                                  title='Top 50 - LR');",
   "execution_count": null,
   "outputs": [
    {
     "data": {
      "text/plain": "<Figure size 720x720 with 1 Axes>",
      "image/png": "[encoded data removed]"
     },
     "metadata": {
      "needs_background": "light",
      "image/png": {
       "width": 722,
       "height": 590
      }
     },
     "output_type": "display_data"
    }
   ]
  },
  {
   "cell_type": "markdown",
   "source": "Most of the featured engineer appeared in the top coefficient even though they did not have a high correlation with WnvPresent in the previous notebook.",
   "metadata": {
    "cell_id": "00038-e0e18276-969b-47c3-9a5f-b4bdc717edbd",
    "deepnote_cell_type": "markdown",
    "deepnote_cell_height": 74.78125
   }
  },
  {
   "cell_type": "markdown",
   "source": "### 5.0 Deep Learning using TensorFlow - Keras\n\nIn this section, we will explore deep learning and how the model weigh up with the simple models we built prior. We will use tensorflow with regularization, dropout and early stop.",
   "metadata": {
    "cell_id": "00044-5c278482-fd8f-4bb3-9863-db33d323cd0b",
    "deepnote_cell_type": "markdown",
    "deepnote_cell_height": 122.78125
   }
  },
  {
   "cell_type": "code",
   "metadata": {
    "cell_id": "00045-744e0d88-1026-4c6c-92fc-787203b90eb2",
    "deepnote_to_be_reexecuted": false,
    "source_hash": "5dccacab",
    "execution_start": 1650127027043,
    "execution_millis": 146,
    "deepnote_cell_type": "code",
    "deepnote_cell_height": 315
   },
   "source": "#Define X, and Y\nX=df_train.drop(columns=['WnvPresent'])\ny=df_train['WnvPresent']\n\n#Train, Test, Split\nX_train, X_test, y_train, y_test = train_test_split(X,y, stratify=y, shuffle=True)\n\nsc = StandardScaler()\nX_train_scaled = sc.fit_transform(X_train)\nX_test_scaled = sc.transform(X_test)\n\nsmote = SMOTE()\nX_smote, y_smote = smote.fit_resample(X_train_scaled, y_train)\n",
   "execution_count": null,
   "outputs": []
  },
  {
   "cell_type": "code",
   "metadata": {
    "cell_id": "00046-8a381120-75e7-47ab-8b56-2b65f0eb4cd5",
    "deepnote_to_be_reexecuted": false,
    "source_hash": "eeaeb1af",
    "execution_start": 1650127027190,
    "execution_millis": 14655,
    "deepnote_cell_type": "code",
    "deepnote_cell_height": 1295
   },
   "source": "from tensorflow.keras.regularizers import l2\n\nmodel = Sequential()\nn_input = X_smote.shape[1]\nmodel.add(Dense(300, # How many nodes/neurons do you want in your first layer.\n                input_shape=(n_input,),\n                activation='relu',\n               kernel_regularizer=l2(0.01)))  #we proved that having regularizer improves our model\nmodel.add(Dense(100, activation='relu'))\nmodel.add(Dense(80, activation='relu'))\nmodel.add(Dropout(0.5))\nmodel.add(Dense(50, activation='relu'))\nmodel.add(Dense(20, activation='relu'))\nmodel.add(Dense(1, activation='sigmoid'))\nmodel.summary()\n\n# Compile\nopt = Adam(learning_rate=0.001)\nmodel.compile(loss='binary_crossentropy', optimizer=opt, metrics=['accuracy'])\n\n# Model Fit\nearly_stop = EarlyStopping(monitor='val_loss', \n                           min_delta=0, \n                           patience=30, \n                           mode='auto')\n\nhistory = model.fit(\n    X_smote,\n    y_smote,\n    validation_data=(X_test_scaled, y_test),\n    epochs=100,\n    batch_size=512,\n    callbacks=[early_stop] # Add your callbacks here!\n)",
   "execution_count": null,
   "outputs": [
    {
     "name": "stdout",
     "text": "Model: \"sequential\"\n_________________________________________________________________\n Layer (type)                Output Shape              Param #   \n=================================================================\n dense (Dense)               (None, 300)               109200    \n                                                                 \n dense_1 (Dense)             (None, 100)               30100     \n                                                                 \n dense_2 (Dense)             (None, 80)                8080      \n                                                                 \n dropout (Dropout)           (None, 80)                0         \n                                                                 \n dense_3 (Dense)             (None, 50)                4050      \n                                                                 \n dense_4 (Dense)             (None, 20)                1020      \n                                                                 \n dense_5 (Dense)             (None, 1)                 21        \n                                                                 \n=================================================================\nTotal params: 152,471\nTrainable params: 152,471\nNon-trainable params: 0\n_________________________________________________________________\nEpoch 1/100\n24/24 [==============================] - 1s 29ms/step - loss: 2.9770 - accuracy: 0.6802 - val_loss: 2.0062 - val_accuracy: 0.7794\nEpoch 2/100\n24/24 [==============================] - 0s 13ms/step - loss: 1.4916 - accuracy: 0.8502 - val_loss: 1.1416 - val_accuracy: 0.8124\nEpoch 3/100\n24/24 [==============================] - 0s 14ms/step - loss: 0.8113 - accuracy: 0.8998 - val_loss: 0.7313 - val_accuracy: 0.8467\nEpoch 4/100\n24/24 [==============================] - 0s 13ms/step - loss: 0.5107 - accuracy: 0.9224 - val_loss: 0.5999 - val_accuracy: 0.8560\nEpoch 5/100\n24/24 [==============================] - 0s 13ms/step - loss: 0.3800 - accuracy: 0.9347 - val_loss: 0.5424 - val_accuracy: 0.8648\nEpoch 6/100\n24/24 [==============================] - 0s 13ms/step - loss: 0.3181 - accuracy: 0.9402 - val_loss: 0.5345 - val_accuracy: 0.8760\nEpoch 7/100\n24/24 [==============================] - 0s 14ms/step - loss: 0.2776 - accuracy: 0.9486 - val_loss: 0.5289 - val_accuracy: 0.8760\nEpoch 8/100\n24/24 [==============================] - 0s 13ms/step - loss: 0.2620 - accuracy: 0.9510 - val_loss: 0.5264 - val_accuracy: 0.8788\nEpoch 9/100\n24/24 [==============================] - 0s 13ms/step - loss: 0.2434 - accuracy: 0.9558 - val_loss: 0.5072 - val_accuracy: 0.8857\nEpoch 10/100\n24/24 [==============================] - 0s 13ms/step - loss: 0.2201 - accuracy: 0.9577 - val_loss: 0.5166 - val_accuracy: 0.8834\nEpoch 11/100\n24/24 [==============================] - 0s 13ms/step - loss: 0.2148 - accuracy: 0.9574 - val_loss: 0.5147 - val_accuracy: 0.8816\nEpoch 12/100\n24/24 [==============================] - 0s 13ms/step - loss: 0.2031 - accuracy: 0.9599 - val_loss: 0.5060 - val_accuracy: 0.8899\nEpoch 13/100\n24/24 [==============================] - 0s 13ms/step - loss: 0.1990 - accuracy: 0.9598 - val_loss: 0.4837 - val_accuracy: 0.8834\nEpoch 14/100\n24/24 [==============================] - 0s 14ms/step - loss: 0.1870 - accuracy: 0.9625 - val_loss: 0.5163 - val_accuracy: 0.8723\nEpoch 15/100\n24/24 [==============================] - 0s 13ms/step - loss: 0.1837 - accuracy: 0.9619 - val_loss: 0.5239 - val_accuracy: 0.8843\nEpoch 16/100\n24/24 [==============================] - 0s 14ms/step - loss: 0.1789 - accuracy: 0.9628 - val_loss: 0.5229 - val_accuracy: 0.8778\nEpoch 17/100\n24/24 [==============================] - 0s 12ms/step - loss: 0.1775 - accuracy: 0.9643 - val_loss: 0.5309 - val_accuracy: 0.8834\nEpoch 18/100\n24/24 [==============================] - 0s 13ms/step - loss: 0.1686 - accuracy: 0.9657 - val_loss: 0.5168 - val_accuracy: 0.8792\nEpoch 19/100\n24/24 [==============================] - 0s 13ms/step - loss: 0.1664 - accuracy: 0.9639 - val_loss: 0.5218 - val_accuracy: 0.8969\nEpoch 20/100\n24/24 [==============================] - 0s 13ms/step - loss: 0.1738 - accuracy: 0.9602 - val_loss: 0.5134 - val_accuracy: 0.8797\nEpoch 21/100\n24/24 [==============================] - 0s 13ms/step - loss: 0.1693 - accuracy: 0.9628 - val_loss: 0.5305 - val_accuracy: 0.8774\nEpoch 22/100\n24/24 [==============================] - 0s 13ms/step - loss: 0.1631 - accuracy: 0.9647 - val_loss: 0.5237 - val_accuracy: 0.8848\nEpoch 23/100\n24/24 [==============================] - 0s 13ms/step - loss: 0.1586 - accuracy: 0.9649 - val_loss: 0.5062 - val_accuracy: 0.8885\nEpoch 24/100\n24/24 [==============================] - 0s 11ms/step - loss: 0.1564 - accuracy: 0.9661 - val_loss: 0.5133 - val_accuracy: 0.8946\nEpoch 25/100\n24/24 [==============================] - 0s 13ms/step - loss: 0.1557 - accuracy: 0.9669 - val_loss: 0.5400 - val_accuracy: 0.8811\nEpoch 26/100\n24/24 [==============================] - 0s 13ms/step - loss: 0.1512 - accuracy: 0.9665 - val_loss: 0.5197 - val_accuracy: 0.8922\nEpoch 27/100\n24/24 [==============================] - 0s 13ms/step - loss: 0.1452 - accuracy: 0.9657 - val_loss: 0.5254 - val_accuracy: 0.8899\nEpoch 28/100\n24/24 [==============================] - 0s 13ms/step - loss: 0.1485 - accuracy: 0.9669 - val_loss: 0.5435 - val_accuracy: 0.8867\nEpoch 29/100\n24/24 [==============================] - 0s 14ms/step - loss: 0.1429 - accuracy: 0.9686 - val_loss: 0.5717 - val_accuracy: 0.8899\nEpoch 30/100\n24/24 [==============================] - 0s 12ms/step - loss: 0.1469 - accuracy: 0.9670 - val_loss: 0.5242 - val_accuracy: 0.8913\nEpoch 31/100\n24/24 [==============================] - 0s 13ms/step - loss: 0.1356 - accuracy: 0.9705 - val_loss: 0.5492 - val_accuracy: 0.8932\nEpoch 32/100\n24/24 [==============================] - 0s 14ms/step - loss: 0.1438 - accuracy: 0.9662 - val_loss: 0.5207 - val_accuracy: 0.8918\nEpoch 33/100\n24/24 [==============================] - 0s 12ms/step - loss: 0.1417 - accuracy: 0.9675 - val_loss: 0.5494 - val_accuracy: 0.8895\nEpoch 34/100\n24/24 [==============================] - 0s 13ms/step - loss: 0.1424 - accuracy: 0.9666 - val_loss: 0.5275 - val_accuracy: 0.8922\nEpoch 35/100\n24/24 [==============================] - 0s 13ms/step - loss: 0.1349 - accuracy: 0.9699 - val_loss: 0.5348 - val_accuracy: 0.8876\nEpoch 36/100\n24/24 [==============================] - 0s 13ms/step - loss: 0.1343 - accuracy: 0.9693 - val_loss: 0.5254 - val_accuracy: 0.8922\nEpoch 37/100\n24/24 [==============================] - 0s 11ms/step - loss: 0.1350 - accuracy: 0.9688 - val_loss: 0.5187 - val_accuracy: 0.8895\nEpoch 38/100\n24/24 [==============================] - 0s 11ms/step - loss: 0.1316 - accuracy: 0.9697 - val_loss: 0.5476 - val_accuracy: 0.8918\nEpoch 39/100\n24/24 [==============================] - 0s 11ms/step - loss: 0.1311 - accuracy: 0.9699 - val_loss: 0.5399 - val_accuracy: 0.8960\nEpoch 40/100\n24/24 [==============================] - 0s 11ms/step - loss: 0.1274 - accuracy: 0.9704 - val_loss: 0.5794 - val_accuracy: 0.8974\nEpoch 41/100\n24/24 [==============================] - 0s 12ms/step - loss: 0.1266 - accuracy: 0.9693 - val_loss: 0.6011 - val_accuracy: 0.8932\nEpoch 42/100\n24/24 [==============================] - 0s 13ms/step - loss: 0.1308 - accuracy: 0.9691 - val_loss: 0.5954 - val_accuracy: 0.8950\nEpoch 43/100\n24/24 [==============================] - 0s 13ms/step - loss: 0.1343 - accuracy: 0.9671 - val_loss: 0.6156 - val_accuracy: 0.8871\n",
     "output_type": "stream"
    }
   ]
  },
  {
   "cell_type": "code",
   "metadata": {
    "cell_id": "00047-55b122bb-11e1-4707-8ae2-8cb125ca1383",
    "deepnote_to_be_reexecuted": false,
    "source_hash": "8c6db6be",
    "execution_start": 1650127041827,
    "execution_millis": 18,
    "deepnote_cell_type": "code",
    "deepnote_cell_height": 136.1875,
    "deepnote_output_heights": [
     21.1875
    ]
   },
   "source": "\nhistory.history['accuracy'][-1], history.history['val_accuracy'][-1]",
   "execution_count": null,
   "outputs": [
    {
     "output_type": "execute_result",
     "execution_count": 30,
     "data": {
      "text/plain": "(0.9671246409416199, 0.8871342539787292)"
     },
     "metadata": {}
    }
   ]
  },
  {
   "cell_type": "code",
   "metadata": {
    "cell_id": "00048-c2df51a0-cc87-444c-8d8e-6c203d2e8af3",
    "deepnote_to_be_reexecuted": false,
    "source_hash": "3f619895",
    "execution_start": 1650127041828,
    "execution_millis": 6823,
    "deepnote_cell_type": "code",
    "deepnote_cell_height": 383,
    "deepnote_output_heights": [
     250
    ]
   },
   "source": "plt.plot(history.history['accuracy'], label='Train accuracy')\nplt.plot(history.history['val_accuracy'], label='Val accuracy')\nplt.legend();",
   "execution_count": null,
   "outputs": [
    {
     "data": {
      "text/plain": "<Figure size 432x288 with 1 Axes>",
      "image/png": "[encoded data removed]"
     },
     "metadata": {
      "needs_background": "light",
      "image/png": {
       "width": 378,
       "height": 248
      }
     },
     "output_type": "display_data"
    }
   ]
  },
  {
   "cell_type": "code",
   "metadata": {
    "cell_id": "00049-c4417f3b-a6bb-44a7-aa6b-3f0074c57313",
    "deepnote_to_be_reexecuted": false,
    "source_hash": "bf0704fa",
    "execution_start": 1650127048692,
    "execution_millis": 197,
    "deepnote_cell_type": "code",
    "deepnote_cell_height": 723,
    "deepnote_output_heights": [
     482
    ]
   },
   "source": "train_loss = history.history['loss']\ntest_loss = history.history['val_loss']\n\nplt.figure(figsize=(12, 8))\nplt.plot(train_loss, label='Training loss')\nplt.plot(test_loss, label='Testing loss')\nplt.xlabel('Epoch')\nplt.ylabel('Loss')\nplt.legend();",
   "execution_count": null,
   "outputs": [
    {
     "data": {
      "text/plain": "<Figure size 864x576 with 1 Axes>",
      "image/png": "[encoded data removed]"
     },
     "metadata": {
      "needs_background": "light",
      "image/png": {
       "width": 720,
       "height": 480
      }
     },
     "output_type": "display_data"
    }
   ]
  },
  {
   "cell_type": "code",
   "metadata": {
    "cell_id": "00050-f1e615bc-64d7-4da9-814b-63a1a7a0912a",
    "deepnote_to_be_reexecuted": false,
    "source_hash": "cff43e10",
    "execution_start": 1650127048888,
    "execution_millis": 196,
    "deepnote_cell_type": "code",
    "deepnote_cell_height": 130.1875
   },
   "source": "pred = model.predict(X_test_scaled).round()\nprint('Keras ROC_AUC score :', roc_auc_score(y_test, pred.ravel()))",
   "execution_count": null,
   "outputs": [
    {
     "name": "stdout",
     "text": "Keras ROC_AUC score : 0.5925892465346789\n",
     "output_type": "stream"
    }
   ]
  },
  {
   "cell_type": "markdown",
   "source": "*** ROC-AUC of Ridge is 73% compared to 59% from tensorflow ***",
   "metadata": {
    "cell_id": "00051-1a401f44-02c5-4081-9d3a-313883ba4006",
    "deepnote_cell_type": "markdown",
    "deepnote_cell_height": 52.390625
   }
  },
  {
   "cell_type": "markdown",
   "source": "###  6.0 In this section, we will formally create pipeline to evaluate several models using GridSearch",
   "metadata": {
    "cell_id": "00052-bc7ccc10-baa1-44e0-b389-b1f692d92d64",
    "deepnote_cell_type": "markdown",
    "deepnote_cell_height": 94
   }
  },
  {
   "cell_type": "code",
   "metadata": {
    "cell_id": "00053-ec3a9600-77f0-45ca-b7dc-145c0c8611a4",
    "deepnote_to_be_reexecuted": false,
    "source_hash": "8f05dcce",
    "execution_start": 1650127049092,
    "execution_millis": 15,
    "deepnote_cell_type": "code",
    "deepnote_cell_height": 189
   },
   "source": "#Define X, and Y\nX=df_train.drop(columns=['WnvPresent'])\ny=df_train['WnvPresent']\n\n#Train, Test, Split\nX_train, X_test, y_train, y_test = train_test_split(X,y, stratify=y, shuffle=True)\n",
   "execution_count": null,
   "outputs": []
  },
  {
   "cell_type": "code",
   "metadata": {
    "cell_id": "00054-d40baeba-4efb-4c40-896f-e12729a98ba2",
    "deepnote_to_be_reexecuted": false,
    "source_hash": "700f520f",
    "execution_start": 1650127049117,
    "execution_millis": 0,
    "deepnote_cell_type": "code",
    "deepnote_cell_height": 1899
   },
   "source": "# Logistic Regression\nlogreg = LogisticRegression(\n    solver='liblinear',\n    max_iter=1000, \n    random_state=42,\n)\n\nlogreg_params = {\n    'clf__penalty': ['l1', 'l2'],\n    'clf__C': [0.1, 0.5, 1, 1.5, 2.5]\n}\n\n# Gradient Boost\ngb = GradientBoostingClassifier(random_state=42)\ngb_params = {\n    'clf__learning_rate': [0.05, 0.1, 0.15],\n    'clf__max_depth': [2, 3,4]\n}\n\n# Random Forest\nrf = RandomForestClassifier(random_state=42, n_jobs=-1)\nrf_params = {\n    'clf__n_estimators': [100, 150, 200],\n    'clf__max_depth': [4, 5, 6]\n}\n\n# Extra Trees\net = ExtraTreesClassifier(random_state=42, n_jobs=-1)\net_params = {\n    'clf__n_estimators': [50, 75, 100],\n    'clf__max_depth': [4, 5, 6]\n}\n\n#Ada Boost Classifier\nada = AdaBoostClassifier()\nada_params = {\n    'clf__n_estimators':[50,100,150], \n    'clf__learning_rate':[1,0.1,0.01]\n}\n\n#Ridge\n\nridge = RidgeClassifier()\nridge_params = {'clf__random_state' : [42]}\n\nsgd = SGDClassifier(loss='log', max_iter=1000, random_state=1)\nsgd_params = {\n    'clf__penalty': ['l1', 'l2', 'elasticnet'],\n    'clf__alpha':[.0001, .001, .01],\n    'clf__l1_ratio':[.01,.05,.15],\n}\n# XGBoost\nxgb = XGBClassifier(\n    use_label_encoder=False,\n    eval_metric='auc',\n    objective='binary:logistic',\n    random_state=42,\n    n_jobs=-1\n)\n\nxgb_params = { \n    'clf__max_depth': [3, 4,5], #Depth of tree (higher value implies likely overfit)\n    'clf__gamma' : [0.1, 0.2 , 0.3], #Min loss reduction required for further partition\n    'clf__learning_rate' : [0.1, 0.2], #step size feature weight shrinkage\n}\n\n#LightGBM\nlgbm = LGBMClassifier()\n\nlgbm_params = {\n    'clf__learning_rate': [0.01,0.1],\n    'clf__n_estimators': [24,32],\n    'clf__num_leaves': [16,24,32], # large num_leaves helps improve accuracy but might lead to over-fitting\n    'clf__boosting_type' : ['gbdt'], \n    'clf__objective' : ['binary'],\n    'clf__max_bin':[255], # large max_bin helps improve accuracy but might slow down training progress\n    'clf__random_state' : [500,1500],\n    'clf__colsample_bytree' : [0.65,0.8],\n    'clf__subsample' : [0.7,0.8],\n    'clf__reg_alpha' : [1.2,1.6],\n    'clf__reg_lambda' : [1.4,1.6]\n    }\n\n#Ada Boost Classifier\nada = AdaBoostClassifier()\n\nada_params = {\n    'clf__n_estimators':[50,150], \n    'clf__learning_rate':[1,0.1,0.01]\n}\n# List of classifiers & params\nclassifiers = [\n    (ridge, ridge_params),\n    (logreg, logreg_params),\n    (gb, gb_params),\n    (rf, rf_params),\n    (et, et_params),\n    (ada, ada_params),\n    (sgd, sgd_params),\n    (xgb, xgb_params),\n    (lgbm, lgbm_params)\n]",
   "execution_count": null,
   "outputs": []
  },
  {
   "cell_type": "code",
   "metadata": {
    "cell_id": "00055-e18f6ebe-c3b9-44dc-906a-43d0c69f44ce",
    "deepnote_to_be_reexecuted": false,
    "source_hash": "14ae049a",
    "execution_start": 1650127049135,
    "execution_millis": 5,
    "deepnote_cell_type": "code",
    "deepnote_cell_height": 1071
   },
   "source": "def model(clf, clf_params):\n    \n    start = timeit.timeit()\n\n    pipe = Pipeline(steps = [\n                      ('ss', StandardScaler()),\n                      ('sm', SMOTE(random_state = 42)), \n                      ('clf', clf)])\n\n    \n    # Gridsearch for best estimator\n    grid = GridSearchCV(\n        pipe,\n        param_grid=clf_params,\n        scoring='roc_auc',\n        verbose=2,\n        n_jobs=-1\n    )\n    grid.fit(X_train,y_train)\n    \n    print(f'Classifier: {clf}')\n    print('Best Parameters:')\n    print(grid.best_params_)\n    \n    \n    filename= f\"{clf}\"[0:10]\n    \n    # Scoring metrics\n    scores = {'Classifier': clf}\n    y_train_preds = grid.predict(X_train)\n    y_test_preds = grid.predict(X_test)\n   \n    scores['Train ROC-AUC Score'] = roc_auc_score(y_train, y_train_preds.ravel())\n    \n    end = timeit.timeit()\n\n    #for Test\n    scores['Test ROC-AUC Score'] = roc_auc_score(y_test, y_test_preds.ravel())\n    scores['F1'] = f1_score(y_test, y_test_preds)\n    scores['Precision'] = precision_score(y_test, y_test_preds)\n    scores['Recall'] = recall_score(y_test, y_test_preds)\n    scores['Accuracy'] = accuracy_score(y_test, y_test_preds)\n    scores['Time'] = end - start\n    \n    # Storing results\n    result.append(scores)\n    \n    #predicting and export to csv for kaggle submission \n    pred_csv = grid.predict(df_predict.drop(columns=[\"Id\"]))\n    pred_submit = pd.DataFrame(pred_csv, columns=['WnvPresent'])\n    pred_submit['Id'] = df_predict[\"Id\"].astype(int)\n\n\n    pred_submit[[\"Id\", 'WnvPresent']].to_csv(f\"/work/deepnote_exports/{filename}.csv\", index=False)\n\n    return pipe",
   "execution_count": null,
   "outputs": []
  },
  {
   "cell_type": "code",
   "metadata": {
    "cell_id": "00056-95c7625d-b35d-4995-8cf8-a464303f90f1",
    "deepnote_to_be_reexecuted": false,
    "source_hash": "1e3867f2",
    "execution_start": 1650127049140,
    "execution_millis": 2462880,
    "deepnote_cell_type": "code",
    "deepnote_cell_height": 773
   },
   "source": "# Run through gridsearch for every model\nresult = []\n\nfor (clf, clf_params) in classifiers:\n    model(clf, clf_params)",
   "execution_count": null,
   "outputs": [
    {
     "name": "stdout",
     "text": "Fitting 5 folds for each of 1 candidates, totalling 5 fits\nClassifier: RidgeClassifier()\nBest Parameters:\n{'clf__random_state': 42}\nFitting 5 folds for each of 10 candidates, totalling 50 fits\nClassifier: LogisticRegression(max_iter=1000, random_state=42, solver='liblinear')\nBest Parameters:\n{'clf__C': 0.1, 'clf__penalty': 'l1'}\nFitting 5 folds for each of 9 candidates, totalling 45 fits\nClassifier: GradientBoostingClassifier(random_state=42)\nBest Parameters:\n{'clf__learning_rate': 0.15, 'clf__max_depth': 4}\nFitting 5 folds for each of 9 candidates, totalling 45 fits\nClassifier: RandomForestClassifier(n_jobs=-1, random_state=42)\nBest Parameters:\n{'clf__max_depth': 6, 'clf__n_estimators': 150}\nFitting 5 folds for each of 9 candidates, totalling 45 fits\nClassifier: ExtraTreesClassifier(n_jobs=-1, random_state=42)\nBest Parameters:\n{'clf__max_depth': 6, 'clf__n_estimators': 100}\nFitting 5 folds for each of 6 candidates, totalling 30 fits\nClassifier: AdaBoostClassifier()\nBest Parameters:\n{'clf__learning_rate': 1, 'clf__n_estimators': 150}\nFitting 5 folds for each of 27 candidates, totalling 135 fits\nClassifier: SGDClassifier(loss='log', random_state=1)\nBest Parameters:\n{'clf__alpha': 0.01, 'clf__l1_ratio': 0.15, 'clf__penalty': 'elasticnet'}\nFitting 5 folds for each of 18 candidates, totalling 90 fits\nClassifier: XGBClassifier(base_score=None, booster=None, callbacks=None,\n              colsample_bylevel=None, colsample_bynode=None,\n              colsample_bytree=None, early_stopping_rounds=None,\n              enable_categorical=False, eval_metric='auc', gamma=None,\n              gpu_id=None, grow_policy=None, importance_type=None,\n              interaction_constraints=None, learning_rate=None, max_bin=None,\n              max_cat_to_onehot=None, max_delta_step=None, max_depth=None,\n              max_leaves=None, min_child_weight=None, missing=nan,\n              monotone_constraints=None, n_estimators=100, n_jobs=-1,\n              num_parallel_tree=None, predictor=None, random_state=42,\n              reg_alpha=None, reg_lambda=None, ...)\nBest Parameters:\n{'clf__gamma': 0.3, 'clf__learning_rate': 0.2, 'clf__max_depth': 4}\nFitting 5 folds for each of 384 candidates, totalling 1920 fits\nClassifier: LGBMClassifier()\nBest Parameters:\n{'clf__boosting_type': 'gbdt', 'clf__colsample_bytree': 0.65, 'clf__learning_rate': 0.1, 'clf__max_bin': 255, 'clf__n_estimators': 32, 'clf__num_leaves': 32, 'clf__objective': 'binary', 'clf__random_state': 1500, 'clf__reg_alpha': 1.2, 'clf__reg_lambda': 1.4, 'clf__subsample': 0.7}\n",
     "output_type": "stream"
    }
   ]
  },
  {
   "cell_type": "code",
   "metadata": {
    "cell_id": "00057-5192edd2-56b3-4ef1-a92d-50d62172f615",
    "deepnote_to_be_reexecuted": false,
    "source_hash": "55e0d1cb",
    "execution_start": 1650129512021,
    "execution_millis": 114,
    "deepnote_cell_type": "code",
    "deepnote_cell_height": 577
   },
   "source": "# Results sorted by Test ROC-AUC\npd.DataFrame(result).sort_values(by='Test ROC-AUC Score', ascending=False).reset_index(drop=True)",
   "execution_count": null,
   "outputs": [
    {
     "output_type": "execute_result",
     "execution_count": 38,
     "data": {
      "application/vnd.deepnote.dataframe.v3+json": {
       "column_count": 8,
       "row_count": 9,
       "columns": [
        {
         "name": "Classifier",
         "dtype": "object",
         "stats": {
          "unique_count": 9,
          "nan_count": 0,
          "categories": [
           {
            "name": "ExtraTreesClassifier(n_jobs=-1, random_state=42)",
            "count": 1
           },
           {
            "name": "SGDClassifier(loss='log', random_state=1)",
            "count": 1
           },
           {
            "name": "7 others",
            "count": 7
           }
          ]
         }
        },
        {
         "name": "Train ROC-AUC Score",
         "dtype": "float64",
         "stats": {
          "unique_count": 9,
          "nan_count": 0,
          "min": "0.6602313573684064",
          "max": "0.795325883051945",
          "histogram": [
           {
            "bin_start": 0.6602313573684064,
            "bin_end": 0.6737408099367603,
            "count": 2
           },
           {
            "bin_start": 0.6737408099367603,
            "bin_end": 0.6872502625051141,
            "count": 2
           },
           {
            "bin_start": 0.6872502625051141,
            "bin_end": 0.700759715073468,
            "count": 0
           },
           {
            "bin_start": 0.700759715073468,
            "bin_end": 0.7142691676418218,
            "count": 0
           },
           {
            "bin_start": 0.7142691676418218,
            "bin_end": 0.7277786202101757,
            "count": 0
           },
           {
            "bin_start": 0.7277786202101757,
            "bin_end": 0.7412880727785296,
            "count": 0
           },
           {
            "bin_start": 0.7412880727785296,
            "bin_end": 0.7547975253468834,
            "count": 0
           },
           {
            "bin_start": 0.7547975253468834,
            "bin_end": 0.7683069779152373,
            "count": 1
           },
           {
            "bin_start": 0.7683069779152373,
            "bin_end": 0.7818164304835911,
            "count": 1
           },
           {
            "bin_start": 0.7818164304835911,
            "bin_end": 0.795325883051945,
            "count": 3
           }
          ]
         }
        },
        {
         "name": "Test ROC-AUC Score",
         "dtype": "float64",
         "stats": {
          "unique_count": 9,
          "nan_count": 0,
          "min": "0.5754583860337456",
          "max": "0.7386726379460176",
          "histogram": [
           {
            "bin_start": 0.5754583860337456,
            "bin_end": 0.5917798112249728,
            "count": 2
           },
           {
            "bin_start": 0.5917798112249728,
            "bin_end": 0.6081012364162,
            "count": 1
           },
           {
            "bin_start": 0.6081012364162,
            "bin_end": 0.6244226616074271,
            "count": 0
           },
           {
            "bin_start": 0.6244226616074271,
            "bin_end": 0.6407440867986544,
            "count": 0
           },
           {
            "bin_start": 0.6407440867986544,
            "bin_end": 0.6570655119898816,
            "count": 1
           },
           {
            "bin_start": 0.6570655119898816,
            "bin_end": 0.6733869371811088,
            "count": 0
           },
           {
            "bin_start": 0.6733869371811088,
            "bin_end": 0.6897083623723359,
            "count": 0
           },
           {
            "bin_start": 0.6897083623723359,
            "bin_end": 0.7060297875635632,
            "count": 0
           },
           {
            "bin_start": 0.7060297875635632,
            "bin_end": 0.7223512127547904,
            "count": 4
           },
           {
            "bin_start": 0.7223512127547904,
            "bin_end": 0.7386726379460176,
            "count": 1
           }
          ]
         }
        },
        {
         "name": "F1",
         "dtype": "float64",
         "stats": {
          "unique_count": 9,
          "nan_count": 0,
          "min": "0.21739130434782608",
          "max": "0.2988505747126437",
          "histogram": [
           {
            "bin_start": 0.21739130434782608,
            "bin_end": 0.22553723138430784,
            "count": 3
           },
           {
            "bin_start": 0.22553723138430784,
            "bin_end": 0.2336831584207896,
            "count": 4
           },
           {
            "bin_start": 0.2336831584207896,
            "bin_end": 0.24182908545727136,
            "count": 0
           },
           {
            "bin_start": 0.24182908545727136,
            "bin_end": 0.24997501249375315,
            "count": 0
           },
           {
            "bin_start": 0.24997501249375315,
            "bin_end": 0.2581209395302349,
            "count": 0
           },
           {
            "bin_start": 0.2581209395302349,
            "bin_end": 0.26626686656671666,
            "count": 1
           },
           {
            "bin_start": 0.26626686656671666,
            "bin_end": 0.2744127936031984,
            "count": 0
           },
           {
            "bin_start": 0.2744127936031984,
            "bin_end": 0.2825587206396802,
            "count": 0
           },
           {
            "bin_start": 0.2825587206396802,
            "bin_end": 0.29070464767616194,
            "count": 0
           },
           {
            "bin_start": 0.29070464767616194,
            "bin_end": 0.2988505747126437,
            "count": 1
           }
          ]
         }
        },
        {
         "name": "Precision",
         "dtype": "float64",
         "stats": {
          "unique_count": 9,
          "nan_count": 0,
          "min": "0.13310580204778158",
          "max": "0.2894736842105263",
          "histogram": [
           {
            "bin_start": 0.13310580204778158,
            "bin_end": 0.14874259026405606,
            "count": 5
           },
           {
            "bin_start": 0.14874259026405606,
            "bin_end": 0.16437937848033052,
            "count": 0
           },
           {
            "bin_start": 0.16437937848033052,
            "bin_end": 0.180016166696605,
            "count": 0
           },
           {
            "bin_start": 0.180016166696605,
            "bin_end": 0.19565295491287948,
            "count": 0
           },
           {
            "bin_start": 0.19565295491287948,
            "bin_end": 0.21128974312915397,
            "count": 0
           },
           {
            "bin_start": 0.21128974312915397,
            "bin_end": 0.22692653134542845,
            "count": 0
           },
           {
            "bin_start": 0.22692653134542845,
            "bin_end": 0.2425633195617029,
            "count": 0
           },
           {
            "bin_start": 0.2425633195617029,
            "bin_end": 0.2582001077779774,
            "count": 0
           },
           {
            "bin_start": 0.2582001077779774,
            "bin_end": 0.27383689599425187,
            "count": 1
           },
           {
            "bin_start": 0.27383689599425187,
            "bin_end": 0.2894736842105263,
            "count": 3
           }
          ]
         }
        },
        {
         "name": "Recall",
         "dtype": "float64",
         "stats": {
          "unique_count": 8,
          "nan_count": 0,
          "min": "0.17543859649122806",
          "max": "0.7456140350877193",
          "histogram": [
           {
            "bin_start": 0.17543859649122806,
            "bin_end": 0.2324561403508772,
            "count": 2
           },
           {
            "bin_start": 0.2324561403508772,
            "bin_end": 0.2894736842105263,
            "count": 1
           },
           {
            "bin_start": 0.2894736842105263,
            "bin_end": 0.3464912280701754,
            "count": 1
           },
           {
            "bin_start": 0.3464912280701754,
            "bin_end": 0.40350877192982454,
            "count": 0
           },
           {
            "bin_start": 0.40350877192982454,
            "bin_end": 0.4605263157894737,
            "count": 0
           },
           {
            "bin_start": 0.4605263157894737,
            "bin_end": 0.5175438596491228,
            "count": 0
           },
           {
            "bin_start": 0.5175438596491228,
            "bin_end": 0.5745614035087718,
            "count": 0
           },
           {
            "bin_start": 0.5745614035087718,
            "bin_end": 0.631578947368421,
            "count": 0
           },
           {
            "bin_start": 0.631578947368421,
            "bin_end": 0.6885964912280701,
            "count": 4
           },
           {
            "bin_start": 0.6885964912280701,
            "bin_end": 0.7456140350877193,
            "count": 1
           }
          ]
         }
        },
        {
         "name": "Accuracy",
         "dtype": "float64",
         "stats": {
          "unique_count": 9,
          "nan_count": 0,
          "min": "0.7324663260566652",
          "max": "0.9331165815141663",
          "histogram": [
           {
            "bin_start": 0.7324663260566652,
            "bin_end": 0.7525313516024152,
            "count": 2
           },
           {
            "bin_start": 0.7525313516024152,
            "bin_end": 0.7725963771481654,
            "count": 3
           },
           {
            "bin_start": 0.7725963771481654,
            "bin_end": 0.7926614026939155,
            "count": 0
           },
           {
            "bin_start": 0.7926614026939155,
            "bin_end": 0.8127264282396657,
            "count": 0
           },
           {
            "bin_start": 0.8127264282396657,
            "bin_end": 0.8327914537854157,
            "count": 0
           },
           {
            "bin_start": 0.8327914537854157,
            "bin_end": 0.8528564793311659,
            "count": 0
           },
           {
            "bin_start": 0.8528564793311659,
            "bin_end": 0.872921504876916,
            "count": 0
           },
           {
            "bin_start": 0.872921504876916,
            "bin_end": 0.8929865304226661,
            "count": 0
           },
           {
            "bin_start": 0.8929865304226661,
            "bin_end": 0.9130515559684163,
            "count": 0
           },
           {
            "bin_start": 0.9130515559684163,
            "bin_end": 0.9331165815141663,
            "count": 4
           }
          ]
         }
        },
        {
         "name": "Time",
         "dtype": "float64",
         "stats": {
          "unique_count": 9,
          "nan_count": 0,
          "min": "-0.00045847900037188083",
          "max": "0.06053826799870876",
          "histogram": [
           {
            "bin_start": -0.00045847900037188083,
            "bin_end": 0.005641195699536183,
            "count": 5
           },
           {
            "bin_start": 0.005641195699536183,
            "bin_end": 0.011740870399444247,
            "count": 1
           },
           {
            "bin_start": 0.011740870399444247,
            "bin_end": 0.01784054509935231,
            "count": 1
           },
           {
            "bin_start": 0.01784054509935231,
            "bin_end": 0.023940219799260375,
            "count": 0
           },
           {
            "bin_start": 0.023940219799260375,
            "bin_end": 0.03003989449916844,
            "count": 0
           },
           {
            "bin_start": 0.03003989449916844,
            "bin_end": 0.0361395691990765,
            "count": 0
           },
           {
            "bin_start": 0.0361395691990765,
            "bin_end": 0.04223924389898457,
            "count": 1
           },
           {
            "bin_start": 0.04223924389898457,
            "bin_end": 0.04833891859889263,
            "count": 0
           },
           {
            "bin_start": 0.04833891859889263,
            "bin_end": 0.05443859329880069,
            "count": 0
           },
           {
            "bin_start": 0.05443859329880069,
            "bin_end": 0.06053826799870876,
            "count": 1
           }
          ]
         }
        },
        {
         "name": "_deepnote_index_column",
         "dtype": "int64"
        }
       ],
       "rows": [
        {
         "Classifier": "ExtraTreesClassifier(n_jobs=-1, random_state=42)",
         "Train ROC-AUC Score": 0.7747849174718253,
         "Test ROC-AUC Score": 0.7386726379460176,
         "F1": 0.22788203753351208,
         "Precision": 0.13449367088607594,
         "Recall": 0.7456140350877193,
         "Accuracy": 0.7324663260566652,
         "Time": 0.000015821999113541096,
         "_deepnote_index_column": 0
        },
        {
         "Classifier": "SGDClassifier(loss='log', random_state=1)",
         "Train ROC-AUC Score": 0.7887589635601893,
         "Test ROC-AUC Score": 0.7197972862514304,
         "F1": 0.23277182235834606,
         "Precision": 0.14100185528756956,
         "Recall": 0.6666666666666666,
         "Accuracy": 0.7673014398513702,
         "Time": 0.007750237000436755,
         "_deepnote_index_column": 1
        },
        {
         "Classifier": "RidgeClassifier()",
         "Train ROC-AUC Score": 0.7929073073221998,
         "Test ROC-AUC Score": 0.7175343950853101,
         "F1": 0.2228571428571429,
         "Precision": 0.13310580204778158,
         "Recall": 0.6842105263157895,
         "Accuracy": 0.7473293079424059,
         "Time": 0.06053826799870876,
         "_deepnote_index_column": 2
        },
        {
         "Classifier": "RandomForestClassifier(n_jobs=-1, random_state=42)",
         "Train ROC-AUC Score": 0.7557178906891509,
         "Test ROC-AUC Score": 0.7124407389243093,
         "F1": 0.22254758418740847,
         "Precision": 0.1335676625659051,
         "Recall": 0.6666666666666666,
         "Accuracy": 0.7533673943334882,
         "Time": 0.0004021009990538005,
         "_deepnote_index_column": 3
        },
        {
         "Classifier": "LogisticRegression(max_iter=1000, random_state=42, solver='liblinear')",
         "Train ROC-AUC Score": 0.795325883051945,
         "Test ROC-AUC Score": 0.7098272286896742,
         "F1": 0.22919937205651492,
         "Precision": 0.13957934990439771,
         "Recall": 0.6403508771929824,
         "Accuracy": 0.7719461216906642,
         "Time": 0.015723849002824863,
         "_deepnote_index_column": 4
        },
        {
         "Classifier": "AdaBoostClassifier()",
         "Train ROC-AUC Score": 0.6602313573684064,
         "Test ROC-AUC Score": 0.6445690612013112,
         "F1": 0.2988505747126437,
         "Precision": 0.2653061224489796,
         "Recall": 0.34210526315789475,
         "Accuracy": 0.9150023223409196,
         "Time": -0.00027101800151285715,
         "_deepnote_index_column": 5
        },
        {
         "Classifier": "LGBMClassifier()",
         "Train ROC-AUC Score": 0.6811342509806391,
         "Test ROC-AUC Score": 0.6017462120234377,
         "F1": 0.25837320574162675,
         "Precision": 0.28421052631578947,
         "Recall": 0.23684210526315788,
         "Accuracy": 0.9280074314909429,
         "Time": 0.03806103699935193,
         "_deepnote_index_column": 6
        },
        {
         "Classifier": "GradientBoostingClassifier(random_state=42)",
         "Train ROC-AUC Score": 0.6771985816617409,
         "Test ROC-AUC Score": 0.5832494428813574,
         "F1": 0.23157894736842105,
         "Precision": 0.2894736842105263,
         "Recall": 0.19298245614035087,
         "Accuracy": 0.9321876451463075,
         "Time": -0.00045847900037188083,
         "_deepnote_index_column": 7
        },
        {
         "Classifier": "XGBClassifier(base_score=None, booster=None, callbacks=None,\n              colsample_bylevel=None, colsample_bynode=None,\n              colsample_bytree=None, early_stopping_rounds=None,\n              enable_categorical=False, eval_metric='auc', gamma=None,\n              gpu_id=None, grow_policy=None, importance_type=None,\n              interaction_constraints=None, learning_rate=None, max_bin=None,\n              max_cat_to_onehot=None, max_delta_step=None, max_depth=None,\n              max_leaves=None, min_child_weight=None, missing=nan,\n              monotone_constraints=None, n_estimators=100, n_jobs=-1,\n              num_parallel_tree=None, predictor=None, random_state=42,\n              reg_alpha=None, reg_lambda=None, ...)",
         "Train ROC-AUC Score": 0.6729889628639903,
         "Test ROC-AUC Score": 0.5754583860337456,
         "F1": 0.21739130434782608,
         "Precision": 0.2857142857142857,
         "Recall": 0.17543859649122806,
         "Accuracy": 0.9331165815141663,
         "Time": 0.005595857001026161,
         "_deepnote_index_column": 8
        }
       ]
      },
      "text/plain": "                                          Classifier  Train ROC-AUC Score  \\\n0   ExtraTreesClassifier(n_jobs=-1, random_state=42)             0.774785   \n1          SGDClassifier(loss='log', random_state=1)             0.788759   \n2                                  RidgeClassifier()             0.792907   \n3  RandomForestClassifier(n_jobs=-1, random_state...             0.755718   \n4  LogisticRegression(max_iter=1000, random_state...             0.795326   \n5                               AdaBoostClassifier()             0.660231   \n6                                   LGBMClassifier()             0.681134   \n7        GradientBoostingClassifier(random_state=42)             0.677199   \n8  XGBClassifier(base_score=None, booster=None, c...             0.672989   \n\n   Test ROC-AUC Score        F1  Precision    Recall  Accuracy      Time  \n0            0.738673  0.227882   0.134494  0.745614  0.732466  0.000016  \n1            0.719797  0.232772   0.141002  0.666667  0.767301  0.007750  \n2            0.717534  0.222857   0.133106  0.684211  0.747329  0.060538  \n3            0.712441  0.222548   0.133568  0.666667  0.753367  0.000402  \n4            0.709827  0.229199   0.139579  0.640351  0.771946  0.015724  \n5            0.644569  0.298851   0.265306  0.342105  0.915002 -0.000271  \n6            0.601746  0.258373   0.284211  0.236842  0.928007  0.038061  \n7            0.583249  0.231579   0.289474  0.192982  0.932188 -0.000458  \n8            0.575458  0.217391   0.285714  0.175439  0.933117  0.005596  ",
      "text/html": "<div>\n<style scoped>\n    .dataframe tbody tr th:only-of-type {\n        vertical-align: middle;\n    }\n\n    .dataframe tbody tr th {\n        vertical-align: top;\n    }\n\n    .dataframe thead th {\n        text-align: right;\n    }\n</style>\n<table border=\"1\" class=\"dataframe\">\n  <thead>\n    <tr style=\"text-align: right;\">\n      <th></th>\n      <th>Classifier</th>\n      <th>Train ROC-AUC Score</th>\n      <th>Test ROC-AUC Score</th>\n      <th>F1</th>\n      <th>Precision</th>\n      <th>Recall</th>\n      <th>Accuracy</th>\n      <th>Time</th>\n    </tr>\n  </thead>\n  <tbody>\n    <tr>\n      <th>0</th>\n      <td>ExtraTreesClassifier(n_jobs=-1, random_state=42)</td>\n      <td>0.774785</td>\n      <td>0.738673</td>\n      <td>0.227882</td>\n      <td>0.134494</td>\n      <td>0.745614</td>\n      <td>0.732466</td>\n      <td>0.000016</td>\n    </tr>\n    <tr>\n      <th>1</th>\n      <td>SGDClassifier(loss='log', random_state=1)</td>\n      <td>0.788759</td>\n      <td>0.719797</td>\n      <td>0.232772</td>\n      <td>0.141002</td>\n      <td>0.666667</td>\n      <td>0.767301</td>\n      <td>0.007750</td>\n    </tr>\n    <tr>\n      <th>2</th>\n      <td>RidgeClassifier()</td>\n      <td>0.792907</td>\n      <td>0.717534</td>\n      <td>0.222857</td>\n      <td>0.133106</td>\n      <td>0.684211</td>\n      <td>0.747329</td>\n      <td>0.060538</td>\n    </tr>\n    <tr>\n      <th>3</th>\n      <td>RandomForestClassifier(n_jobs=-1, random_state...</td>\n      <td>0.755718</td>\n      <td>0.712441</td>\n      <td>0.222548</td>\n      <td>0.133568</td>\n      <td>0.666667</td>\n      <td>0.753367</td>\n      <td>0.000402</td>\n    </tr>\n    <tr>\n      <th>4</th>\n      <td>LogisticRegression(max_iter=1000, random_state...</td>\n      <td>0.795326</td>\n      <td>0.709827</td>\n      <td>0.229199</td>\n      <td>0.139579</td>\n      <td>0.640351</td>\n      <td>0.771946</td>\n      <td>0.015724</td>\n    </tr>\n    <tr>\n      <th>5</th>\n      <td>AdaBoostClassifier()</td>\n      <td>0.660231</td>\n      <td>0.644569</td>\n      <td>0.298851</td>\n      <td>0.265306</td>\n      <td>0.342105</td>\n      <td>0.915002</td>\n      <td>-0.000271</td>\n    </tr>\n    <tr>\n      <th>6</th>\n      <td>LGBMClassifier()</td>\n      <td>0.681134</td>\n      <td>0.601746</td>\n      <td>0.258373</td>\n      <td>0.284211</td>\n      <td>0.236842</td>\n      <td>0.928007</td>\n      <td>0.038061</td>\n    </tr>\n    <tr>\n      <th>7</th>\n      <td>GradientBoostingClassifier(random_state=42)</td>\n      <td>0.677199</td>\n      <td>0.583249</td>\n      <td>0.231579</td>\n      <td>0.289474</td>\n      <td>0.192982</td>\n      <td>0.932188</td>\n      <td>-0.000458</td>\n    </tr>\n    <tr>\n      <th>8</th>\n      <td>XGBClassifier(base_score=None, booster=None, c...</td>\n      <td>0.672989</td>\n      <td>0.575458</td>\n      <td>0.217391</td>\n      <td>0.285714</td>\n      <td>0.175439</td>\n      <td>0.933117</td>\n      <td>0.005596</td>\n    </tr>\n  </tbody>\n</table>\n</div>"
     },
     "metadata": {}
    }
   ]
  },
  {
   "cell_type": "markdown",
   "source": "#### If we choose 50% of best features, will the ROC-AUC improve? Adding SelectKBest in the pipeline",
   "metadata": {
    "cell_id": "b61e1ae68cc74cefab5bc2a9596fc777",
    "tags": [],
    "deepnote_cell_type": "markdown",
    "deepnote_cell_height": 54
   }
  },
  {
   "cell_type": "code",
   "metadata": {
    "cell_id": "78d72d5128d049b68745fd6d70e2a962",
    "tags": [],
    "deepnote_to_be_reexecuted": false,
    "source_hash": "85dbd35b",
    "execution_start": 1650130484828,
    "execution_millis": 0,
    "deepnote_cell_type": "code",
    "deepnote_cell_height": 1035
   },
   "source": "def model_kbest(clf, clf_params):\n    \n    start = timeit.timeit()\n\n    pipe = Pipeline(steps = [\n                      ('ss', StandardScaler()),\n                      ('sm', SMOTE(random_state = 42)), \n                      ('selector', SelectKBest(f_classif, k=200)),\n                      ('clf', clf)])\n\n    filename= f\"{clf}\"[0:10]\n\n    # Gridsearch for best estimator\n    grid = GridSearchCV(\n        pipe,\n        param_grid=clf_params,\n        scoring='roc_auc',\n        verbose=2,\n        n_jobs=-1\n    )\n    grid.fit(X_train,y_train)\n    \n    print(f'Classifier: {clf}')\n    print('Best Parameters:')\n    print(grid.best_params_)\n    \n    # Scoring metrics\n    scores = {'Classifier': clf}\n    y_train_preds = grid.predict(X_train)\n    y_test_preds = grid.predict(X_test)\n   \n    scores['Train ROC-AUC Score'] = roc_auc_score(y_train, y_train_preds.ravel())\n    \n    end = timeit.timeit()\n\n    #for Test\n    scores['Test ROC-AUC Score'] = roc_auc_score(y_test, y_test_preds.ravel())\n    scores['F1'] = f1_score(y_test, y_test_preds)\n    scores['Precision'] = precision_score(y_test, y_test_preds)\n    scores['Recall'] = recall_score(y_test, y_test_preds)\n    scores['Accuracy'] = accuracy_score(y_test, y_test_preds)\n    scores['Time'] = end - start\n\n    # Storing results\n    result.append(scores)\n    \n    #predicting and export to csv for kaggle submission \n    pred_csv = grid.predict(df_predict.drop(columns=[\"Id\"]))\n    pred_submit = pd.DataFrame(pred_csv, columns=['WnvPresent'])\n    pred_submit['Id'] = df_predict[\"Id\"].astype(int)\n\n    pred_submit[[\"Id\", 'WnvPresent']].to_csv(f\"/work/deepnote_exports/kbest_{filename}.csv\", index=False)\n\n    return pipe",
   "execution_count": null,
   "outputs": []
  },
  {
   "cell_type": "code",
   "metadata": {
    "cell_id": "15026f8826074f23a9f6a06750962bce",
    "tags": [],
    "deepnote_to_be_reexecuted": false,
    "source_hash": "460c34d1",
    "execution_start": 1650130490087,
    "execution_millis": 1832364,
    "deepnote_cell_type": "code",
    "deepnote_cell_height": 773
   },
   "source": "# Run through gridsearch for every model\nresult = []\n\nfor (clf, clf_params) in classifiers:\n    model_kbest(clf, clf_params)",
   "execution_count": null,
   "outputs": [
    {
     "name": "stdout",
     "text": "Fitting 5 folds for each of 1 candidates, totalling 5 fits\n/shared-libs/python3.7/py/lib/python3.7/site-packages/sklearn/feature_selection/_univariate_selection.py:112: UserWarning: Features [ 11  38  39  84 108 109 110 126 153 154 160 161 162 178 190 208 209 216\n 237 258 264 278 281 287 302 353 357] are constant.\n  warnings.warn(\"Features %s are constant.\" % constant_features_idx, UserWarning)\n/shared-libs/python3.7/py/lib/python3.7/site-packages/sklearn/feature_selection/_univariate_selection.py:113: RuntimeWarning: invalid value encountered in true_divide\n  f = msb / msw\nClassifier: RidgeClassifier()\nBest Parameters:\n{'clf__random_state': 42}\nFitting 5 folds for each of 10 candidates, totalling 50 fits\n/shared-libs/python3.7/py/lib/python3.7/site-packages/sklearn/feature_selection/_univariate_selection.py:112: UserWarning: Features [ 11  38  39  84 108 109 110 126 153 154 160 161 162 178 190 208 209 216\n 237 258 264 278 281 287 302 353 357] are constant.\n  warnings.warn(\"Features %s are constant.\" % constant_features_idx, UserWarning)\n/shared-libs/python3.7/py/lib/python3.7/site-packages/sklearn/feature_selection/_univariate_selection.py:113: RuntimeWarning: invalid value encountered in true_divide\n  f = msb / msw\nClassifier: LogisticRegression(max_iter=1000, random_state=42, solver='liblinear')\nBest Parameters:\n{'clf__C': 0.1, 'clf__penalty': 'l1'}\nFitting 5 folds for each of 9 candidates, totalling 45 fits\n/shared-libs/python3.7/py/lib/python3.7/site-packages/sklearn/feature_selection/_univariate_selection.py:112: UserWarning: Features [ 11  38  39  84 108 109 110 126 153 154 160 161 162 178 190 208 209 216\n 237 258 264 278 281 287 302 353 357] are constant.\n  warnings.warn(\"Features %s are constant.\" % constant_features_idx, UserWarning)\n/shared-libs/python3.7/py/lib/python3.7/site-packages/sklearn/feature_selection/_univariate_selection.py:113: RuntimeWarning: invalid value encountered in true_divide\n  f = msb / msw\nClassifier: GradientBoostingClassifier(random_state=42)\nBest Parameters:\n{'clf__learning_rate': 0.1, 'clf__max_depth': 4}\nFitting 5 folds for each of 9 candidates, totalling 45 fits\n/shared-libs/python3.7/py/lib/python3.7/site-packages/sklearn/feature_selection/_univariate_selection.py:112: UserWarning: Features [ 11  38  39  84 108 109 110 126 153 154 160 161 162 178 190 208 209 216\n 237 258 264 278 281 287 302 353 357] are constant.\n  warnings.warn(\"Features %s are constant.\" % constant_features_idx, UserWarning)\n/shared-libs/python3.7/py/lib/python3.7/site-packages/sklearn/feature_selection/_univariate_selection.py:113: RuntimeWarning: invalid value encountered in true_divide\n  f = msb / msw\nClassifier: RandomForestClassifier(n_jobs=-1, random_state=42)\nBest Parameters:\n{'clf__max_depth': 6, 'clf__n_estimators': 150}\nFitting 5 folds for each of 9 candidates, totalling 45 fits\n/shared-libs/python3.7/py/lib/python3.7/site-packages/sklearn/feature_selection/_univariate_selection.py:112: UserWarning: Features [ 11  38  39  84 108 109 110 126 153 154 160 161 162 178 190 208 209 216\n 237 258 264 278 281 287 302 353 357] are constant.\n  warnings.warn(\"Features %s are constant.\" % constant_features_idx, UserWarning)\n/shared-libs/python3.7/py/lib/python3.7/site-packages/sklearn/feature_selection/_univariate_selection.py:113: RuntimeWarning: invalid value encountered in true_divide\n  f = msb / msw\nClassifier: ExtraTreesClassifier(n_jobs=-1, random_state=42)\nBest Parameters:\n{'clf__max_depth': 6, 'clf__n_estimators': 100}\nFitting 5 folds for each of 6 candidates, totalling 30 fits\n/shared-libs/python3.7/py/lib/python3.7/site-packages/sklearn/feature_selection/_univariate_selection.py:112: UserWarning: Features [ 11  38  39  84 108 109 110 126 153 154 160 161 162 178 190 208 209 216\n 237 258 264 278 281 287 302 353 357] are constant.\n  warnings.warn(\"Features %s are constant.\" % constant_features_idx, UserWarning)\n/shared-libs/python3.7/py/lib/python3.7/site-packages/sklearn/feature_selection/_univariate_selection.py:113: RuntimeWarning: invalid value encountered in true_divide\n  f = msb / msw\nClassifier: AdaBoostClassifier()\nBest Parameters:\n{'clf__learning_rate': 1, 'clf__n_estimators': 150}\nFitting 5 folds for each of 27 candidates, totalling 135 fits\n/shared-libs/python3.7/py/lib/python3.7/site-packages/sklearn/feature_selection/_univariate_selection.py:112: UserWarning: Features [ 11  38  39  84 108 109 110 126 153 154 160 161 162 178 190 208 209 216\n 237 258 264 278 281 287 302 353 357] are constant.\n  warnings.warn(\"Features %s are constant.\" % constant_features_idx, UserWarning)\n/shared-libs/python3.7/py/lib/python3.7/site-packages/sklearn/feature_selection/_univariate_selection.py:113: RuntimeWarning: invalid value encountered in true_divide\n  f = msb / msw\nClassifier: SGDClassifier(loss='log', random_state=1)\nBest Parameters:\n{'clf__alpha': 0.01, 'clf__l1_ratio': 0.15, 'clf__penalty': 'elasticnet'}\nFitting 5 folds for each of 18 candidates, totalling 90 fits\n/shared-libs/python3.7/py/lib/python3.7/site-packages/sklearn/feature_selection/_univariate_selection.py:112: UserWarning: Features [ 11  38  39  84 108 109 110 126 153 154 160 161 162 178 190 208 209 216\n 237 258 264 278 281 287 302 353 357] are constant.\n  warnings.warn(\"Features %s are constant.\" % constant_features_idx, UserWarning)\n/shared-libs/python3.7/py/lib/python3.7/site-packages/sklearn/feature_selection/_univariate_selection.py:113: RuntimeWarning: invalid value encountered in true_divide\n  f = msb / msw\nClassifier: XGBClassifier(base_score=None, booster=None, callbacks=None,\n              colsample_bylevel=None, colsample_bynode=None,\n              colsample_bytree=None, early_stopping_rounds=None,\n              enable_categorical=False, eval_metric='auc', gamma=None,\n              gpu_id=None, grow_policy=None, importance_type=None,\n              interaction_constraints=None, learning_rate=None, max_bin=None,\n              max_cat_to_onehot=None, max_delta_step=None, max_depth=None,\n              max_leaves=None, min_child_weight=None, missing=nan,\n              monotone_constraints=None, n_estimators=100, n_jobs=-1,\n              num_parallel_tree=None, predictor=None, random_state=42,\n              reg_alpha=None, reg_lambda=None, ...)\nBest Parameters:\n{'clf__gamma': 0.3, 'clf__learning_rate': 0.2, 'clf__max_depth': 4}\nFitting 5 folds for each of 384 candidates, totalling 1920 fits\n/shared-libs/python3.7/py/lib/python3.7/site-packages/sklearn/feature_selection/_univariate_selection.py:112: UserWarning: Features [ 11  38  39  84 108 109 110 126 153 154 160 161 162 178 190 208 209 216\n 237 258 264 278 281 287 302 353 357] are constant.\n  warnings.warn(\"Features %s are constant.\" % constant_features_idx, UserWarning)\n/shared-libs/python3.7/py/lib/python3.7/site-packages/sklearn/feature_selection/_univariate_selection.py:113: RuntimeWarning: invalid value encountered in true_divide\n  f = msb / msw\nClassifier: LGBMClassifier()\nBest Parameters:\n{'clf__boosting_type': 'gbdt', 'clf__colsample_bytree': 0.65, 'clf__learning_rate': 0.1, 'clf__max_bin': 255, 'clf__n_estimators': 32, 'clf__num_leaves': 32, 'clf__objective': 'binary', 'clf__random_state': 1500, 'clf__reg_alpha': 1.2, 'clf__reg_lambda': 1.6, 'clf__subsample': 0.7}\n",
     "output_type": "stream"
    }
   ]
  },
  {
   "cell_type": "code",
   "metadata": {
    "cell_id": "155cb8d97d6e435ba6ba5886bca49a11",
    "tags": [],
    "deepnote_to_be_reexecuted": false,
    "source_hash": "841ad6e1",
    "execution_start": 1650132322467,
    "execution_millis": 40,
    "deepnote_cell_type": "code",
    "deepnote_cell_height": 577
   },
   "source": "# Results sorted by Test ROC-AUC with SelectKBest\npd.DataFrame(result).sort_values(by='Test ROC-AUC Score', ascending=False).reset_index(drop=True)",
   "execution_count": null,
   "outputs": [
    {
     "output_type": "execute_result",
     "execution_count": 42,
     "data": {
      "application/vnd.deepnote.dataframe.v3+json": {
       "column_count": 8,
       "row_count": 9,
       "columns": [
        {
         "name": "Classifier",
         "dtype": "object",
         "stats": {
          "unique_count": 9,
          "nan_count": 0,
          "categories": [
           {
            "name": "ExtraTreesClassifier(n_jobs=-1, random_state=42)",
            "count": 1
           },
           {
            "name": "RandomForestClassifier(n_jobs=-1, random_state=42)",
            "count": 1
           },
           {
            "name": "7 others",
            "count": 7
           }
          ]
         }
        },
        {
         "name": "Train ROC-AUC Score",
         "dtype": "float64",
         "stats": {
          "unique_count": 9,
          "nan_count": 0,
          "min": "0.6701614895222073",
          "max": "0.7944937823720544",
          "histogram": [
           {
            "bin_start": 0.6701614895222073,
            "bin_end": 0.682594718807192,
            "count": 1
           },
           {
            "bin_start": 0.682594718807192,
            "bin_end": 0.6950279480921767,
            "count": 3
           },
           {
            "bin_start": 0.6950279480921767,
            "bin_end": 0.7074611773771614,
            "count": 0
           },
           {
            "bin_start": 0.7074611773771614,
            "bin_end": 0.7198944066621461,
            "count": 0
           },
           {
            "bin_start": 0.7198944066621461,
            "bin_end": 0.7323276359471309,
            "count": 0
           },
           {
            "bin_start": 0.7323276359471309,
            "bin_end": 0.7447608652321156,
            "count": 0
           },
           {
            "bin_start": 0.7447608652321156,
            "bin_end": 0.7571940945171003,
            "count": 1
           },
           {
            "bin_start": 0.7571940945171003,
            "bin_end": 0.769627323802085,
            "count": 0
           },
           {
            "bin_start": 0.769627323802085,
            "bin_end": 0.7820605530870697,
            "count": 1
           },
           {
            "bin_start": 0.7820605530870697,
            "bin_end": 0.7944937823720544,
            "count": 3
           }
          ]
         }
        },
        {
         "name": "Test ROC-AUC Score",
         "dtype": "float64",
         "stats": {
          "unique_count": 9,
          "nan_count": 0,
          "min": "0.5649699284995225",
          "max": "0.7357859459831531",
          "histogram": [
           {
            "bin_start": 0.5649699284995225,
            "bin_end": 0.5820515302478856,
            "count": 1
           },
           {
            "bin_start": 0.5820515302478856,
            "bin_end": 0.5991331319962486,
            "count": 0
           },
           {
            "bin_start": 0.5991331319962486,
            "bin_end": 0.6162147337446117,
            "count": 2
           },
           {
            "bin_start": 0.6162147337446117,
            "bin_end": 0.6332963354929747,
            "count": 1
           },
           {
            "bin_start": 0.6332963354929747,
            "bin_end": 0.6503779372413379,
            "count": 0
           },
           {
            "bin_start": 0.6503779372413379,
            "bin_end": 0.6674595389897009,
            "count": 0
           },
           {
            "bin_start": 0.6674595389897009,
            "bin_end": 0.6845411407380639,
            "count": 0
           },
           {
            "bin_start": 0.6845411407380639,
            "bin_end": 0.701622742486427,
            "count": 0
           },
           {
            "bin_start": 0.701622742486427,
            "bin_end": 0.71870434423479,
            "count": 3
           },
           {
            "bin_start": 0.71870434423479,
            "bin_end": 0.7357859459831531,
            "count": 2
           }
          ]
         }
        },
        {
         "name": "F1",
         "dtype": "float64",
         "stats": {
          "unique_count": 9,
          "nan_count": 0,
          "min": "0.19047619047619047",
          "max": "0.27649769585253453",
          "histogram": [
           {
            "bin_start": 0.19047619047619047,
            "bin_end": 0.19907834101382488,
            "count": 1
           },
           {
            "bin_start": 0.19907834101382488,
            "bin_end": 0.2076804915514593,
            "count": 0
           },
           {
            "bin_start": 0.2076804915514593,
            "bin_end": 0.2162826420890937,
            "count": 0
           },
           {
            "bin_start": 0.2162826420890937,
            "bin_end": 0.22488479262672809,
            "count": 2
           },
           {
            "bin_start": 0.22488479262672809,
            "bin_end": 0.2334869431643625,
            "count": 3
           },
           {
            "bin_start": 0.2334869431643625,
            "bin_end": 0.2420890937019969,
            "count": 0
           },
           {
            "bin_start": 0.2420890937019969,
            "bin_end": 0.2506912442396313,
            "count": 0
           },
           {
            "bin_start": 0.2506912442396313,
            "bin_end": 0.2592933947772657,
            "count": 0
           },
           {
            "bin_start": 0.2592933947772657,
            "bin_end": 0.2678955453149001,
            "count": 0
           },
           {
            "bin_start": 0.2678955453149001,
            "bin_end": 0.27649769585253453,
            "count": 3
           }
          ]
         }
        },
        {
         "name": "Precision",
         "dtype": "float64",
         "stats": {
          "unique_count": 9,
          "nan_count": 0,
          "min": "0.13006756756756757",
          "max": "0.29896907216494845",
          "histogram": [
           {
            "bin_start": 0.13006756756756757,
            "bin_end": 0.14695771802730567,
            "count": 5
           },
           {
            "bin_start": 0.14695771802730567,
            "bin_end": 0.16384786848704375,
            "count": 0
           },
           {
            "bin_start": 0.16384786848704375,
            "bin_end": 0.18073801894678182,
            "count": 0
           },
           {
            "bin_start": 0.18073801894678182,
            "bin_end": 0.19762816940651992,
            "count": 0
           },
           {
            "bin_start": 0.19762816940651992,
            "bin_end": 0.21451831986625802,
            "count": 0
           },
           {
            "bin_start": 0.21451831986625802,
            "bin_end": 0.2314084703259961,
            "count": 0
           },
           {
            "bin_start": 0.2314084703259961,
            "bin_end": 0.24829862078573417,
            "count": 2
           },
           {
            "bin_start": 0.24829862078573417,
            "bin_end": 0.26518877124547224,
            "count": 0
           },
           {
            "bin_start": 0.26518877124547224,
            "bin_end": 0.2820789217052103,
            "count": 0
           },
           {
            "bin_start": 0.2820789217052103,
            "bin_end": 0.29896907216494845,
            "count": 2
           }
          ]
         }
        },
        {
         "name": "Recall",
         "dtype": "float64",
         "stats": {
          "unique_count": 8,
          "nan_count": 0,
          "min": "0.15789473684210525",
          "max": "0.7280701754385965",
          "histogram": [
           {
            "bin_start": 0.15789473684210525,
            "bin_end": 0.2149122807017544,
            "count": 1
           },
           {
            "bin_start": 0.2149122807017544,
            "bin_end": 0.27192982456140347,
            "count": 2
           },
           {
            "bin_start": 0.27192982456140347,
            "bin_end": 0.3289473684210526,
            "count": 1
           },
           {
            "bin_start": 0.3289473684210526,
            "bin_end": 0.38596491228070173,
            "count": 0
           },
           {
            "bin_start": 0.38596491228070173,
            "bin_end": 0.44298245614035087,
            "count": 0
           },
           {
            "bin_start": 0.44298245614035087,
            "bin_end": 0.49999999999999994,
            "count": 0
           },
           {
            "bin_start": 0.49999999999999994,
            "bin_end": 0.5570175438596491,
            "count": 0
           },
           {
            "bin_start": 0.5570175438596491,
            "bin_end": 0.6140350877192982,
            "count": 0
           },
           {
            "bin_start": 0.6140350877192982,
            "bin_end": 0.6710526315789473,
            "count": 1
           },
           {
            "bin_start": 0.6710526315789473,
            "bin_end": 0.7280701754385965,
            "count": 4
           }
          ]
         }
        },
        {
         "name": "Accuracy",
         "dtype": "float64",
         "stats": {
          "unique_count": 8,
          "nan_count": 0,
          "min": "0.7426846261031119",
          "max": "0.9289363678588016",
          "histogram": [
           {
            "bin_start": 0.7426846261031119,
            "bin_end": 0.7613098002786809,
            "count": 4
           },
           {
            "bin_start": 0.7613098002786809,
            "bin_end": 0.7799349744542499,
            "count": 1
           },
           {
            "bin_start": 0.7799349744542499,
            "bin_end": 0.7985601486298188,
            "count": 0
           },
           {
            "bin_start": 0.7985601486298188,
            "bin_end": 0.8171853228053878,
            "count": 0
           },
           {
            "bin_start": 0.8171853228053878,
            "bin_end": 0.8358104969809568,
            "count": 0
           },
           {
            "bin_start": 0.8358104969809568,
            "bin_end": 0.8544356711565257,
            "count": 0
           },
           {
            "bin_start": 0.8544356711565257,
            "bin_end": 0.8730608453320947,
            "count": 0
           },
           {
            "bin_start": 0.8730608453320947,
            "bin_end": 0.8916860195076637,
            "count": 0
           },
           {
            "bin_start": 0.8916860195076637,
            "bin_end": 0.9103111936832327,
            "count": 1
           },
           {
            "bin_start": 0.9103111936832327,
            "bin_end": 0.9289363678588016,
            "count": 3
           }
          ]
         }
        },
        {
         "name": "Time",
         "dtype": "float64",
         "stats": {
          "unique_count": 9,
          "nan_count": 0,
          "min": "-0.0052972659996157745",
          "max": "0.07209106300069834",
          "histogram": [
           {
            "bin_start": -0.0052972659996157745,
            "bin_end": 0.002441566900415637,
            "count": 6
           },
           {
            "bin_start": 0.002441566900415637,
            "bin_end": 0.010180399800447049,
            "count": 1
           },
           {
            "bin_start": 0.010180399800447049,
            "bin_end": 0.01791923270047846,
            "count": 0
           },
           {
            "bin_start": 0.01791923270047846,
            "bin_end": 0.02565806560050987,
            "count": 0
           },
           {
            "bin_start": 0.02565806560050987,
            "bin_end": 0.03339689850054128,
            "count": 1
           },
           {
            "bin_start": 0.03339689850054128,
            "bin_end": 0.041135731400572695,
            "count": 0
           },
           {
            "bin_start": 0.041135731400572695,
            "bin_end": 0.048874564300604106,
            "count": 0
           },
           {
            "bin_start": 0.048874564300604106,
            "bin_end": 0.05661339720063552,
            "count": 0
           },
           {
            "bin_start": 0.05661339720063552,
            "bin_end": 0.06435223010066693,
            "count": 0
           },
           {
            "bin_start": 0.06435223010066693,
            "bin_end": 0.07209106300069834,
            "count": 1
           }
          ]
         }
        },
        {
         "name": "_deepnote_index_column",
         "dtype": "int64"
        }
       ],
       "rows": [
        {
         "Classifier": "ExtraTreesClassifier(n_jobs=-1, random_state=42)",
         "Train ROC-AUC Score": 0.7745968007278615,
         "Test ROC-AUC Score": 0.7357859459831531,
         "F1": 0.2305555555555555,
         "Precision": 0.13696369636963696,
         "Recall": 0.7280701754385965,
         "Accuracy": 0.7426846261031119,
         "Time": -0.00011591300062718801,
         "_deepnote_index_column": 0
        },
        {
         "Classifier": "RandomForestClassifier(n_jobs=-1, random_state=42)",
         "Train ROC-AUC Score": 0.7518456422243649,
         "Test ROC-AUC Score": 0.7250802336886847,
         "F1": 0.22630834512022632,
         "Precision": 0.13490725126475547,
         "Recall": 0.7017543859649122,
         "Accuracy": 0.7459359033906178,
         "Time": -0.0052972659996157745,
         "_deepnote_index_column": 1
        },
        {
         "Classifier": "LogisticRegression(max_iter=1000, random_state=42, solver='liblinear')",
         "Train ROC-AUC Score": 0.7944937823720544,
         "Test ROC-AUC Score": 0.7180807585417688,
         "F1": 0.23030303030303031,
         "Precision": 0.1391941391941392,
         "Recall": 0.6666666666666666,
         "Accuracy": 0.7640501625638644,
         "Time": 0.007366404001004412,
         "_deepnote_index_column": 2
        },
        {
         "Classifier": "SGDClassifier(loss='log', random_state=1)",
         "Train ROC-AUC Score": 0.7894234519827837,
         "Test ROC-AUC Score": 0.7151101761269285,
         "F1": 0.22286541244573085,
         "Precision": 0.13344887348353554,
         "Recall": 0.6754385964912281,
         "Accuracy": 0.7505805852299118,
         "Time": 0.03090859499934595,
         "_deepnote_index_column": 3
        },
        {
         "Classifier": "RidgeClassifier()",
         "Train ROC-AUC Score": 0.7860950492632214,
         "Test ROC-AUC Score": 0.7114319024633677,
         "F1": 0.21813031161473087,
         "Precision": 0.13006756756756757,
         "Recall": 0.6754385964912281,
         "Accuracy": 0.7436135624709708,
         "Time": 0.07209106300069834,
         "_deepnote_index_column": 4
        },
        {
         "Classifier": "AdaBoostClassifier()",
         "Train ROC-AUC Score": 0.6701614895222073,
         "Test ROC-AUC Score": 0.6289589840220955,
         "F1": 0.26865671641791045,
         "Precision": 0.23376623376623376,
         "Recall": 0.3157894736842105,
         "Accuracy": 0.9089642359498374,
         "Time": -0.0001612289997865446,
         "_deepnote_index_column": 5
        },
        {
         "Classifier": "LGBMClassifier()",
         "Train ROC-AUC Score": 0.6851660052777595,
         "Test ROC-AUC Score": 0.613678015539093,
         "F1": 0.27649769585253453,
         "Precision": 0.2912621359223301,
         "Recall": 0.2631578947368421,
         "Accuracy": 0.927078495123084,
         "Time": 0.0010142470000573667,
         "_deepnote_index_column": 6
        },
        {
         "Classifier": "GradientBoostingClassifier(random_state=42)",
         "Train ROC-AUC Score": 0.6898806066657702,
         "Test ROC-AUC Score": 0.6105181418479992,
         "F1": 0.27488151658767773,
         "Precision": 0.29896907216494845,
         "Recall": 0.2543859649122807,
         "Accuracy": 0.9289363678588016,
         "Time": 0.0005885889986529946,
         "_deepnote_index_column": 7
        },
        {
         "Classifier": "XGBClassifier(base_score=None, booster=None, callbacks=None,\n              colsample_bylevel=None, colsample_bynode=None,\n              colsample_bytree=None, early_stopping_rounds=None,\n              enable_categorical=False, eval_metric='auc', gamma=None,\n              gpu_id=None, grow_policy=None, importance_type=None,\n              interaction_constraints=None, learning_rate=None, max_bin=None,\n              max_cat_to_onehot=None, max_delta_step=None, max_depth=None,\n              max_leaves=None, min_child_weight=None, missing=nan,\n              monotone_constraints=None, n_estimators=100, n_jobs=-1,\n              num_parallel_tree=None, predictor=None, random_state=42,\n              reg_alpha=None, reg_lambda=None, ...)",
         "Train ROC-AUC Score": 0.6860941909358723,
         "Test ROC-AUC Score": 0.5649699284995225,
         "F1": 0.19047619047619047,
         "Precision": 0.24,
         "Recall": 0.15789473684210525,
         "Accuracy": 0.9289363678588016,
         "Time": -0.0021716190003644442,
         "_deepnote_index_column": 8
        }
       ]
      },
      "text/plain": "                                          Classifier  Train ROC-AUC Score  \\\n0   ExtraTreesClassifier(n_jobs=-1, random_state=42)             0.774597   \n1  RandomForestClassifier(n_jobs=-1, random_state...             0.751846   \n2  LogisticRegression(max_iter=1000, random_state...             0.794494   \n3          SGDClassifier(loss='log', random_state=1)             0.789423   \n4                                  RidgeClassifier()             0.786095   \n5                               AdaBoostClassifier()             0.670161   \n6                                   LGBMClassifier()             0.685166   \n7        GradientBoostingClassifier(random_state=42)             0.689881   \n8  XGBClassifier(base_score=None, booster=None, c...             0.686094   \n\n   Test ROC-AUC Score        F1  Precision    Recall  Accuracy      Time  \n0            0.735786  0.230556   0.136964  0.728070  0.742685 -0.000116  \n1            0.725080  0.226308   0.134907  0.701754  0.745936 -0.005297  \n2            0.718081  0.230303   0.139194  0.666667  0.764050  0.007366  \n3            0.715110  0.222865   0.133449  0.675439  0.750581  0.030909  \n4            0.711432  0.218130   0.130068  0.675439  0.743614  0.072091  \n5            0.628959  0.268657   0.233766  0.315789  0.908964 -0.000161  \n6            0.613678  0.276498   0.291262  0.263158  0.927078  0.001014  \n7            0.610518  0.274882   0.298969  0.254386  0.928936  0.000589  \n8            0.564970  0.190476   0.240000  0.157895  0.928936 -0.002172  ",
      "text/html": "<div>\n<style scoped>\n    .dataframe tbody tr th:only-of-type {\n        vertical-align: middle;\n    }\n\n    .dataframe tbody tr th {\n        vertical-align: top;\n    }\n\n    .dataframe thead th {\n        text-align: right;\n    }\n</style>\n<table border=\"1\" class=\"dataframe\">\n  <thead>\n    <tr style=\"text-align: right;\">\n      <th></th>\n      <th>Classifier</th>\n      <th>Train ROC-AUC Score</th>\n      <th>Test ROC-AUC Score</th>\n      <th>F1</th>\n      <th>Precision</th>\n      <th>Recall</th>\n      <th>Accuracy</th>\n      <th>Time</th>\n    </tr>\n  </thead>\n  <tbody>\n    <tr>\n      <th>0</th>\n      <td>ExtraTreesClassifier(n_jobs=-1, random_state=42)</td>\n      <td>0.774597</td>\n      <td>0.735786</td>\n      <td>0.230556</td>\n      <td>0.136964</td>\n      <td>0.728070</td>\n      <td>0.742685</td>\n      <td>-0.000116</td>\n    </tr>\n    <tr>\n      <th>1</th>\n      <td>RandomForestClassifier(n_jobs=-1, random_state...</td>\n      <td>0.751846</td>\n      <td>0.725080</td>\n      <td>0.226308</td>\n      <td>0.134907</td>\n      <td>0.701754</td>\n      <td>0.745936</td>\n      <td>-0.005297</td>\n    </tr>\n    <tr>\n      <th>2</th>\n      <td>LogisticRegression(max_iter=1000, random_state...</td>\n      <td>0.794494</td>\n      <td>0.718081</td>\n      <td>0.230303</td>\n      <td>0.139194</td>\n      <td>0.666667</td>\n      <td>0.764050</td>\n      <td>0.007366</td>\n    </tr>\n    <tr>\n      <th>3</th>\n      <td>SGDClassifier(loss='log', random_state=1)</td>\n      <td>0.789423</td>\n      <td>0.715110</td>\n      <td>0.222865</td>\n      <td>0.133449</td>\n      <td>0.675439</td>\n      <td>0.750581</td>\n      <td>0.030909</td>\n    </tr>\n    <tr>\n      <th>4</th>\n      <td>RidgeClassifier()</td>\n      <td>0.786095</td>\n      <td>0.711432</td>\n      <td>0.218130</td>\n      <td>0.130068</td>\n      <td>0.675439</td>\n      <td>0.743614</td>\n      <td>0.072091</td>\n    </tr>\n    <tr>\n      <th>5</th>\n      <td>AdaBoostClassifier()</td>\n      <td>0.670161</td>\n      <td>0.628959</td>\n      <td>0.268657</td>\n      <td>0.233766</td>\n      <td>0.315789</td>\n      <td>0.908964</td>\n      <td>-0.000161</td>\n    </tr>\n    <tr>\n      <th>6</th>\n      <td>LGBMClassifier()</td>\n      <td>0.685166</td>\n      <td>0.613678</td>\n      <td>0.276498</td>\n      <td>0.291262</td>\n      <td>0.263158</td>\n      <td>0.927078</td>\n      <td>0.001014</td>\n    </tr>\n    <tr>\n      <th>7</th>\n      <td>GradientBoostingClassifier(random_state=42)</td>\n      <td>0.689881</td>\n      <td>0.610518</td>\n      <td>0.274882</td>\n      <td>0.298969</td>\n      <td>0.254386</td>\n      <td>0.928936</td>\n      <td>0.000589</td>\n    </tr>\n    <tr>\n      <th>8</th>\n      <td>XGBClassifier(base_score=None, booster=None, c...</td>\n      <td>0.686094</td>\n      <td>0.564970</td>\n      <td>0.190476</td>\n      <td>0.240000</td>\n      <td>0.157895</td>\n      <td>0.928936</td>\n      <td>-0.002172</td>\n    </tr>\n  </tbody>\n</table>\n</div>"
     },
     "metadata": {}
    }
   ]
  },
  {
   "cell_type": "markdown",
   "source": "## 07. Summary\n\nWe have imbalance dataset where the minority is our positive class (WNV is present), and model built with the original dataset is predicting almost everything as negative class (WNV is not present). We addressed the issue by using oversampling through the SMOTE technique.\n\nWe look at the coefficient and the top 10 features using RidgeClassifier\" weather features like Sunrise, Dewpoint,  featured engineered like Relative Humidity, calculation from the peak day of the presence of WNV  (day_from_max_wnv) and also the rolling average (window function) of some weather features. \n\nWe built several models including deep learning with l1 regularizer, dropout and early stop, however this is still around 59% ROC.\n\nFrom the pipeline, using GridSearchCSV, ExtraTrees was chosen as best model, with 73% ROC and 74% Recall. To iterate, it will be vital to minimize the cases with false negatives as the resources will not be directed to those in need if the model is not predicting it correctly. As such, we will also have to prioritise the recall - how accurate the model is in identifying west nile virus.\n\nWe decided to send the prediction of all models to Kaggle to see how is the ROC-AUC score for each model.\nRidgeClassifier tops the ROC-AUC with a score of 70%, second is LR and SGD. Ridge and SGD are both estimators that implement regularized linear models.\n\nWe then built another set of pipeline that chooses 200 best features out of 363, with the assumption that selecting features will improve our model, however the result was not so different with  the original one.\n\nFor future improvement, we can further analyse how to incorporate spray in our models, and this will improve the false negative if we have more spray data for all years.\n\n**Public Score in Kaggle**\n\n| Model *********** | ROC-AUC *********| w SelectKBest |\n| ----------------- | ---------------- | --------------|\n| Ridge             |0.70132            |0.69609       |\n| LR                |0.68193            |0.68991       |\n| SGD               |0.67771            |0.69321       |\n| ADA               |0.65550            |0.55385       |\n| ET                |0.63570            |0.63139       |\n| RF                |0.63302            |0.62832       |\n| LGBM              | 0.61089           |0.61815       |\n| GB                |0.59286            |0.61269       |\n| XGB               |0.58463           |0.57325       |\n",
   "metadata": {
    "cell_id": "75264035bb804a79a95fa46a5aae0f8d",
    "tags": [],
    "owner_user_id": "96967540-d7fa-4f04-9fd2-398c2d9782cc",
    "deepnote_cell_type": "markdown",
    "deepnote_cell_height": 1634.9375
   }
  },
  {
   "cell_type": "markdown",
   "source": "",
   "metadata": {
    "cell_id": "31bfdc48ee48454eb2459880ec891a16",
    "tags": [],
    "deepnote_cell_type": "markdown",
    "deepnote_cell_height": 46
   }
  },
  {
   "cell_type": "markdown",
   "source": "<a style='text-decoration:none;line-height:16px;display:flex;color:#5B5B62;padding:10px;justify-content:end;' href='https://deepnote.com?utm_source=created-in-deepnote-cell&projectId=3abded61-2db4-446b-a02d-565b62921f1b' target=\"_blank\">\n<img alt='Created in deepnote.com' style='display:inline;max-height:16px;margin:0px;margin-right:7.5px;' src='data:image/svg+xml;base64,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' > </img>\nCreated in <span style='font-weight:600;margin-left:4px;'>Deepnote</span></a>",
   "metadata": {
    "tags": [],
    "created_in_deepnote_cell": true,
    "deepnote_cell_type": "markdown"
   }
  }
 ],
 "nbformat": 4,
 "nbformat_minor": 2,
 "metadata": {
  "deepnote": {
   "is_reactive": false
  },
  "deepnote_execution_queue": [],
  "deepnote_notebook_id": "7b4728e3-e744-42bd-897f-939a8f5b6c31",
  "kernelspec": {
   "display_name": "Python 3",
   "language": "python",
   "name": "python3"
  },
  "language_info": {
   "codemirror_mode": {
    "name": "ipython",
    "version": 3
   },
   "file_extension": ".py",
   "mimetype": "text/x-python",
   "name": "python",
   "nbconvert_exporter": "python",
   "pygments_lexer": "ipython3",
   "version": "3.8.8"
  }
 }
}